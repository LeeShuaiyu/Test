{
 "cells": [
  {
   "cell_type": "code",
   "execution_count": 69,
   "id": "c01ee1a9",
   "metadata": {
    "pycharm": {
     "is_executing": true
    }
   },
   "outputs": [],
   "source": [
    "import numpy as np\n",
    "import torch\n",
    "import math\n",
    "import pandas as pd\n",
    "import matplotlib.pyplot as plt\n",
    "import matplotlib.image as mping \n",
    "import cmath\n",
    "from torch import nn\n",
    "import random\n",
    "from torch.utils import data"
   ]
  },
  {
   "cell_type": "code",
   "execution_count": 2,
   "id": "b00d248c",
   "metadata": {},
   "outputs": [],
   "source": [
    "class generator_t:\n",
    "    def __init__(self,df,mu = 0, sigma = 1,samplesize = 1000, h = 0.01):\n",
    "        self.df = df\n",
    "        self.mu = mu\n",
    "        self.sigma = sigma\n",
    "        self.samplesize = samplesize\n",
    "        self.frequency = h\n",
    "    @staticmethod\n",
    "    def cumulate(delta):\n",
    "        data = torch.zeros(np.shape(delta))\n",
    "        n = np.shape(delta)[0]\n",
    "        for i in range(n-1):\n",
    "            data[i+1] = data[i]+delta[i]\n",
    "        return np.array(data)\n",
    "    \n",
    "    def generate_standard_t(self):\n",
    "        d0 = np.random.standard_t(self.df, (self.samplesize,1))\n",
    "        d1 = self.cumulate(d0)\n",
    "        delta = torch.tensor(d0)\n",
    "        data = torch.tensor(d1)\n",
    "        delta.requires_grad_(True)  # 等价于x=torch.arange(4.0,requires_grad=True)\n",
    "        return delta,data"
   ]
  },
  {
   "cell_type": "markdown",
   "id": "bf436379",
   "metadata": {},
   "source": [
    "### Characteristic Function"
   ]
  },
  {
   "cell_type": "code",
   "execution_count": 55,
   "id": "96b3715f",
   "metadata": {},
   "outputs": [],
   "source": [
    "class Characteristic_function:\n",
    "    def __init__(self,data):\n",
    "        self.data = data   \n",
    "    def ecf(self,t):\n",
    "        n = len(self.data)\n",
    "        if type(t)== int:\n",
    "            C = torch.zeros((n,1))\n",
    "            S = torch.zeros((n,1))\n",
    "            for i in range(n):\n",
    "                C[i] = math.cos(t*self.data[i])\n",
    "                S[i] = math.sin(t*self.data[i])\n",
    "            s = torch.mean(S)\n",
    "            c = torch.mean(C)\n",
    "            return c,s                \n",
    "        else:    \n",
    "            m = len(t)\n",
    "            C = torch.zeros((n,1))\n",
    "            S = torch.zeros((n,1))\n",
    "            R = torch.zeros((m,2))\n",
    "            for j in range(m):\n",
    "                for i in range(n):\n",
    "                    C[i] = math.cos(t[j]*self.data[i])\n",
    "                    S[i] = math.sin(t[j]*self.data[i])\n",
    "                s = float(torch.mean(S))\n",
    "                c = float(torch.mean(C))\n",
    "                R[j,0] = c\n",
    "                R[j,1] = s\n",
    "        return R\n",
    "    def ecf_h(self,t,h):\n",
    "        n = len(self.data)\n",
    "        if type(t)== int:\n",
    "            C = torch.zeros((n,1))\n",
    "            S = torch.zeros((n,1))\n",
    "            for i in range(n):\n",
    "                C[i] = math.cos(t*self.data[i])\n",
    "                S[i] = math.sin(t*self.data[i])\n",
    "            s = torch.mean(S)\n",
    "            c = torch.mean(C)\n",
    "            f = complex(c,s)\n",
    "            q,w = cmath.polar(f)\n",
    "            q = q**h\n",
    "            w = w*h\n",
    "            c = math.cos(w)*q\n",
    "            s = math.sin(w)*q\n",
    "            return c,s                \n",
    "        else:    \n",
    "            m = len(t)\n",
    "            C = torch.zeros((n,1))\n",
    "            S = torch.zeros((n,1))\n",
    "            R = torch.zeros((m,2))\n",
    "            for j in range(m):\n",
    "                for i in range(n):\n",
    "                    C[i] = math.cos(t[j]*self.data[i])\n",
    "                    S[i] = math.sin(t[j]*self.data[i])\n",
    "                s = torch.mean(S)\n",
    "                c = torch.mean(C)\n",
    "                f = complex(c,s)\n",
    "                q,w = cmath.polar(f)\n",
    "                q = q**h\n",
    "                w = w*h\n",
    "                c = math.cos(w)*q\n",
    "                s = math.sin(w)*q\n",
    "                R[j,0] = c\n",
    "                R[j,1] = s\n",
    "        return R\n"
   ]
  },
  {
   "cell_type": "code",
   "execution_count": 118,
   "id": "fe7d6ab1",
   "metadata": {},
   "outputs": [],
   "source": [
    "class Characteristic_function:\n",
    "    def __init__(self,data):\n",
    "        self.data = data   \n",
    "    def ecf(self,t):\n",
    "        n = len(self.data)\n",
    "        if type(t)== int:\n",
    "            C = torch.zeros((n,1))\n",
    "            S = torch.zeros((n,1))\n",
    "            for i in range(n):\n",
    "                C[i] = math.cos(t*self.data[i])\n",
    "                S[i] = math.sin(t*self.data[i])\n",
    "            s = torch.mean(S)\n",
    "            c = torch.mean(C)\n",
    "            return c,s                \n",
    "        else:    \n",
    "            m = len(t)\n",
    "            R = []\n",
    "            for j in range(m):\n",
    "                S = []\n",
    "                C = []\n",
    "                for i in range(n):\n",
    "                    C.append(math.cos(t[j]*self.data[i]))\n",
    "                    S.append(math.sin(t[j]*self.data[i]))\n",
    "                S = torch.tensor(S,dtype = torch.float64)\n",
    "                C = torch.tensor(C,dtype = torch.float64)\n",
    "                s = float(torch.mean(S))\n",
    "                c = float(torch.mean(C))\n",
    "                R.append(c)\n",
    "                R.append(s)\n",
    "            R = torch.tensor(R,dtype = torch.float64)\n",
    "        return R\n",
    "    def ecf_h(self,t,h):\n",
    "        n = len(self.data)\n",
    "        if type(t)== int:\n",
    "            C = torch.zeros((n,1))\n",
    "            S = torch.zeros((n,1))\n",
    "            for i in range(n):\n",
    "                C[i] = math.cos(t*self.data[i])\n",
    "                S[i] = math.sin(t*self.data[i])\n",
    "            s = torch.mean(S)\n",
    "            c = torch.mean(C)\n",
    "            f = complex(c,s)\n",
    "            q,w = cmath.polar(f)\n",
    "            q = q**h\n",
    "            w = w*h\n",
    "            c = math.cos(w)*q\n",
    "            s = math.sin(w)*q\n",
    "            return c,s                \n",
    "        else:    \n",
    "            m = len(t)\n",
    "            C = torch.zeros((n,1))\n",
    "            S = torch.zeros((n,1))\n",
    "            R = torch.zeros((m,2))\n",
    "            for j in range(m):\n",
    "                for i in range(n):\n",
    "                    C[i] = math.cos(t[j]*self.data[i])\n",
    "                    S[i] = math.sin(t[j]*self.data[i])\n",
    "                s = torch.mean(S)\n",
    "                c = torch.mean(C)\n",
    "                f = complex(c,s)\n",
    "                q,w = cmath.polar(f)\n",
    "                q = q**h\n",
    "                w = w*h\n",
    "                c = math.cos(w)*q\n",
    "                s = math.sin(w)*q\n",
    "                R[j,0] = c\n",
    "                R[j,1] = s\n",
    "        return R\n"
   ]
  },
  {
   "cell_type": "code",
   "execution_count": 137,
   "id": "fd382f2c",
   "metadata": {},
   "outputs": [],
   "source": [
    "num_feature = 20\n",
    "range_feature = 10\n",
    "num_t = 10\n",
    "range_t = 5\n",
    "num_labels = num_t\n",
    "num_sample = 15\n",
    "total = num_sample*num_feature\n",
    "t = torch.linspace(-range_t,range_t,num_t)\n",
    "t = t.reshape((-1,len(t)))\n",
    "x = torch.linspace(-range_feature,range_feature,num_feature)"
   ]
  },
  {
   "cell_type": "code",
   "execution_count": 138,
   "id": "e8cbce9d",
   "metadata": {},
   "outputs": [],
   "source": [
    "#实例化(V =3)\n",
    "Gen3 = generator_t(3,samplesize =total)\n",
    "\n",
    "delta,path = Gen3.generate_standard_t()\n",
    "Chf = Characteristic_function(delta)"
   ]
  },
  {
   "cell_type": "code",
   "execution_count": 152,
   "id": "89beae93",
   "metadata": {},
   "outputs": [],
   "source": [
    "a = []\n",
    "for i in range(num_sample):\n",
    "    delta,path = Gen3.generate_standard_t()\n",
    "    Chf = Characteristic_function(delta)\n",
    "    labels = Chf.ecf(t).reshape((1,-1))\n",
    "    a.append([x.reshape((-1,len(x))),labels])\n"
   ]
  },
  {
   "cell_type": "code",
   "execution_count": 155,
   "id": "23dcd782",
   "metadata": {},
   "outputs": [
    {
     "data": {
      "text/plain": [
       "tensor([[-10.0000,  -8.9474,  -7.8947,  -6.8421,  -5.7895,  -4.7368,  -3.6842,\n",
       "          -2.6316,  -1.5789,  -0.5263,   0.5263,   1.5789,   2.6316,   3.6842,\n",
       "           4.7368,   5.7895,   6.8421,   7.8947,   8.9474,  10.0000]])"
      ]
     },
     "execution_count": 155,
     "metadata": {},
     "output_type": "execute_result"
    }
   ],
   "source": [
    "a[0][0]"
   ]
  },
  {
   "cell_type": "code",
   "execution_count": 127,
   "id": "5024595f",
   "metadata": {},
   "outputs": [
    {
     "data": {
      "text/plain": [
       "tensor([0.0751], dtype=torch.float64)"
      ]
     },
     "execution_count": 127,
     "metadata": {},
     "output_type": "execute_result"
    }
   ],
   "source": [
    "df = pd.DataFrame(a)\n",
    "features = df[0]\n",
    "labels = df[1]\n",
    "df[1][0][0]"
   ]
  },
  {
   "cell_type": "code",
   "execution_count": 128,
   "id": "ed121310",
   "metadata": {},
   "outputs": [],
   "source": [
    "def load_array(data_arrays, batch_size, is_train=True):  #@save\n",
    "    \"\"\"构造一个PyTorch数据迭代器\"\"\"\n",
    "    dataset = data.TensorDataset(*data_arrays)\n",
    "    return data.DataLoader(dataset, batch_size, shuffle=is_train)\n"
   ]
  },
  {
   "cell_type": "code",
   "execution_count": 158,
   "id": "041ba990",
   "metadata": {},
   "outputs": [],
   "source": [
    "D_loader = data.DataLoader(a, 2, shuffle=False)"
   ]
  },
  {
   "cell_type": "code",
   "execution_count": 159,
   "id": "2cccea25",
   "metadata": {},
   "outputs": [
    {
     "data": {
      "text/plain": [
       "[tensor([[[-10.0000,  -8.9474,  -7.8947,  -6.8421,  -5.7895,  -4.7368,  -3.6842,\n",
       "            -2.6316,  -1.5789,  -0.5263,   0.5263,   1.5789,   2.6316,   3.6842,\n",
       "             4.7368,   5.7895,   6.8421,   7.8947,   8.9474,  10.0000]],\n",
       " \n",
       "         [[-10.0000,  -8.9474,  -7.8947,  -6.8421,  -5.7895,  -4.7368,  -3.6842,\n",
       "            -2.6316,  -1.5789,  -0.5263,   0.5263,   1.5789,   2.6316,   3.6842,\n",
       "             4.7368,   5.7895,   6.8421,   7.8947,   8.9474,  10.0000]]]),\n",
       " tensor([[[ 0.0035,  0.0516,  0.0168, -0.0158,  0.0281, -0.0201,  0.2111,\n",
       "            0.0343,  0.7340,  0.0208,  0.7340, -0.0208,  0.2111, -0.0343,\n",
       "            0.0281,  0.0201,  0.0168,  0.0158,  0.0035, -0.0516]],\n",
       " \n",
       "         [[ 0.0179,  0.0822,  0.0614,  0.0356,  0.1044, -0.0821,  0.2831,\n",
       "           -0.0752,  0.7684, -0.0202,  0.7684,  0.0202,  0.2831,  0.0752,\n",
       "            0.1044,  0.0821,  0.0614, -0.0356,  0.0179, -0.0822]]],\n",
       "        dtype=torch.float64)]"
      ]
     },
     "execution_count": 159,
     "metadata": {},
     "output_type": "execute_result"
    }
   ],
   "source": [
    "next(iter(D_loader)) "
   ]
  },
  {
   "cell_type": "code",
   "execution_count": 175,
   "id": "dc8c5fad",
   "metadata": {},
   "outputs": [],
   "source": [
    "# 初始化参数定义\n",
    "\n",
    "\n",
    "hidden_2, hidden_3 = 256, 256\n",
    "\n",
    "W1 = nn.Parameter(torch.randn(\n",
    "    num_feature, hidden_2, requires_grad=True,dtype = torch.float64) * 0.01)\n",
    "b1 = nn.Parameter(torch.zeros(hidden_2, requires_grad=True,dtype = torch.float64))\n",
    "\n",
    "W2 = nn.Parameter(torch.randn(\n",
    "    hidden_2, hidden_3, requires_grad=True,dtype = torch.float64) * 0.01)\n",
    "b2 = nn.Parameter(torch.zeros(hidden_3, requires_grad=True,dtype = torch.float64))\n",
    "\n",
    "W3 = nn.Parameter(torch.randn(\n",
    "    hidden_3, num_feature, requires_grad=True,dtype = torch.float64) * 0.01)\n",
    "b3 = nn.Parameter(torch.zeros(num_feature, requires_grad=True,dtype = torch.float64))\n",
    "\n",
    "\n",
    "params = [W1, b1, W2, b2, W3, b3]"
   ]
  },
  {
   "cell_type": "code",
   "execution_count": 170,
   "id": "6ef08517",
   "metadata": {},
   "outputs": [],
   "source": [
    "#激活函数\n",
    "def relu(X):\n",
    "    a = torch.zeros_like(X)\n",
    "    b = torch.max(X, a)\n",
    "    return torch.tensor(b,dtype = torch.float64)"
   ]
  },
  {
   "cell_type": "markdown",
   "id": "9ed97278",
   "metadata": {},
   "source": [
    "## $\\phi(t) = \\exp\\{\\frac{1}{20}\\sum_{j=1}^{40}(e^{itx_j}-1-itx\\mathbb{1}_{|x_j|\\leq 1})\\mathbf{\\nu}_\\theta(x_j)\\}$\n",
    "## $\\phi(t) = \\exp\\{\\frac{1}{20}\\mathbf{Y(X,T)}^T\\mathbf{\\nu}_\\theta(X)\\}$"
   ]
  },
  {
   "cell_type": "code",
   "execution_count": 177,
   "id": "b7bd0d39",
   "metadata": {},
   "outputs": [],
   "source": [
    "# Levy-Khintchine representation\n",
    "def I(x):\n",
    "    I = torch.ones(x.shape,dtype=torch.float64)\n",
    "    x = abs(x)\n",
    "    for i in range(len(x)):\n",
    "        if x[i]>1:\n",
    "            I[i] = 0\n",
    "    return I\n",
    "# indicator function\n",
    "def z(x):\n",
    "    if abs(x)>1:\n",
    "        return 0 \n",
    "    else:\n",
    "        return 1\n",
    "def Euler_exp(x,t):\n",
    "    n = len(x)\n",
    "    m = len(t)\n",
    "    y = torch.zeros((m,n),dtype = torch.float64)\n",
    "    for i in range(m):\n",
    "        for j in range(n):\n",
    "            y[i][j]=torch.exp(x[j]*t[i]*1j)-1-1j*t[i]*x[j]*z(x[j])\n",
    "            \n",
    "#    s = torch.exp(1j*t.reshape((len(t),-1))@x.reshape((-1,len(x))))-1-1j*(t.reshape((len(t),-1))@x.reshape((-1,len(x))))@I(x).reshape((len(I(x)),-1))\n",
    "    return y "
   ]
  },
  {
   "cell_type": "code",
   "execution_count": 178,
   "id": "4e4cf6ec",
   "metadata": {},
   "outputs": [],
   "source": [
    "#网络定义\n",
    "\n",
    "def net(X):\n",
    "    X_clone = X.clone()\n",
    "    X = X.reshape((-1, num_feature))\n",
    "    H1 = relu(X@W1 + b1)  # 这里“@”代表矩阵乘法\n",
    "    H2 = relu(H1@W2 + b2)\n",
    "    V = (H2@W3 + b3)\n",
    "#    return V\n",
    "    Chf = Euler_exp(X_clone,t)@V.t()\n",
    "    re = Chf.real\n",
    "    im = Chf.imag\n",
    "    r = torch.zeros(labels.shape)\n",
    "    for i in range(len(Chf)):\n",
    "        r[i][0] = re[i]\n",
    "        r[i][1] = im[i]\n",
    "    return r\n"
   ]
  },
  {
   "cell_type": "code",
   "execution_count": 174,
   "id": "4c146477",
   "metadata": {},
   "outputs": [
    {
     "ename": "RuntimeError",
     "evalue": "expected scalar type Float but found ComplexFloat",
     "output_type": "error",
     "traceback": [
      "\u001b[0;31m---------------------------------------------------------------------------\u001b[0m",
      "\u001b[0;31mRuntimeError\u001b[0m                              Traceback (most recent call last)",
      "Cell \u001b[0;32mIn [174], line 1\u001b[0m\n\u001b[0;32m----> 1\u001b[0m \u001b[43mnet\u001b[49m\u001b[43m(\u001b[49m\u001b[43mx\u001b[49m\u001b[43m)\u001b[49m\n",
      "Cell \u001b[0;32mIn [172], line 6\u001b[0m, in \u001b[0;36mnet\u001b[0;34m(X)\u001b[0m\n\u001b[1;32m      4\u001b[0m X_clone \u001b[38;5;241m=\u001b[39m X\u001b[38;5;241m.\u001b[39mclone()\n\u001b[1;32m      5\u001b[0m X \u001b[38;5;241m=\u001b[39m X\u001b[38;5;241m.\u001b[39mreshape((\u001b[38;5;241m-\u001b[39m\u001b[38;5;241m1\u001b[39m, num_feature))\n\u001b[0;32m----> 6\u001b[0m H1 \u001b[38;5;241m=\u001b[39m relu(\u001b[43mX\u001b[49m\u001b[38;5;129;43m@W1\u001b[39;49m \u001b[38;5;241m+\u001b[39m b1)  \u001b[38;5;66;03m# 这里“@”代表矩阵乘法\u001b[39;00m\n\u001b[1;32m      7\u001b[0m H2 \u001b[38;5;241m=\u001b[39m relu(H1\u001b[38;5;129m@W2\u001b[39m \u001b[38;5;241m+\u001b[39m b2)\n\u001b[1;32m      8\u001b[0m V \u001b[38;5;241m=\u001b[39m (H2\u001b[38;5;129m@W3\u001b[39m \u001b[38;5;241m+\u001b[39m b3)\n",
      "\u001b[0;31mRuntimeError\u001b[0m: expected scalar type Float but found ComplexFloat"
     ]
    }
   ],
   "source": [
    "net(x)"
   ]
  },
  {
   "cell_type": "code",
   "execution_count": null,
   "id": "5abe22e4",
   "metadata": {},
   "outputs": [],
   "source": []
  }
 ],
 "metadata": {
  "kernelspec": {
   "display_name": "Python 3 (ipykernel)",
   "language": "python",
   "name": "python3"
  },
  "language_info": {
   "codemirror_mode": {
    "name": "ipython",
    "version": 3
   },
   "file_extension": ".py",
   "mimetype": "text/x-python",
   "name": "python",
   "nbconvert_exporter": "python",
   "pygments_lexer": "ipython3",
   "version": "3.9.12"
  }
 },
 "nbformat": 4,
 "nbformat_minor": 5
}
