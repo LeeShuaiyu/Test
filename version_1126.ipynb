{
 "cells": [
  {
   "cell_type": "code",
   "execution_count": 40,
   "id": "4c99393b",
   "metadata": {},
   "outputs": [],
   "source": [
    "import numpy as np\n",
    "import torch\n",
    "import math\n",
    "import pandas as pd\n",
    "import matplotlib.pyplot as plt\n",
    "import matplotlib.image as mping \n",
    "import cmath\n",
    "from torch import nn\n",
    "import random\n",
    "from torch.utils import data\n",
    "import copy"
   ]
  },
  {
   "cell_type": "code",
   "execution_count": 41,
   "id": "cfa9c592",
   "metadata": {},
   "outputs": [],
   "source": [
    "class generator_t:\n",
    "    def __init__(self,df,mu = 0, sigma = 1,samplesize = 1000, h = 0.01):\n",
    "        self.df = df\n",
    "        self.mu = mu\n",
    "        self.sigma = sigma\n",
    "        self.samplesize = samplesize\n",
    "        self.frequency = h\n",
    "    @staticmethod\n",
    "    def cumulate(delta):\n",
    "        data = torch.zeros(np.shape(delta))\n",
    "        n = np.shape(delta)[0]\n",
    "        for i in range(n-1):\n",
    "            data[i+1] = data[i]+delta[i]\n",
    "        return np.array(data)\n",
    "    \n",
    "    def generate_standard_t(self):\n",
    "        d0 = np.random.standard_t(self.df, (self.samplesize,1))\n",
    "        d1 = self.cumulate(d0)\n",
    "        delta = torch.tensor(d0)\n",
    "        data = torch.tensor(d1)\n",
    "        delta.requires_grad_(True)  # 等价于x=torch.arange(4.0,requires_grad=True)\n",
    "        return delta,data"
   ]
  },
  {
   "cell_type": "code",
   "execution_count": 42,
   "id": "8727c3c1",
   "metadata": {},
   "outputs": [],
   "source": [
    "class Characteristic_function:\n",
    "    def __init__(self,data):\n",
    "        self.data = data   \n",
    "    def ecf(self,t):\n",
    "        n = len(self.data)\n",
    "        if type(t)== int:\n",
    "            C = torch.zeros((n,1))\n",
    "            S = torch.zeros((n,1))\n",
    "            for i in range(n):\n",
    "                C[i] = math.cos(t*self.data[i])\n",
    "                S[i] = math.sin(t*self.data[i])\n",
    "            s = torch.mean(S)\n",
    "            c = torch.mean(C)\n",
    "            return c,s                \n",
    "        else:    \n",
    "            m = len(t)\n",
    "            R = []\n",
    "            for j in range(m):\n",
    "                S = []\n",
    "                C = []\n",
    "                for i in range(n):\n",
    "                    C = C+[math.cos(t[j]*self.data[i])]\n",
    "                    S = S+[math.sin(t[j]*self.data[i])]\n",
    "                #S = torch.tensor(S,dtype = torch.float64)\n",
    "                #C = torch.tensor(C,dtype = torch.float64)\n",
    "                s = sum(S)/len(S)\n",
    "                c = sum(C)/len(C)\n",
    "                R = R+[c]\n",
    "                R = R+[s]\n",
    "            #R = torch.tensor(R,dtype = torch.float64)\n",
    "        return R"
   ]
  },
  {
   "cell_type": "code",
   "execution_count": 43,
   "id": "2c557586",
   "metadata": {},
   "outputs": [],
   "source": [
    "class Characteristic_function:\n",
    "    def __init__(self,data):\n",
    "        self.data = data   \n",
    "    def ecf(self,t):\n",
    "        n = len(self.data)\n",
    "        if type(t)== int:\n",
    "            C = torch.zeros((n,1))\n",
    "            S = torch.zeros((n,1))\n",
    "            for i in range(n):\n",
    "                C[i] = math.cos(t*self.data[i])\n",
    "                S[i] = math.sin(t*self.data[i])\n",
    "            s = torch.mean(S)\n",
    "            c = torch.mean(C)\n",
    "            return c,s                \n",
    "        else:    \n",
    "            m = len(t)\n",
    "            R = []\n",
    "            for j in range(m):\n",
    "                S = []\n",
    "                C = []\n",
    "                for i in range(n):\n",
    "                    C.append(math.cos(t[j]*self.data[i]))\n",
    "                    S.append(math.sin(t[j]*self.data[i]))\n",
    "                S = torch.tensor(S,dtype = torch.float64)\n",
    "                C = torch.tensor(C,dtype = torch.float64)\n",
    "                s = float(torch.mean(S))\n",
    "                c = float(torch.mean(C))\n",
    "                R.append(c)\n",
    "                R.append(s)\n",
    "            R = torch.tensor(R,dtype = torch.float64)\n",
    "        return R\n",
    "    def ecf_h(self,t,h):\n",
    "        n = len(self.data)\n",
    "        if type(t)== int:\n",
    "            C = torch.zeros((n,1))\n",
    "            S = torch.zeros((n,1))\n",
    "            for i in range(n):\n",
    "                C[i] = math.cos(t*self.data[i])\n",
    "                S[i] = math.sin(t*self.data[i])\n",
    "            s = torch.mean(S)\n",
    "            c = torch.mean(C)\n",
    "            f = complex(c,s)\n",
    "            q,w = cmath.polar(f)\n",
    "            q = q**h\n",
    "            w = w*h\n",
    "            c = math.cos(w)*q\n",
    "            s = math.sin(w)*q\n",
    "            return c,s                \n",
    "        else:    \n",
    "            m = len(t)\n",
    "            C = torch.zeros((n,1))\n",
    "            S = torch.zeros((n,1))\n",
    "            R = torch.zeros((m,2))\n",
    "            for j in range(m):\n",
    "                for i in range(n):\n",
    "                    C[i] = math.cos(t[j]*self.data[i])\n",
    "                    S[i] = math.sin(t[j]*self.data[i])\n",
    "                s = torch.mean(S)\n",
    "                c = torch.mean(C)\n",
    "                f = complex(c,s)\n",
    "                q,w = cmath.polar(f)\n",
    "                q = q**h\n",
    "                w = w*h\n",
    "                c = math.cos(w)*q\n",
    "                s = math.sin(w)*q\n",
    "                R[j,0] = c\n",
    "                R[j,1] = s\n",
    "        return R\n"
   ]
  },
  {
   "cell_type": "code",
   "execution_count": 44,
   "id": "fd95c13b",
   "metadata": {},
   "outputs": [],
   "source": [
    "num_feature = 200\n",
    "range_feature = 20\n",
    "num_t = 50\n",
    "range_t = 15\n",
    "num_labels = num_t\n",
    "num_sample = 15\n",
    "total = num_sample*num_feature\n",
    "t = torch.linspace(-range_t,range_t,num_t,dtype = torch.float64)\n",
    "#t = t.reshape((-1,len(t)))\n",
    "x = torch.linspace(-range_feature,range_feature,num_feature,dtype = torch.float64)"
   ]
  },
  {
   "cell_type": "code",
   "execution_count": 45,
   "id": "e32025a7",
   "metadata": {},
   "outputs": [],
   "source": [
    "#实例化(V =3)\n",
    "Gen3 = generator_t(3,samplesize =total)\n",
    "\n",
    "delta,path = Gen3.generate_standard_t()\n",
    "Chf = Characteristic_function(delta)"
   ]
  },
  {
   "cell_type": "code",
   "execution_count": 46,
   "id": "3fd70d9b",
   "metadata": {},
   "outputs": [],
   "source": [
    "a = []\n",
    "features = []\n",
    "label = []\n",
    "for i in range(num_sample):\n",
    "    delta,path = Gen3.generate_standard_t()\n",
    "    Chf = Characteristic_function(delta)\n",
    "    labels = Chf.ecf(t)\n",
    "    label+=labels\n",
    "    features+=x\n"
   ]
  },
  {
   "cell_type": "code",
   "execution_count": 47,
   "id": "12c1af28",
   "metadata": {},
   "outputs": [
    {
     "data": {
      "text/plain": [
       "[tensor(0.0893, grad_fn=<UnbindBackward0>),\n",
       " tensor(0.0951, grad_fn=<UnbindBackward0>),\n",
       " tensor(0.0976, grad_fn=<UnbindBackward0>),\n",
       " tensor(0.0962, grad_fn=<UnbindBackward0>),\n",
       " tensor(0.0978, grad_fn=<UnbindBackward0>),\n",
       " tensor(0.1034, grad_fn=<UnbindBackward0>),\n",
       " tensor(0.0979, grad_fn=<UnbindBackward0>),\n",
       " tensor(0.0947, grad_fn=<UnbindBackward0>),\n",
       " tensor(0.0979, grad_fn=<UnbindBackward0>),\n",
       " tensor(0.0988, grad_fn=<UnbindBackward0>),\n",
       " tensor(0.0983, grad_fn=<UnbindBackward0>),\n",
       " tensor(0.0961, grad_fn=<UnbindBackward0>),\n",
       " tensor(0.1037, grad_fn=<UnbindBackward0>),\n",
       " tensor(0.0988, grad_fn=<UnbindBackward0>),\n",
       " tensor(0.0940, grad_fn=<UnbindBackward0>),\n",
       " tensor(0.0938, grad_fn=<UnbindBackward0>),\n",
       " tensor(0.0986, grad_fn=<UnbindBackward0>),\n",
       " tensor(0.0924, grad_fn=<UnbindBackward0>),\n",
       " tensor(0.0916, grad_fn=<UnbindBackward0>),\n",
       " tensor(0.0889, grad_fn=<UnbindBackward0>),\n",
       " tensor(0.0915, grad_fn=<UnbindBackward0>),\n",
       " tensor(0.0944, grad_fn=<UnbindBackward0>),\n",
       " tensor(0.1008, grad_fn=<UnbindBackward0>),\n",
       " tensor(0.1214, grad_fn=<UnbindBackward0>),\n",
       " tensor(0.1819, grad_fn=<UnbindBackward0>),\n",
       " tensor(0.1819, grad_fn=<UnbindBackward0>),\n",
       " tensor(0.1214, grad_fn=<UnbindBackward0>),\n",
       " tensor(0.1008, grad_fn=<UnbindBackward0>),\n",
       " tensor(0.0944, grad_fn=<UnbindBackward0>),\n",
       " tensor(0.0915, grad_fn=<UnbindBackward0>),\n",
       " tensor(0.0889, grad_fn=<UnbindBackward0>),\n",
       " tensor(0.0916, grad_fn=<UnbindBackward0>),\n",
       " tensor(0.0924, grad_fn=<UnbindBackward0>),\n",
       " tensor(0.0986, grad_fn=<UnbindBackward0>),\n",
       " tensor(0.0938, grad_fn=<UnbindBackward0>),\n",
       " tensor(0.0940, grad_fn=<UnbindBackward0>),\n",
       " tensor(0.0988, grad_fn=<UnbindBackward0>),\n",
       " tensor(0.1037, grad_fn=<UnbindBackward0>),\n",
       " tensor(0.0961, grad_fn=<UnbindBackward0>),\n",
       " tensor(0.0983, grad_fn=<UnbindBackward0>),\n",
       " tensor(0.0988, grad_fn=<UnbindBackward0>),\n",
       " tensor(0.0979, grad_fn=<UnbindBackward0>),\n",
       " tensor(0.0947, grad_fn=<UnbindBackward0>),\n",
       " tensor(0.0979, grad_fn=<UnbindBackward0>),\n",
       " tensor(0.1034, grad_fn=<UnbindBackward0>),\n",
       " tensor(0.0978, grad_fn=<UnbindBackward0>),\n",
       " tensor(0.0962, grad_fn=<UnbindBackward0>),\n",
       " tensor(0.0976, grad_fn=<UnbindBackward0>),\n",
       " tensor(0.0951, grad_fn=<UnbindBackward0>),\n",
       " tensor(0.0893, grad_fn=<UnbindBackward0>)]"
      ]
     },
     "execution_count": 47,
     "metadata": {},
     "output_type": "execute_result"
    }
   ],
   "source": [
    "(list(real_h))"
   ]
  },
  {
   "cell_type": "code",
   "execution_count": 48,
   "id": "b8640812",
   "metadata": {},
   "outputs": [
    {
     "data": {
      "text/plain": [
       "tensor([[-20.0000, -19.7990, -19.5980,  ...,  19.5980,  19.7990,  20.0000],\n",
       "        [-20.0000, -19.7990, -19.5980,  ...,  19.5980,  19.7990,  20.0000],\n",
       "        [-20.0000, -19.7990, -19.5980,  ...,  19.5980,  19.7990,  20.0000],\n",
       "        ...,\n",
       "        [-20.0000, -19.7990, -19.5980,  ...,  19.5980,  19.7990,  20.0000],\n",
       "        [-20.0000, -19.7990, -19.5980,  ...,  19.5980,  19.7990,  20.0000],\n",
       "        [-20.0000, -19.7990, -19.5980,  ...,  19.5980,  19.7990,  20.0000]],\n",
       "       dtype=torch.float64)"
      ]
     },
     "execution_count": 48,
     "metadata": {},
     "output_type": "execute_result"
    }
   ],
   "source": [
    "labels = torch.tensor(label,dtype = torch.float64).reshape((-1,2*num_labels))\n",
    "features = torch.tensor(features,dtype = torch.float64).reshape((-1,num_feature))\n",
    "features"
   ]
  },
  {
   "cell_type": "markdown",
   "id": "bc7d35f6",
   "metadata": {},
   "source": [
    "for i in range(num_sample):\n",
    "    delta,path = Gen3.generate_standard_t()\n",
    "    Chf = Characteristic_function(delta)\n",
    "    labels = Chf.ecf(t)#.reshape((1,-1))\n",
    "    a.append([x.reshape((-1,len(x))),labels])\n",
    "    features.append(x.reshape((-1,len(x))))\n",
    "    label.append(labels)"
   ]
  },
  {
   "cell_type": "code",
   "execution_count": 49,
   "id": "0c6c4a74",
   "metadata": {},
   "outputs": [],
   "source": [
    "def load_array(data_arrays, batch_size, is_train=True):  #@save\n",
    "    \"\"\"构造一个PyTorch数据迭代器\"\"\"\n",
    "    dataset = data.TensorDataset(*data_arrays)\n",
    "    return data.DataLoader(dataset, batch_size, shuffle=is_train)\n",
    "batch_size = 1\n",
    "D_loader = load_array((features,labels), batch_size)"
   ]
  },
  {
   "cell_type": "code",
   "execution_count": 50,
   "id": "756e1295",
   "metadata": {},
   "outputs": [
    {
     "data": {
      "text/plain": [
       "[tensor([[-20.0000, -19.7990, -19.5980, -19.3970, -19.1960, -18.9950, -18.7940,\n",
       "          -18.5930, -18.3920, -18.1910, -17.9899, -17.7889, -17.5879, -17.3869,\n",
       "          -17.1859, -16.9849, -16.7839, -16.5829, -16.3819, -16.1809, -15.9799,\n",
       "          -15.7789, -15.5779, -15.3769, -15.1759, -14.9749, -14.7739, -14.5729,\n",
       "          -14.3719, -14.1709, -13.9698, -13.7688, -13.5678, -13.3668, -13.1658,\n",
       "          -12.9648, -12.7638, -12.5628, -12.3618, -12.1608, -11.9598, -11.7588,\n",
       "          -11.5578, -11.3568, -11.1558, -10.9548, -10.7538, -10.5528, -10.3518,\n",
       "          -10.1508,  -9.9497,  -9.7487,  -9.5477,  -9.3467,  -9.1457,  -8.9447,\n",
       "           -8.7437,  -8.5427,  -8.3417,  -8.1407,  -7.9397,  -7.7387,  -7.5377,\n",
       "           -7.3367,  -7.1357,  -6.9347,  -6.7337,  -6.5327,  -6.3317,  -6.1307,\n",
       "           -5.9296,  -5.7286,  -5.5276,  -5.3266,  -5.1256,  -4.9246,  -4.7236,\n",
       "           -4.5226,  -4.3216,  -4.1206,  -3.9196,  -3.7186,  -3.5176,  -3.3166,\n",
       "           -3.1156,  -2.9146,  -2.7136,  -2.5126,  -2.3116,  -2.1106,  -1.9095,\n",
       "           -1.7085,  -1.5075,  -1.3065,  -1.1055,  -0.9045,  -0.7035,  -0.5025,\n",
       "           -0.3015,  -0.1005,   0.1005,   0.3015,   0.5025,   0.7035,   0.9045,\n",
       "            1.1055,   1.3065,   1.5075,   1.7085,   1.9095,   2.1106,   2.3116,\n",
       "            2.5126,   2.7136,   2.9146,   3.1156,   3.3166,   3.5176,   3.7186,\n",
       "            3.9196,   4.1206,   4.3216,   4.5226,   4.7236,   4.9246,   5.1256,\n",
       "            5.3266,   5.5276,   5.7286,   5.9296,   6.1307,   6.3317,   6.5327,\n",
       "            6.7337,   6.9347,   7.1357,   7.3367,   7.5377,   7.7387,   7.9397,\n",
       "            8.1407,   8.3417,   8.5427,   8.7437,   8.9447,   9.1457,   9.3467,\n",
       "            9.5477,   9.7487,   9.9497,  10.1508,  10.3518,  10.5528,  10.7538,\n",
       "           10.9548,  11.1558,  11.3568,  11.5578,  11.7588,  11.9598,  12.1608,\n",
       "           12.3618,  12.5628,  12.7638,  12.9648,  13.1658,  13.3668,  13.5678,\n",
       "           13.7688,  13.9698,  14.1709,  14.3719,  14.5729,  14.7739,  14.9749,\n",
       "           15.1759,  15.3769,  15.5779,  15.7789,  15.9799,  16.1809,  16.3819,\n",
       "           16.5829,  16.7839,  16.9849,  17.1859,  17.3869,  17.5879,  17.7889,\n",
       "           17.9899,  18.1910,  18.3920,  18.5930,  18.7940,  18.9950,  19.1960,\n",
       "           19.3970,  19.5980,  19.7990,  20.0000]], dtype=torch.float64),\n",
       " tensor([[-8.9951e-03, -7.3280e-03, -2.7816e-03, -5.1486e-03,  2.1080e-03,\n",
       "          -7.1792e-03, -5.2582e-03, -1.4487e-02, -2.9794e-03, -9.2049e-03,\n",
       "          -6.4693e-04, -5.5677e-03,  2.0318e-04, -1.1446e-02, -6.1806e-04,\n",
       "          -2.4070e-02, -5.0218e-03,  3.7898e-04,  3.7581e-03,  8.2042e-03,\n",
       "          -5.1459e-03,  4.4535e-03, -7.3814e-03,  3.1457e-03, -2.8303e-03,\n",
       "           9.6102e-04, -9.9656e-03,  1.3950e-03, -1.4866e-02,  7.2118e-03,\n",
       "          -7.0011e-03,  8.7265e-03, -8.9166e-03,  4.0124e-03, -4.5097e-03,\n",
       "           6.7170e-03, -8.6648e-04,  1.8199e-02,  1.0445e-02,  2.1874e-02,\n",
       "           3.9999e-02,  1.9623e-02,  1.0812e-01, -9.8670e-04,  2.6303e-01,\n",
       "          -1.5485e-02,  5.2861e-01, -1.3005e-02,  8.9924e-01, -4.5694e-03,\n",
       "           8.9924e-01,  4.5694e-03,  5.2861e-01,  1.3005e-02,  2.6303e-01,\n",
       "           1.5485e-02,  1.0812e-01,  9.8670e-04,  3.9999e-02, -1.9623e-02,\n",
       "           1.0445e-02, -2.1874e-02, -8.6648e-04, -1.8199e-02, -4.5097e-03,\n",
       "          -6.7170e-03, -8.9166e-03, -4.0124e-03, -7.0011e-03, -8.7265e-03,\n",
       "          -1.4866e-02, -7.2118e-03, -9.9656e-03, -1.3950e-03, -2.8303e-03,\n",
       "          -9.6102e-04, -7.3814e-03, -3.1457e-03, -5.1459e-03, -4.4535e-03,\n",
       "           3.7581e-03, -8.2042e-03, -5.0218e-03, -3.7898e-04, -6.1806e-04,\n",
       "           2.4070e-02,  2.0318e-04,  1.1446e-02, -6.4693e-04,  5.5677e-03,\n",
       "          -2.9794e-03,  9.2049e-03, -5.2582e-03,  1.4487e-02,  2.1080e-03,\n",
       "           7.1792e-03, -2.7816e-03,  5.1486e-03, -8.9951e-03,  7.3280e-03]],\n",
       "        dtype=torch.float64)]"
      ]
     },
     "execution_count": 50,
     "metadata": {},
     "output_type": "execute_result"
    }
   ],
   "source": [
    "next(iter(D_loader)) "
   ]
  },
  {
   "cell_type": "code",
   "execution_count": 51,
   "id": "af73691d",
   "metadata": {},
   "outputs": [],
   "source": [
    "# 初始化参数定义\n",
    "\n",
    "\n",
    "hidden_2, hidden_3 = 256, 256\n",
    "\n",
    "W1 = nn.Parameter(torch.randn(\n",
    "    num_feature, hidden_2, requires_grad=True,dtype = torch.float64) * 0.01)\n",
    "b1 = nn.Parameter(torch.zeros(hidden_2, requires_grad=True,dtype = torch.float64))\n",
    "\n",
    "W2 = nn.Parameter(torch.randn(\n",
    "    hidden_2, hidden_3, requires_grad=True,dtype = torch.float64) * 0.01)\n",
    "b2 = nn.Parameter(torch.zeros(hidden_3, requires_grad=True,dtype = torch.float64))\n",
    "\n",
    "W3 = nn.Parameter(torch.randn(\n",
    "    hidden_3, num_feature, requires_grad=True,dtype = torch.float64) * 0.01)\n",
    "b3 = nn.Parameter(torch.zeros(num_feature, requires_grad=True,dtype = torch.float64))\n",
    "\n",
    "\n",
    "params = [W1, b1, W2, b2, W3, b3]"
   ]
  },
  {
   "cell_type": "code",
   "execution_count": 52,
   "id": "2439fb0d",
   "metadata": {},
   "outputs": [],
   "source": [
    "#激活函数\n",
    "def relu(X):\n",
    "    a = torch.zeros_like(X)\n",
    "    b = torch.max(X, a)\n",
    "    return torch.tensor(b,dtype = torch.float64)"
   ]
  },
  {
   "cell_type": "code",
   "execution_count": 53,
   "id": "546f4cc2",
   "metadata": {},
   "outputs": [
    {
     "data": {
      "text/plain": [
       "tensor([[-20.0000, -19.7990, -19.5980,  ...,  19.5980,  19.7990,  20.0000],\n",
       "        [-20.0000, -19.7990, -19.5980,  ...,  19.5980,  19.7990,  20.0000],\n",
       "        [-20.0000, -19.7990, -19.5980,  ...,  19.5980,  19.7990,  20.0000],\n",
       "        ...,\n",
       "        [-20.0000, -19.7990, -19.5980,  ...,  19.5980,  19.7990,  20.0000],\n",
       "        [-20.0000, -19.7990, -19.5980,  ...,  19.5980,  19.7990,  20.0000],\n",
       "        [-20.0000, -19.7990, -19.5980,  ...,  19.5980,  19.7990,  20.0000]],\n",
       "       dtype=torch.float64)"
      ]
     },
     "execution_count": 53,
     "metadata": {},
     "output_type": "execute_result"
    }
   ],
   "source": [
    "features.reshape((-1, num_feature))"
   ]
  },
  {
   "cell_type": "code",
   "execution_count": 54,
   "id": "884b43a3",
   "metadata": {},
   "outputs": [],
   "source": [
    "def expcostx(x,V):\n",
    "    a = t.reshape((-1,1))@x.reshape((1,-1))\n",
    "    b = (torch.cos(a)-1)@V.reshape((-1,1))\n",
    "    c = torch.exp((range_feature*2/num_feature)*b)\n",
    "    return c\n",
    "def I(x):\n",
    "    y = copy.deepcopy(x)\n",
    "    y[abs(x)>1]=0\n",
    "    return y\n",
    "    \n",
    "def realtx(x,V):\n",
    "    a1 = torch.sin(t.reshape((-1,1))@x.reshape((1,-1))) \n",
    "    a2 = t.reshape((-1,1))@I(x).reshape((1,-1))\n",
    "    a3 = a1+a2\n",
    "    a4 = a3@V.reshape((-1,1))\n",
    "    a5 = (range_feature*2/num_feature)*a4\n",
    "    a6 = torch.cos(a5)\n",
    "    return a6\n",
    "def imagetx(x,V):\n",
    "    a1 = torch.sin(t.reshape((-1,1))@x.reshape((1,-1))) \n",
    "    a2 = t.reshape((-1,1))@I(x).reshape((1,-1))\n",
    "    a3 = a1+a2\n",
    "    a4 = a3@V.reshape((-1,1))\n",
    "    a5 = (range_feature*2/num_feature)*a4\n",
    "    a6 = torch.sin(a5)\n",
    "    return a6"
   ]
  },
  {
   "cell_type": "code",
   "execution_count": 55,
   "id": "91a39df0",
   "metadata": {},
   "outputs": [],
   "source": [
    "def net_1(X):\n",
    "    X_clone = X.clone()\n",
    "    X = X.reshape((-1, num_feature))\n",
    "    H1 = relu(X@W1 + b1)  # 这里“@”代表矩阵乘法\n",
    "    H2 = relu(H1@W2 + b2)\n",
    "    V = (H2@W3 + b3)\n",
    "    R_1 = expcostx(X,V)*realtx(x,V)\n",
    "    R_2 = expcostx(X,V)*imagetx(x,V)\n",
    "    R = torch.cat((R_1,R_2),1).reshape((1,-1))\n",
    "    return R\n"
   ]
  },
  {
   "cell_type": "code",
   "execution_count": 56,
   "id": "79273d53",
   "metadata": {},
   "outputs": [
    {
     "name": "stderr",
     "output_type": "stream",
     "text": [
      "/var/folders/ym/35040q6j5x912qskn704_hy80000gn/T/ipykernel_96530/2169779723.py:5: UserWarning: To copy construct from a tensor, it is recommended to use sourceTensor.clone().detach() or sourceTensor.clone().detach().requires_grad_(True), rather than torch.tensor(sourceTensor).\n",
      "  return torch.tensor(b,dtype = torch.float64)\n"
     ]
    }
   ],
   "source": [
    "H0 =  features[0].reshape((-1, num_feature))\n",
    "H1 = relu(H0@W1 + b1)\n",
    "H2 = relu(H1@W2 + b2)\n",
    "V = (H2@W3 + b3)\n",
    "a = t.reshape((-1,1))@features[0].reshape((-1,num_feature))\n"
   ]
  },
  {
   "cell_type": "code",
   "execution_count": 57,
   "id": "a3225f0a",
   "metadata": {},
   "outputs": [],
   "source": [
    "loss = nn.MSELoss()"
   ]
  },
  {
   "cell_type": "code",
   "execution_count": 58,
   "id": "e00f4b98",
   "metadata": {},
   "outputs": [
    {
     "name": "stderr",
     "output_type": "stream",
     "text": [
      "/var/folders/ym/35040q6j5x912qskn704_hy80000gn/T/ipykernel_96530/2169779723.py:5: UserWarning: To copy construct from a tensor, it is recommended to use sourceTensor.clone().detach() or sourceTensor.clone().detach().requires_grad_(True), rather than torch.tensor(sourceTensor).\n",
      "  return torch.tensor(b,dtype = torch.float64)\n",
      "/Users/lishuaiyu/opt/anaconda3/lib/python3.9/site-packages/torch/nn/modules/loss.py:529: UserWarning: Using a target size (torch.Size([100])) that is different to the input size (torch.Size([1, 100])). This will likely lead to incorrect results due to broadcasting. Please ensure they have the same size.\n",
      "  return F.mse_loss(input, target, reduction=self.reduction)\n"
     ]
    },
    {
     "data": {
      "text/plain": [
       "tensor(0.4987, dtype=torch.float64, grad_fn=<MseLossBackward0>)"
      ]
     },
     "execution_count": 58,
     "metadata": {},
     "output_type": "execute_result"
    }
   ],
   "source": [
    "loss(net_1(features[0]),labels[0])"
   ]
  },
  {
   "cell_type": "code",
   "execution_count": 59,
   "id": "3822ba64",
   "metadata": {},
   "outputs": [],
   "source": [
    "def sgd(params, lr, batch_size):  #@save\n",
    "    \"\"\"小批量随机梯度下降\"\"\"\n",
    "    with torch.no_grad():\n",
    "        for param in params:\n",
    "            param -= lr * param.grad / batch_size\n",
    "            param.grad.zero_()"
   ]
  },
  {
   "cell_type": "code",
   "execution_count": 60,
   "id": "ac85cd57",
   "metadata": {},
   "outputs": [],
   "source": [
    "lr = 0.03\n",
    "num_epochs = int(num_sample/batch_size)\n",
    "net = net_1\n",
    "loss = nn.MSELoss()\n",
    "\n",
    "trainer = torch.optim.SGD(params, lr=0.03)"
   ]
  },
  {
   "cell_type": "code",
   "execution_count": 61,
   "id": "aee14139",
   "metadata": {},
   "outputs": [
    {
     "name": "stderr",
     "output_type": "stream",
     "text": [
      "/var/folders/ym/35040q6j5x912qskn704_hy80000gn/T/ipykernel_96530/2169779723.py:5: UserWarning: To copy construct from a tensor, it is recommended to use sourceTensor.clone().detach() or sourceTensor.clone().detach().requires_grad_(True), rather than torch.tensor(sourceTensor).\n",
      "  return torch.tensor(b,dtype = torch.float64)\n"
     ]
    },
    {
     "name": "stdout",
     "output_type": "stream",
     "text": [
      "epoch 1, loss 0.024180\n",
      "epoch 2, loss 0.021343\n",
      "epoch 3, loss 0.020677\n",
      "epoch 4, loss 0.020564\n",
      "epoch 5, loss 0.020176\n",
      "epoch 6, loss 0.019312\n",
      "epoch 7, loss 0.019689\n",
      "epoch 8, loss 0.019794\n",
      "epoch 9, loss 0.018805\n",
      "epoch 10, loss 0.018589\n",
      "epoch 11, loss 0.018125\n",
      "epoch 12, loss 0.017959\n",
      "epoch 13, loss 0.018206\n",
      "epoch 14, loss 0.017730\n",
      "epoch 15, loss 0.017017\n"
     ]
    }
   ],
   "source": [
    "for epoch in range(num_epochs):\n",
    "    for X, y in D_loader:\n",
    "        l = loss(net_1(X) ,y)\n",
    "        trainer.zero_grad()\n",
    "        l.backward()\n",
    "        trainer.step()\n",
    "    l = loss(net(X), y)\n",
    "    print(f'epoch {epoch + 1}, loss {l:f}')"
   ]
  },
  {
   "cell_type": "code",
   "execution_count": 62,
   "id": "97041cb8",
   "metadata": {},
   "outputs": [],
   "source": [
    "\n",
    "labels[0]\n",
    "\n",
    "real = torch.zeros(int(len(labels[0])/2)+1)\n",
    "image = torch.zeros(int(len(labels[0])/2)+1)\n",
    "for i in range(len(labels[0])):\n",
    "    if i%2 ==0:\n",
    "        real[int(i/2)] = labels[0][i]\n",
    "    else:\n",
    "        image[int((i+1)/2)] = labels[0][i]\n",
    "        \n"
   ]
  },
  {
   "cell_type": "code",
   "execution_count": 63,
   "id": "31daac7d",
   "metadata": {
    "scrolled": true
   },
   "outputs": [
    {
     "data": {
      "text/plain": [
       "[<matplotlib.lines.Line2D at 0x7fceb2814b20>]"
      ]
     },
     "execution_count": 63,
     "metadata": {},
     "output_type": "execute_result"
    },
    {
     "data": {
      "image/png": "[encoded data removed]",
      "text/plain": [
       "<Figure size 640x480 with 1 Axes>"
      ]
     },
     "metadata": {},
     "output_type": "display_data"
    }
   ],
   "source": [
    "real = real[0:50]\n",
    "plt.plot(t,real)"
   ]
  },
  {
   "cell_type": "code",
   "execution_count": 64,
   "id": "dbb02989",
   "metadata": {
    "scrolled": true
   },
   "outputs": [
    {
     "name": "stderr",
     "output_type": "stream",
     "text": [
      "/var/folders/ym/35040q6j5x912qskn704_hy80000gn/T/ipykernel_96530/2169779723.py:5: UserWarning: To copy construct from a tensor, it is recommended to use sourceTensor.clone().detach() or sourceTensor.clone().detach().requires_grad_(True), rather than torch.tensor(sourceTensor).\n",
      "  return torch.tensor(b,dtype = torch.float64)\n"
     ]
    }
   ],
   "source": [
    "predict0 = list(net_1(features[0]))"
   ]
  },
  {
   "cell_type": "code",
   "execution_count": 65,
   "id": "ab34b0e8",
   "metadata": {
    "scrolled": false
   },
   "outputs": [
    {
     "name": "stderr",
     "output_type": "stream",
     "text": [
      "/var/folders/ym/35040q6j5x912qskn704_hy80000gn/T/ipykernel_96530/2169779723.py:5: UserWarning: To copy construct from a tensor, it is recommended to use sourceTensor.clone().detach() or sourceTensor.clone().detach().requires_grad_(True), rather than torch.tensor(sourceTensor).\n",
      "  return torch.tensor(b,dtype = torch.float64)\n"
     ]
    },
    {
     "data": {
      "text/plain": [
       "[<matplotlib.lines.Line2D at 0x7fceb2863d30>]"
      ]
     },
     "execution_count": 65,
     "metadata": {},
     "output_type": "execute_result"
    },
    {
     "data": {
      "image/png": "[encoded data removed]",
      "text/plain": [
       "<Figure size 640x480 with 1 Axes>"
      ]
     },
     "metadata": {},
     "output_type": "display_data"
    }
   ],
   "source": [
    "predict0 = list(net_1(features[0]))\n",
    "real_h = torch.zeros(int(len(labels[0])/2)+1)\n",
    "image_h = torch.zeros(int(len(labels[0])/2)+1)\n",
    "for i in range(len(labels[0])):\n",
    "    if i%2 ==0:\n",
    "        real_h[int(i/2)] = predict0[0][i]\n",
    "    else:\n",
    "        image_h[int((i+1)/2)] = predict0[0][i]\n",
    "real_h = real_h[0:50]        \n",
    "plt.plot(t,real_h.detach().numpy())"
   ]
  },
  {
   "cell_type": "code",
   "execution_count": 66,
   "id": "235aba4d",
   "metadata": {},
   "outputs": [],
   "source": [
    "def net_2(X):\n",
    "    X_clone = X.clone()\n",
    "    X = X.reshape((-1, num_feature))\n",
    "    H1 = relu(X@W1 + b1)  # 这里“@”代表矩阵乘法\n",
    "    H2 = relu(H1@W2 + b2)\n",
    "    V = (H2@W3 + b3)\n",
    "    return V"
   ]
  },
  {
   "cell_type": "code",
   "execution_count": 67,
   "id": "a6a21592",
   "metadata": {},
   "outputs": [
    {
     "name": "stderr",
     "output_type": "stream",
     "text": [
      "/var/folders/ym/35040q6j5x912qskn704_hy80000gn/T/ipykernel_96530/2169779723.py:5: UserWarning: To copy construct from a tensor, it is recommended to use sourceTensor.clone().detach() or sourceTensor.clone().detach().requires_grad_(True), rather than torch.tensor(sourceTensor).\n",
      "  return torch.tensor(b,dtype = torch.float64)\n"
     ]
    },
    {
     "data": {
      "text/plain": [
       "tensor([[ 0.1110,  0.1365,  0.1624,  0.1120,  0.0733,  0.0887,  0.0920,  0.0895,\n",
       "          0.0543,  0.0970,  0.0582,  0.0737,  0.0472,  0.0362,  0.0583,  0.0586,\n",
       "          0.0578,  0.0642,  0.0677,  0.0401,  0.0372,  0.0590,  0.0688,  0.0946,\n",
       "          0.0551,  0.0651,  0.0646,  0.0677,  0.0565,  0.0273,  0.0181,  0.0514,\n",
       "          0.0770,  0.0408,  0.0415,  0.0458,  0.0557,  0.0472,  0.0338,  0.0263,\n",
       "          0.0718, -0.0060,  0.0015,  0.0136,  0.0100, -0.0155,  0.0128, -0.0680,\n",
       "          0.0362,  0.0885, -0.0578,  0.0133, -0.0016,  0.0078, -0.0177,  0.0086,\n",
       "          0.0054,  0.0395,  0.0424,  0.0264,  0.0305,  0.0059,  0.0493,  0.0372,\n",
       "          0.0350,  0.0462,  0.0594,  0.0519,  0.0304,  0.0907,  0.0600,  0.0823,\n",
       "          0.1036,  0.0206,  0.0969,  0.0811,  0.0092,  0.0526,  0.0586,  0.0528,\n",
       "          0.0299,  0.0614,  0.0549,  0.0792,  0.0240,  0.0644,  0.0979,  0.0861,\n",
       "          0.1119,  0.0682,  0.0711,  0.0496,  0.0761,  0.0740,  0.1088,  0.0948,\n",
       "          0.1575,  0.1089,  0.1203,  0.0860,  0.0693,  0.1474,  0.0999,  0.1248,\n",
       "          0.0981,  0.0979,  0.0998,  0.0848,  0.1043,  0.0337,  0.0799,  0.0794,\n",
       "          0.0381,  0.0824,  0.0983,  0.0557,  0.0484,  0.0179,  0.0778,  0.0825,\n",
       "          0.0487,  0.0746,  0.0684,  0.0825,  0.0426,  0.0514,  0.0672,  0.0417,\n",
       "          0.0277,  0.0442,  0.0465,  0.0348,  0.0328,  0.0714,  0.0317,  0.0501,\n",
       "          0.0605,  0.0832,  0.0441,  0.0215,  0.0540,  0.0469,  0.0636,  0.0173,\n",
       "          0.0265,  0.0127,  0.0356, -0.0156,  0.0662, -0.0515,  0.0371,  0.0396,\n",
       "         -0.0197, -0.0004, -0.0136,  0.0277,  0.0033,  0.0169,  0.0185,  0.0817,\n",
       "          0.0522,  0.0699,  0.0407,  0.0685,  0.0442,  0.0440,  0.0239,  0.0321,\n",
       "          0.0236,  0.0556,  0.0405,  0.0530,  0.0588,  0.0731,  0.0433,  0.1071,\n",
       "          0.0449,  0.0515,  0.0841,  0.0449,  0.0941,  0.0627,  0.0312,  0.0539,\n",
       "          0.0747,  0.0431,  0.0323,  0.0598,  0.0475,  0.0905,  0.0540,  0.0947,\n",
       "          0.0988,  0.0658,  0.1188,  0.1021,  0.1006,  0.1145,  0.1443,  0.1102]],\n",
       "       dtype=torch.float64, grad_fn=<AddBackward0>)"
      ]
     },
     "execution_count": 67,
     "metadata": {},
     "output_type": "execute_result"
    }
   ],
   "source": [
    "net_2(features[0])"
   ]
  },
  {
   "cell_type": "code",
   "execution_count": 68,
   "id": "51c002a7",
   "metadata": {},
   "outputs": [
    {
     "name": "stderr",
     "output_type": "stream",
     "text": [
      "/var/folders/ym/35040q6j5x912qskn704_hy80000gn/T/ipykernel_96530/2169779723.py:5: UserWarning: To copy construct from a tensor, it is recommended to use sourceTensor.clone().detach() or sourceTensor.clone().detach().requires_grad_(True), rather than torch.tensor(sourceTensor).\n",
      "  return torch.tensor(b,dtype = torch.float64)\n"
     ]
    },
    {
     "data": {
      "text/plain": [
       "[<matplotlib.lines.Line2D at 0x7fcec82eab20>]"
      ]
     },
     "execution_count": 68,
     "metadata": {},
     "output_type": "execute_result"
    },
    {
     "data": {
      "image/png": "[encoded data removed]",
      "text/plain": [
       "<Figure size 640x480 with 1 Axes>"
      ]
     },
     "metadata": {},
     "output_type": "display_data"
    }
   ],
   "source": [
    "plt.plot(features[0],net_2(features[0]).detach().numpy().reshape(features[0].shape))"
   ]
  },
  {
   "cell_type": "code",
   "execution_count": 69,
   "id": "d083de59",
   "metadata": {},
   "outputs": [],
   "source": [
    "T = torch.linspace(-2*range_t,2*range_t,4*num_t,dtype = torch.float64)"
   ]
  },
  {
   "cell_type": "code",
   "execution_count": 71,
   "id": "1bb1200d",
   "metadata": {},
   "outputs": [],
   "source": [
    "def expcostxT(x,V):\n",
    "    a = T.reshape((-1,1))@x.reshape((1,-1))\n",
    "    b = (torch.cos(a)-1)@V.reshape((-1,1))\n",
    "    c = torch.exp((range_feature*2/num_feature)*b)\n",
    "    return c\n",
    "def I(x):\n",
    "    y = copy.deepcopy(x)\n",
    "    y[abs(x)>1]=0\n",
    "    return y\n",
    "    \n",
    "def realtxT(x,V):\n",
    "    a1 = torch.sin(T.reshape((-1,1))@x.reshape((1,-1))) \n",
    "    a2 = T.reshape((-1,1))@I(x).reshape((1,-1))\n",
    "    a3 = a1+a2\n",
    "    a4 = a3@V.reshape((-1,1))\n",
    "    a5 = (range_feature*2/num_feature)*a4\n",
    "    a6 = torch.cos(a5)\n",
    "    return a6\n",
    "def imagetxT(x,V):\n",
    "    a1 = torch.sin(T.reshape((-1,1))@x.reshape((1,-1))) \n",
    "    a2 = T.reshape((-1,1))@I(x).reshape((1,-1))\n",
    "    a3 = a1+a2\n",
    "    a4 = a3@V.reshape((-1,1))\n",
    "    a5 = (range_feature*2/num_feature)*a4\n",
    "    a6 = torch.sin(a5)\n",
    "    return a6"
   ]
  },
  {
   "cell_type": "code",
   "execution_count": 73,
   "id": "664f2b1b",
   "metadata": {},
   "outputs": [],
   "source": [
    "def net_3(X):\n",
    "    X_clone = X.clone()\n",
    "    X = X.reshape((-1, num_feature))\n",
    "    H1 = relu(X@W1 + b1)  # 这里“@”代表矩阵乘法\n",
    "    H2 = relu(H1@W2 + b2)\n",
    "    V = (H2@W3 + b3)\n",
    "    R_1 = expcostxT(X,V)*realtxT(x,V)\n",
    "    R_2 = expcostxT(X,V)*imagetxT(x,V)\n",
    "    R = torch.cat((R_1,R_2),1).reshape((1,-1))\n",
    "    return R"
   ]
  },
  {
   "cell_type": "code",
   "execution_count": 74,
   "id": "3df7d704",
   "metadata": {},
   "outputs": [
    {
     "name": "stderr",
     "output_type": "stream",
     "text": [
      "/var/folders/ym/35040q6j5x912qskn704_hy80000gn/T/ipykernel_96530/2169779723.py:5: UserWarning: To copy construct from a tensor, it is recommended to use sourceTensor.clone().detach() or sourceTensor.clone().detach().requires_grad_(True), rather than torch.tensor(sourceTensor).\n",
      "  return torch.tensor(b,dtype = torch.float64)\n"
     ]
    },
    {
     "data": {
      "text/plain": [
       "tensor([[ 9.3916e-02,  1.4239e-02,  9.1926e-02,  1.0225e-02,  1.1474e-01,\n",
       "          6.2280e-03,  1.1084e-01,  8.4286e-03,  1.0211e-01,  1.6538e-02,\n",
       "          1.2099e-01,  8.8730e-03,  1.1064e-01,  1.1871e-02,  1.2072e-01,\n",
       "          1.8005e-02,  1.1668e-01,  1.0969e-02,  1.2695e-01,  1.6264e-02,\n",
       "          1.1313e-01,  1.0432e-02,  1.0992e-01,  1.0709e-02,  1.0906e-01,\n",
       "          6.9125e-03,  1.0511e-01,  7.0521e-03,  1.0825e-01,  7.7611e-03,\n",
       "          1.0820e-01,  1.7471e-02,  1.0113e-01,  1.0607e-02,  1.0787e-01,\n",
       "          6.5873e-03,  9.6578e-02,  4.0446e-03,  1.0703e-01,  7.9087e-03,\n",
       "          9.5001e-02,  1.3894e-03,  1.1082e-01,  1.1743e-02,  1.0231e-01,\n",
       "          9.8051e-03,  1.0515e-01,  1.1278e-02,  9.6211e-02,  2.2009e-03,\n",
       "          1.0592e-01,  1.1105e-02,  1.0320e-01,  9.3367e-03,  1.0952e-01,\n",
       "          1.5926e-02,  1.1072e-01,  2.7425e-03,  1.0502e-01,  1.0298e-02,\n",
       "          1.0357e-01,  1.0621e-02,  1.1396e-01,  1.4781e-02,  1.0767e-01,\n",
       "         -4.2439e-03,  1.0053e-01,  8.9207e-03,  9.8944e-02,  1.3617e-02,\n",
       "          1.1312e-01,  1.0954e-02,  1.1288e-01,  3.3907e-03,  1.1039e-01,\n",
       "          4.3541e-03,  1.1445e-01,  1.4051e-02,  1.1346e-01,  6.1685e-03,\n",
       "          1.0929e-01, -1.6524e-04,  1.0195e-01,  1.1059e-02,  1.1049e-01,\n",
       "          1.7784e-02,  1.0203e-01,  1.0508e-02,  1.1607e-01,  1.0279e-02,\n",
       "          9.6489e-02,  4.5579e-03,  1.0867e-01,  4.4521e-03,  1.0455e-01,\n",
       "          1.7520e-03,  1.0282e-01,  4.3889e-03,  1.0694e-01,  8.2469e-03,\n",
       "          1.0334e-01,  1.1088e-03,  1.0134e-01,  8.8895e-03,  9.8104e-02,\n",
       "          7.2584e-03,  1.0262e-01,  7.1632e-03,  9.5837e-02,  4.3417e-03,\n",
       "          1.0693e-01,  2.1321e-03,  1.0014e-01,  7.3934e-03,  1.0390e-01,\n",
       "          1.2226e-02,  9.8251e-02,  4.7667e-03,  1.0721e-01,  2.5080e-03,\n",
       "          9.7575e-02,  4.7035e-03,  1.1726e-01,  4.8833e-03,  1.0196e-01,\n",
       "          3.7259e-03,  1.1494e-01, -3.3005e-05,  9.6016e-02,  1.3088e-02,\n",
       "          1.1305e-01,  6.5330e-03,  1.0121e-01,  9.2174e-03,  1.0588e-01,\n",
       "         -3.4670e-04,  1.0046e-01,  7.2353e-03,  1.1352e-01,  2.1035e-03,\n",
       "          1.0537e-01,  3.5461e-03,  1.1091e-01, -9.4334e-03,  1.0668e-01,\n",
       "         -1.7713e-03,  1.0349e-01,  6.4077e-03,  9.9376e-02,  6.5810e-03,\n",
       "          1.1589e-01,  4.1322e-03,  9.1855e-02,  1.3447e-04,  1.0613e-01,\n",
       "         -3.9199e-03,  9.4458e-02,  5.7933e-03,  9.9553e-02,  7.9049e-03,\n",
       "          9.6058e-02,  2.0390e-03,  9.8659e-02,  1.8145e-03,  9.9553e-02,\n",
       "          2.4569e-04,  1.0123e-01, -1.5905e-03,  1.0002e-01, -7.6789e-04,\n",
       "          1.0440e-01, -3.1643e-03,  9.9567e-02, -9.4766e-04,  1.0848e-01,\n",
       "          4.8735e-03,  1.0531e-01,  5.1780e-03,  1.1103e-01, -4.6156e-04,\n",
       "          1.1051e-01,  3.7804e-04,  1.2508e-01,  9.6816e-03,  1.1451e-01,\n",
       "          2.8783e-03,  1.2749e-01, -7.2689e-04,  1.2818e-01, -7.2643e-03,\n",
       "          1.1998e-01,  7.9037e-03,  1.2339e-01,  1.5910e-03,  1.1541e-01,\n",
       "         -4.6064e-03,  1.2193e-01,  6.3874e-03,  1.1447e-01, -5.8407e-03,\n",
       "          1.1447e-01,  5.8407e-03,  1.2193e-01, -6.3874e-03,  1.1541e-01,\n",
       "          4.6064e-03,  1.2339e-01, -1.5910e-03,  1.1998e-01, -7.9037e-03,\n",
       "          1.2818e-01,  7.2643e-03,  1.2749e-01,  7.2689e-04,  1.1451e-01,\n",
       "         -2.8783e-03,  1.2508e-01, -9.6816e-03,  1.1051e-01, -3.7804e-04,\n",
       "          1.1103e-01,  4.6156e-04,  1.0531e-01, -5.1780e-03,  1.0848e-01,\n",
       "         -4.8735e-03,  9.9567e-02,  9.4766e-04,  1.0440e-01,  3.1643e-03,\n",
       "          1.0002e-01,  7.6789e-04,  1.0123e-01,  1.5905e-03,  9.9553e-02,\n",
       "         -2.4569e-04,  9.8659e-02, -1.8145e-03,  9.6058e-02, -2.0390e-03,\n",
       "          9.9553e-02, -7.9049e-03,  9.4458e-02, -5.7933e-03,  1.0613e-01,\n",
       "          3.9199e-03,  9.1855e-02, -1.3447e-04,  1.1589e-01, -4.1322e-03,\n",
       "          9.9376e-02, -6.5810e-03,  1.0349e-01, -6.4077e-03,  1.0668e-01,\n",
       "          1.7713e-03,  1.1091e-01,  9.4334e-03,  1.0537e-01, -3.5461e-03,\n",
       "          1.1352e-01, -2.1035e-03,  1.0046e-01, -7.2353e-03,  1.0588e-01,\n",
       "          3.4670e-04,  1.0121e-01, -9.2174e-03,  1.1305e-01, -6.5330e-03,\n",
       "          9.6016e-02, -1.3088e-02,  1.1494e-01,  3.3005e-05,  1.0196e-01,\n",
       "         -3.7259e-03,  1.1726e-01, -4.8833e-03,  9.7575e-02, -4.7035e-03,\n",
       "          1.0721e-01, -2.5080e-03,  9.8251e-02, -4.7667e-03,  1.0390e-01,\n",
       "         -1.2226e-02,  1.0014e-01, -7.3934e-03,  1.0693e-01, -2.1321e-03,\n",
       "          9.5837e-02, -4.3417e-03,  1.0262e-01, -7.1632e-03,  9.8104e-02,\n",
       "         -7.2584e-03,  1.0134e-01, -8.8895e-03,  1.0334e-01, -1.1088e-03,\n",
       "          1.0694e-01, -8.2469e-03,  1.0282e-01, -4.3889e-03,  1.0455e-01,\n",
       "         -1.7520e-03,  1.0867e-01, -4.4521e-03,  9.6489e-02, -4.5579e-03,\n",
       "          1.1607e-01, -1.0279e-02,  1.0203e-01, -1.0508e-02,  1.1049e-01,\n",
       "         -1.7784e-02,  1.0195e-01, -1.1059e-02,  1.0929e-01,  1.6524e-04,\n",
       "          1.1346e-01, -6.1685e-03,  1.1445e-01, -1.4051e-02,  1.1039e-01,\n",
       "         -4.3541e-03,  1.1288e-01, -3.3907e-03,  1.1312e-01, -1.0954e-02,\n",
       "          9.8944e-02, -1.3617e-02,  1.0053e-01, -8.9207e-03,  1.0767e-01,\n",
       "          4.2439e-03,  1.1396e-01, -1.4781e-02,  1.0357e-01, -1.0621e-02,\n",
       "          1.0502e-01, -1.0298e-02,  1.1072e-01, -2.7425e-03,  1.0952e-01,\n",
       "         -1.5926e-02,  1.0320e-01, -9.3367e-03,  1.0592e-01, -1.1105e-02,\n",
       "          9.6211e-02, -2.2009e-03,  1.0515e-01, -1.1278e-02,  1.0231e-01,\n",
       "         -9.8051e-03,  1.1082e-01, -1.1743e-02,  9.5001e-02, -1.3894e-03,\n",
       "          1.0703e-01, -7.9087e-03,  9.6578e-02, -4.0446e-03,  1.0787e-01,\n",
       "         -6.5873e-03,  1.0113e-01, -1.0607e-02,  1.0820e-01, -1.7471e-02,\n",
       "          1.0825e-01, -7.7611e-03,  1.0511e-01, -7.0521e-03,  1.0906e-01,\n",
       "         -6.9125e-03,  1.0992e-01, -1.0709e-02,  1.1313e-01, -1.0432e-02,\n",
       "          1.2695e-01, -1.6264e-02,  1.1668e-01, -1.0969e-02,  1.2072e-01,\n",
       "         -1.8005e-02,  1.1064e-01, -1.1871e-02,  1.2099e-01, -8.8730e-03,\n",
       "          1.0211e-01, -1.6538e-02,  1.1084e-01, -8.4286e-03,  1.1474e-01,\n",
       "         -6.2280e-03,  9.1926e-02, -1.0225e-02,  9.3916e-02, -1.4239e-02]],\n",
       "       dtype=torch.float64, grad_fn=<ReshapeAliasBackward0>)"
      ]
     },
     "execution_count": 74,
     "metadata": {},
     "output_type": "execute_result"
    }
   ],
   "source": [
    "net_3(features[0])"
   ]
  },
  {
   "cell_type": "code",
   "execution_count": 86,
   "id": "1d5751b3",
   "metadata": {},
   "outputs": [
    {
     "name": "stderr",
     "output_type": "stream",
     "text": [
      "/var/folders/ym/35040q6j5x912qskn704_hy80000gn/T/ipykernel_96530/2169779723.py:5: UserWarning: To copy construct from a tensor, it is recommended to use sourceTensor.clone().detach() or sourceTensor.clone().detach().requires_grad_(True), rather than torch.tensor(sourceTensor).\n",
      "  return torch.tensor(b,dtype = torch.float64)\n"
     ]
    },
    {
     "data": {
      "text/plain": [
       "[<matplotlib.lines.Line2D at 0x7fced32d1910>]"
      ]
     },
     "execution_count": 86,
     "metadata": {},
     "output_type": "execute_result"
    },
    {
     "data": {
      "image/png": "[encoded data removed]",
      "text/plain": [
       "<Figure size 640x480 with 1 Axes>"
      ]
     },
     "metadata": {},
     "output_type": "display_data"
    }
   ],
   "source": [
    "predict1 = list(net_3(features[0]))\n",
    "real_T = torch.zeros(int(len(T)))\n",
    "image_T = torch.zeros(int(len(T)))\n",
    "for i in range(len(T)):\n",
    "    if i%2 ==0:\n",
    "        real_T[int(i/2)] = predict1[0][i]\n",
    "    else:\n",
    "        image_T[int((i+1)/2)] = predict1[0][i]\n",
    "real_T = real_T[0:len(T)]        \n",
    "plt.plot(T,real_T.detach().numpy())"
   ]
  },
  {
   "cell_type": "code",
   "execution_count": 79,
   "id": "c4954acd",
   "metadata": {},
   "outputs": [
    {
     "data": {
      "text/plain": [
       "200"
      ]
     },
     "execution_count": 79,
     "metadata": {},
     "output_type": "execute_result"
    }
   ],
   "source": [
    "len(T)"
   ]
  },
  {
   "cell_type": "code",
   "execution_count": 80,
   "id": "be799a6c",
   "metadata": {},
   "outputs": [
    {
     "name": "stderr",
     "output_type": "stream",
     "text": [
      "/var/folders/ym/35040q6j5x912qskn704_hy80000gn/T/ipykernel_96530/2169779723.py:5: UserWarning: To copy construct from a tensor, it is recommended to use sourceTensor.clone().detach() or sourceTensor.clone().detach().requires_grad_(True), rather than torch.tensor(sourceTensor).\n",
      "  return torch.tensor(b,dtype = torch.float64)\n"
     ]
    },
    {
     "data": {
      "text/plain": [
       "torch.Size([1, 400])"
      ]
     },
     "execution_count": 80,
     "metadata": {},
     "output_type": "execute_result"
    }
   ],
   "source": [
    "net_3(features[0]).shape"
   ]
  },
  {
   "cell_type": "code",
   "execution_count": 85,
   "id": "2eb1ff33",
   "metadata": {},
   "outputs": [
    {
     "data": {
      "text/plain": [
       "torch.Size([101])"
      ]
     },
     "execution_count": 85,
     "metadata": {},
     "output_type": "execute_result"
    }
   ],
   "source": [
    "real_T = torch.zeros(int(len(T)/2)+1)\n",
    "real_T.shape"
   ]
  },
  {
   "cell_type": "code",
   "execution_count": null,
   "id": "f5b8aa2d",
   "metadata": {},
   "outputs": [],
   "source": []
  }
 ],
 "metadata": {
  "kernelspec": {
   "display_name": "Python 3 (ipykernel)",
   "language": "python",
   "name": "python3"
  },
  "language_info": {
   "codemirror_mode": {
    "name": "ipython",
    "version": 3
   },
   "file_extension": ".py",
   "mimetype": "text/x-python",
   "name": "python",
   "nbconvert_exporter": "python",
   "pygments_lexer": "ipython3",
   "version": "3.9.12"
  }
 },
 "nbformat": 4,
 "nbformat_minor": 5
}
