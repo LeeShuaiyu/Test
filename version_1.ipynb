{
 "cells": [
  {
   "cell_type": "code",
   "execution_count": 142,
   "id": "c01ee1a9",
   "metadata": {
    "pycharm": {
     "is_executing": true
    }
   },
   "outputs": [],
   "source": [
    "import numpy as np\n",
    "import torch\n",
    "import math\n",
    "import pandas as pd\n",
    "import matplotlib.pyplot as plt\n",
    "import matplotlib.image as mping \n",
    "import cmath\n",
    "from torch import nn\n",
    "import random\n",
    "from torch.utils import data\n",
    "import copy"
   ]
  },
  {
   "cell_type": "code",
   "execution_count": 2,
   "id": "b00d248c",
   "metadata": {},
   "outputs": [],
   "source": [
    "class generator_t:\n",
    "    def __init__(self,df,mu = 0, sigma = 1,samplesize = 1000, h = 0.01):\n",
    "        self.df = df\n",
    "        self.mu = mu\n",
    "        self.sigma = sigma\n",
    "        self.samplesize = samplesize\n",
    "        self.frequency = h\n",
    "    @staticmethod\n",
    "    def cumulate(delta):\n",
    "        data = torch.zeros(np.shape(delta))\n",
    "        n = np.shape(delta)[0]\n",
    "        for i in range(n-1):\n",
    "            data[i+1] = data[i]+delta[i]\n",
    "        return np.array(data)\n",
    "    \n",
    "    def generate_standard_t(self):\n",
    "        d0 = np.random.standard_t(self.df, (self.samplesize,1))\n",
    "        d1 = self.cumulate(d0)\n",
    "        delta = torch.tensor(d0)\n",
    "        data = torch.tensor(d1)\n",
    "        delta.requires_grad_(True)  # 等价于x=torch.arange(4.0,requires_grad=True)\n",
    "        return delta,data"
   ]
  },
  {
   "cell_type": "markdown",
   "id": "bf436379",
   "metadata": {},
   "source": [
    "### Characteristic Function"
   ]
  },
  {
   "cell_type": "code",
   "execution_count": 3,
   "id": "96b3715f",
   "metadata": {},
   "outputs": [],
   "source": [
    "class Characteristic_function:\n",
    "    def __init__(self,data):\n",
    "        self.data = data   \n",
    "    def ecf(self,t):\n",
    "        n = len(self.data)\n",
    "        if type(t)== int:\n",
    "            C = torch.zeros((n,1))\n",
    "            S = torch.zeros((n,1))\n",
    "            for i in range(n):\n",
    "                C[i] = math.cos(t*self.data[i])\n",
    "                S[i] = math.sin(t*self.data[i])\n",
    "            s = torch.mean(S)\n",
    "            c = torch.mean(C)\n",
    "            return c,s                \n",
    "        else:    \n",
    "            m = len(t)\n",
    "            C = torch.zeros((n,1))\n",
    "            S = torch.zeros((n,1))\n",
    "            R = torch.zeros((m,2))\n",
    "            for j in range(m):\n",
    "                for i in range(n):\n",
    "                    C[i] = math.cos(t[j]*self.data[i])\n",
    "                    S[i] = math.sin(t[j]*self.data[i])\n",
    "                s = float(torch.mean(S))\n",
    "                c = float(torch.mean(C))\n",
    "                R[j,0] = c\n",
    "                R[j,1] = s\n",
    "        return R\n",
    "    def ecf_h(self,t,h):\n",
    "        n = len(self.data)\n",
    "        if type(t)== int:\n",
    "            C = torch.zeros((n,1))\n",
    "            S = torch.zeros((n,1))\n",
    "            for i in range(n):\n",
    "                C[i] = math.cos(t*self.data[i])\n",
    "                S[i] = math.sin(t*self.data[i])\n",
    "            s = torch.mean(S)\n",
    "            c = torch.mean(C)\n",
    "            f = complex(c,s)\n",
    "            q,w = cmath.polar(f)\n",
    "            q = q**h\n",
    "            w = w*h\n",
    "            c = math.cos(w)*q\n",
    "            s = math.sin(w)*q\n",
    "            return c,s                \n",
    "        else:    \n",
    "            m = len(t)\n",
    "            C = torch.zeros((n,1))\n",
    "            S = torch.zeros((n,1))\n",
    "            R = torch.zeros((m,2))\n",
    "            for j in range(m):\n",
    "                for i in range(n):\n",
    "                    C[i] = math.cos(t[j]*self.data[i])\n",
    "                    S[i] = math.sin(t[j]*self.data[i])\n",
    "                s = torch.mean(S)\n",
    "                c = torch.mean(C)\n",
    "                f = complex(c,s)\n",
    "                q,w = cmath.polar(f)\n",
    "                q = q**h\n",
    "                w = w*h\n",
    "                c = math.cos(w)*q\n",
    "                s = math.sin(w)*q\n",
    "                R[j,0] = c\n",
    "                R[j,1] = s\n",
    "        return R\n"
   ]
  },
  {
   "cell_type": "code",
   "execution_count": 4,
   "id": "20ff731b",
   "metadata": {},
   "outputs": [],
   "source": [
    "class Characteristic_function:\n",
    "    def __init__(self,data):\n",
    "        self.data = data   \n",
    "    def ecf(self,t):\n",
    "        n = len(self.data)\n",
    "        if type(t)== int:\n",
    "            C = torch.zeros((n,1))\n",
    "            S = torch.zeros((n,1))\n",
    "            for i in range(n):\n",
    "                C[i] = math.cos(t*self.data[i])\n",
    "                S[i] = math.sin(t*self.data[i])\n",
    "            s = torch.mean(S)\n",
    "            c = torch.mean(C)\n",
    "            return c,s                \n",
    "        else:    \n",
    "            m = len(t)\n",
    "            R = []\n",
    "            for j in range(m):\n",
    "                S = []\n",
    "                C = []\n",
    "                for i in range(n):\n",
    "                    C.append(math.cos(t[j]*self.data[i]))\n",
    "                    S.append(math.sin(t[j]*self.data[i]))\n",
    "                S = torch.tensor(S,dtype = torch.float64)\n",
    "                C = torch.tensor(C,dtype = torch.float64)\n",
    "                s = float(torch.mean(S))\n",
    "                c = float(torch.mean(C))\n",
    "                R.append(c)\n",
    "                R.append(s)\n",
    "            R = torch.tensor(R,dtype = torch.float64)\n",
    "        return R\n",
    "    def ecf_h(self,t,h):\n",
    "        n = len(self.data)\n",
    "        if type(t)== int:\n",
    "            C = torch.zeros((n,1))\n",
    "            S = torch.zeros((n,1))\n",
    "            for i in range(n):\n",
    "                C[i] = math.cos(t*self.data[i])\n",
    "                S[i] = math.sin(t*self.data[i])\n",
    "            s = torch.mean(S)\n",
    "            c = torch.mean(C)\n",
    "            f = complex(c,s)\n",
    "            q,w = cmath.polar(f)\n",
    "            q = q**h\n",
    "            w = w*h\n",
    "            c = math.cos(w)*q\n",
    "            s = math.sin(w)*q\n",
    "            return c,s                \n",
    "        else:    \n",
    "            m = len(t)\n",
    "            C = torch.zeros((n,1))\n",
    "            S = torch.zeros((n,1))\n",
    "            R = torch.zeros((m,2))\n",
    "            for j in range(m):\n",
    "                for i in range(n):\n",
    "                    C[i] = math.cos(t[j]*self.data[i])\n",
    "                    S[i] = math.sin(t[j]*self.data[i])\n",
    "                s = torch.mean(S)\n",
    "                c = torch.mean(C)\n",
    "                f = complex(c,s)\n",
    "                q,w = cmath.polar(f)\n",
    "                q = q**h\n",
    "                w = w*h\n",
    "                c = math.cos(w)*q\n",
    "                s = math.sin(w)*q\n",
    "                R[j,0] = c\n",
    "                R[j,1] = s\n",
    "        return R\n"
   ]
  },
  {
   "cell_type": "code",
   "execution_count": 146,
   "id": "fd382f2c",
   "metadata": {},
   "outputs": [],
   "source": [
    "num_feature = 20\n",
    "range_feature = 10\n",
    "num_t = 10\n",
    "range_t = 5\n",
    "num_labels = num_t\n",
    "num_sample = 15\n",
    "total = num_sample*num_feature\n",
    "t = torch.linspace(-range_t,range_t,num_t,dtype = torch.float64)\n",
    "#t = t.reshape((-1,len(t)))\n",
    "x = torch.linspace(-range_feature,range_feature,num_feature,dtype = torch.float64)"
   ]
  },
  {
   "cell_type": "code",
   "execution_count": 147,
   "id": "e8cbce9d",
   "metadata": {},
   "outputs": [],
   "source": [
    "#实例化(V =3)\n",
    "Gen3 = generator_t(3,samplesize =total)\n",
    "\n",
    "delta,path = Gen3.generate_standard_t()\n",
    "Chf = Characteristic_function(delta)"
   ]
  },
  {
   "cell_type": "code",
   "execution_count": 148,
   "id": "89beae93",
   "metadata": {},
   "outputs": [],
   "source": [
    "a = []\n",
    "for i in range(num_sample):\n",
    "    delta,path = Gen3.generate_standard_t()\n",
    "    Chf = Characteristic_function(delta)\n",
    "    labels = Chf.ecf(t).reshape((1,-1))\n",
    "    a.append([x.reshape((-1,len(x))),labels])\n"
   ]
  },
  {
   "cell_type": "code",
   "execution_count": 149,
   "id": "e3889d3f",
   "metadata": {},
   "outputs": [
    {
     "data": {
      "text/plain": [
       "[[tensor([[-10.0000,  -8.9474,  -7.8947,  -6.8421,  -5.7895,  -4.7368,  -3.6842,\n",
       "            -2.6316,  -1.5789,  -0.5263,   0.5263,   1.5789,   2.6316,   3.6842,\n",
       "             4.7368,   5.7895,   6.8421,   7.8947,   8.9474,  10.0000]],\n",
       "         dtype=torch.float64),\n",
       "  tensor([[-0.0080,  0.0551,  0.0560,  0.0264,  0.1401,  0.0227,  0.2296,  0.0128,\n",
       "            0.7348,  0.0196,  0.7348, -0.0196,  0.2296, -0.0128,  0.1401, -0.0227,\n",
       "            0.0560, -0.0264, -0.0080, -0.0551]], dtype=torch.float64)],\n",
       " [tensor([[-10.0000,  -8.9474,  -7.8947,  -6.8421,  -5.7895,  -4.7368,  -3.6842,\n",
       "            -2.6316,  -1.5789,  -0.5263,   0.5263,   1.5789,   2.6316,   3.6842,\n",
       "             4.7368,   5.7895,   6.8421,   7.8947,   8.9474,  10.0000]],\n",
       "         dtype=torch.float64),\n",
       "  tensor([[ 0.0277, -0.0084,  0.0551,  0.0081,  0.0604,  0.0262,  0.2261, -0.0050,\n",
       "            0.7364, -0.0345,  0.7364,  0.0345,  0.2261,  0.0050,  0.0604, -0.0262,\n",
       "            0.0551, -0.0081,  0.0277,  0.0084]], dtype=torch.float64)],\n",
       " [tensor([[-10.0000,  -8.9474,  -7.8947,  -6.8421,  -5.7895,  -4.7368,  -3.6842,\n",
       "            -2.6316,  -1.5789,  -0.5263,   0.5263,   1.5789,   2.6316,   3.6842,\n",
       "             4.7368,   5.7895,   6.8421,   7.8947,   8.9474,  10.0000]],\n",
       "         dtype=torch.float64),\n",
       "  tensor([[-0.0681,  0.0521, -0.0323,  0.0132,  0.0185,  0.0605,  0.1563,  0.0047,\n",
       "            0.7427, -0.0013,  0.7427,  0.0013,  0.1563, -0.0047,  0.0185, -0.0605,\n",
       "           -0.0323, -0.0132, -0.0681, -0.0521]], dtype=torch.float64)],\n",
       " [tensor([[-10.0000,  -8.9474,  -7.8947,  -6.8421,  -5.7895,  -4.7368,  -3.6842,\n",
       "            -2.6316,  -1.5789,  -0.5263,   0.5263,   1.5789,   2.6316,   3.6842,\n",
       "             4.7368,   5.7895,   6.8421,   7.8947,   8.9474,  10.0000]],\n",
       "         dtype=torch.float64),\n",
       "  tensor([[-0.0080, -0.0569, -0.0581, -0.0364,  0.0196,  0.0072,  0.2339,  0.0051,\n",
       "            0.7744,  0.0038,  0.7744, -0.0038,  0.2339, -0.0051,  0.0196, -0.0072,\n",
       "           -0.0581,  0.0364, -0.0080,  0.0569]], dtype=torch.float64)],\n",
       " [tensor([[-10.0000,  -8.9474,  -7.8947,  -6.8421,  -5.7895,  -4.7368,  -3.6842,\n",
       "            -2.6316,  -1.5789,  -0.5263,   0.5263,   1.5789,   2.6316,   3.6842,\n",
       "             4.7368,   5.7895,   6.8421,   7.8947,   8.9474,  10.0000]],\n",
       "         dtype=torch.float64),\n",
       "  tensor([[ 0.0334,  0.0988,  0.0927,  0.0116,  0.0393,  0.0676,  0.1815,  0.0413,\n",
       "            0.7574, -0.0317,  0.7574,  0.0317,  0.1815, -0.0413,  0.0393, -0.0676,\n",
       "            0.0927, -0.0116,  0.0334, -0.0988]], dtype=torch.float64)],\n",
       " [tensor([[-10.0000,  -8.9474,  -7.8947,  -6.8421,  -5.7895,  -4.7368,  -3.6842,\n",
       "            -2.6316,  -1.5789,  -0.5263,   0.5263,   1.5789,   2.6316,   3.6842,\n",
       "             4.7368,   5.7895,   6.8421,   7.8947,   8.9474,  10.0000]],\n",
       "         dtype=torch.float64),\n",
       "  tensor([[-0.0214, -0.0718, -0.0396, -0.1066, -0.0159,  0.0018,  0.2707,  0.0474,\n",
       "            0.7533,  0.0165,  0.7533, -0.0165,  0.2707, -0.0474, -0.0159, -0.0018,\n",
       "           -0.0396,  0.1066, -0.0214,  0.0718]], dtype=torch.float64)],\n",
       " [tensor([[-10.0000,  -8.9474,  -7.8947,  -6.8421,  -5.7895,  -4.7368,  -3.6842,\n",
       "            -2.6316,  -1.5789,  -0.5263,   0.5263,   1.5789,   2.6316,   3.6842,\n",
       "             4.7368,   5.7895,   6.8421,   7.8947,   8.9474,  10.0000]],\n",
       "         dtype=torch.float64),\n",
       "  tensor([[-0.0537, -0.0574, -0.0132, -0.0340,  0.0395,  0.0265,  0.2056,  0.0461,\n",
       "            0.7249,  0.0104,  0.7249, -0.0104,  0.2056, -0.0461,  0.0395, -0.0265,\n",
       "           -0.0132,  0.0340, -0.0537,  0.0574]], dtype=torch.float64)],\n",
       " [tensor([[-10.0000,  -8.9474,  -7.8947,  -6.8421,  -5.7895,  -4.7368,  -3.6842,\n",
       "            -2.6316,  -1.5789,  -0.5263,   0.5263,   1.5789,   2.6316,   3.6842,\n",
       "             4.7368,   5.7895,   6.8421,   7.8947,   8.9474,  10.0000]],\n",
       "         dtype=torch.float64),\n",
       "  tensor([[-0.0150,  0.0306,  0.0105, -0.0282,  0.0222, -0.0026,  0.1743, -0.0245,\n",
       "            0.7411, -0.0124,  0.7411,  0.0124,  0.1743,  0.0245,  0.0222,  0.0026,\n",
       "            0.0105,  0.0282, -0.0150, -0.0306]], dtype=torch.float64)],\n",
       " [tensor([[-10.0000,  -8.9474,  -7.8947,  -6.8421,  -5.7895,  -4.7368,  -3.6842,\n",
       "            -2.6316,  -1.5789,  -0.5263,   0.5263,   1.5789,   2.6316,   3.6842,\n",
       "             4.7368,   5.7895,   6.8421,   7.8947,   8.9474,  10.0000]],\n",
       "         dtype=torch.float64),\n",
       "  tensor([[ 0.0471, -0.0018,  0.0085, -0.0368,  0.0558, -0.0409,  0.1892, -0.0077,\n",
       "            0.7515, -0.0325,  0.7515,  0.0325,  0.1892,  0.0077,  0.0558,  0.0409,\n",
       "            0.0085,  0.0368,  0.0471,  0.0018]], dtype=torch.float64)],\n",
       " [tensor([[-10.0000,  -8.9474,  -7.8947,  -6.8421,  -5.7895,  -4.7368,  -3.6842,\n",
       "            -2.6316,  -1.5789,  -0.5263,   0.5263,   1.5789,   2.6316,   3.6842,\n",
       "             4.7368,   5.7895,   6.8421,   7.8947,   8.9474,  10.0000]],\n",
       "         dtype=torch.float64),\n",
       "  tensor([[ 0.0470, -0.0552,  0.0119, -0.0858,  0.1085, -0.0527,  0.2883, -0.0502,\n",
       "            0.7303, -0.0090,  0.7303,  0.0090,  0.2883,  0.0502,  0.1085,  0.0527,\n",
       "            0.0119,  0.0858,  0.0470,  0.0552]], dtype=torch.float64)],\n",
       " [tensor([[-10.0000,  -8.9474,  -7.8947,  -6.8421,  -5.7895,  -4.7368,  -3.6842,\n",
       "            -2.6316,  -1.5789,  -0.5263,   0.5263,   1.5789,   2.6316,   3.6842,\n",
       "             4.7368,   5.7895,   6.8421,   7.8947,   8.9474,  10.0000]],\n",
       "         dtype=torch.float64),\n",
       "  tensor([[ 0.0195,  0.0098, -0.0223, -0.0077,  0.0145,  0.0023,  0.2175,  0.0235,\n",
       "            0.7692, -0.0061,  0.7692,  0.0061,  0.2175, -0.0235,  0.0145, -0.0023,\n",
       "           -0.0223,  0.0077,  0.0195, -0.0098]], dtype=torch.float64)],\n",
       " [tensor([[-10.0000,  -8.9474,  -7.8947,  -6.8421,  -5.7895,  -4.7368,  -3.6842,\n",
       "            -2.6316,  -1.5789,  -0.5263,   0.5263,   1.5789,   2.6316,   3.6842,\n",
       "             4.7368,   5.7895,   6.8421,   7.8947,   8.9474,  10.0000]],\n",
       "         dtype=torch.float64),\n",
       "  tensor([[ 0.0059, -0.0225,  0.0119, -0.0794,  0.0390, -0.0725,  0.2065, -0.0383,\n",
       "            0.7810, -0.0479,  0.7810,  0.0479,  0.2065,  0.0383,  0.0390,  0.0725,\n",
       "            0.0119,  0.0794,  0.0059,  0.0225]], dtype=torch.float64)],\n",
       " [tensor([[-10.0000,  -8.9474,  -7.8947,  -6.8421,  -5.7895,  -4.7368,  -3.6842,\n",
       "            -2.6316,  -1.5789,  -0.5263,   0.5263,   1.5789,   2.6316,   3.6842,\n",
       "             4.7368,   5.7895,   6.8421,   7.8947,   8.9474,  10.0000]],\n",
       "         dtype=torch.float64),\n",
       "  tensor([[-0.0048,  0.0274, -0.0481, -0.0572, -0.0079,  0.0814,  0.1702,  0.0872,\n",
       "            0.7450,  0.0438,  0.7450, -0.0438,  0.1702, -0.0872, -0.0079, -0.0814,\n",
       "           -0.0481,  0.0572, -0.0048, -0.0274]], dtype=torch.float64)],\n",
       " [tensor([[-10.0000,  -8.9474,  -7.8947,  -6.8421,  -5.7895,  -4.7368,  -3.6842,\n",
       "            -2.6316,  -1.5789,  -0.5263,   0.5263,   1.5789,   2.6316,   3.6842,\n",
       "             4.7368,   5.7895,   6.8421,   7.8947,   8.9474,  10.0000]],\n",
       "         dtype=torch.float64),\n",
       "  tensor([[-0.0278, -0.0212, -0.0451, -0.0285,  0.0042, -0.0371,  0.1820,  0.0563,\n",
       "            0.7262,  0.0074,  0.7262, -0.0074,  0.1820, -0.0563,  0.0042,  0.0371,\n",
       "           -0.0451,  0.0285, -0.0278,  0.0212]], dtype=torch.float64)],\n",
       " [tensor([[-10.0000,  -8.9474,  -7.8947,  -6.8421,  -5.7895,  -4.7368,  -3.6842,\n",
       "            -2.6316,  -1.5789,  -0.5263,   0.5263,   1.5789,   2.6316,   3.6842,\n",
       "             4.7368,   5.7895,   6.8421,   7.8947,   8.9474,  10.0000]],\n",
       "         dtype=torch.float64),\n",
       "  tensor([[ 0.0789, -0.0329,  0.0546, -0.0215,  0.0598, -0.0406,  0.2315, -0.0036,\n",
       "            0.7350,  0.0101,  0.7350, -0.0101,  0.2315,  0.0036,  0.0598,  0.0406,\n",
       "            0.0546,  0.0215,  0.0789,  0.0329]], dtype=torch.float64)]]"
      ]
     },
     "execution_count": 149,
     "metadata": {},
     "output_type": "execute_result"
    }
   ],
   "source": [
    "a"
   ]
  },
  {
   "cell_type": "code",
   "execution_count": 150,
   "id": "5024595f",
   "metadata": {},
   "outputs": [
    {
     "data": {
      "text/plain": [
       "tensor([-0.0080,  0.0551,  0.0560,  0.0264,  0.1401,  0.0227,  0.2296,  0.0128,\n",
       "         0.7348,  0.0196,  0.7348, -0.0196,  0.2296, -0.0128,  0.1401, -0.0227,\n",
       "         0.0560, -0.0264, -0.0080, -0.0551], dtype=torch.float64)"
      ]
     },
     "execution_count": 150,
     "metadata": {},
     "output_type": "execute_result"
    }
   ],
   "source": [
    "df = pd.DataFrame(a)\n",
    "features = df[0]\n",
    "labels = df[1]\n",
    "df[1][0][0]"
   ]
  },
  {
   "cell_type": "code",
   "execution_count": 151,
   "id": "c2e4b5a3",
   "metadata": {},
   "outputs": [],
   "source": [
    "def load_array(data_arrays, batch_size, is_train=True):  #@save\n",
    "    \"\"\"构造一个PyTorch数据迭代器\"\"\"\n",
    "    dataset = data.TensorDataset(*data_arrays)\n",
    "    return data.DataLoader(dataset, batch_size, shuffle=is_train)\n"
   ]
  },
  {
   "cell_type": "code",
   "execution_count": 152,
   "id": "c50d3ed4",
   "metadata": {},
   "outputs": [],
   "source": [
    "D_loader = data.DataLoader(a, 2, shuffle=False)"
   ]
  },
  {
   "cell_type": "code",
   "execution_count": 153,
   "id": "501b3fff",
   "metadata": {},
   "outputs": [
    {
     "data": {
      "text/plain": [
       "[tensor([[[-10.0000,  -8.9474,  -7.8947,  -6.8421,  -5.7895,  -4.7368,  -3.6842,\n",
       "            -2.6316,  -1.5789,  -0.5263,   0.5263,   1.5789,   2.6316,   3.6842,\n",
       "             4.7368,   5.7895,   6.8421,   7.8947,   8.9474,  10.0000]],\n",
       " \n",
       "         [[-10.0000,  -8.9474,  -7.8947,  -6.8421,  -5.7895,  -4.7368,  -3.6842,\n",
       "            -2.6316,  -1.5789,  -0.5263,   0.5263,   1.5789,   2.6316,   3.6842,\n",
       "             4.7368,   5.7895,   6.8421,   7.8947,   8.9474,  10.0000]]],\n",
       "        dtype=torch.float64),\n",
       " tensor([[[-0.0080,  0.0551,  0.0560,  0.0264,  0.1401,  0.0227,  0.2296,\n",
       "            0.0128,  0.7348,  0.0196,  0.7348, -0.0196,  0.2296, -0.0128,\n",
       "            0.1401, -0.0227,  0.0560, -0.0264, -0.0080, -0.0551]],\n",
       " \n",
       "         [[ 0.0277, -0.0084,  0.0551,  0.0081,  0.0604,  0.0262,  0.2261,\n",
       "           -0.0050,  0.7364, -0.0345,  0.7364,  0.0345,  0.2261,  0.0050,\n",
       "            0.0604, -0.0262,  0.0551, -0.0081,  0.0277,  0.0084]]],\n",
       "        dtype=torch.float64)]"
      ]
     },
     "execution_count": 153,
     "metadata": {},
     "output_type": "execute_result"
    }
   ],
   "source": [
    "next(iter(D_loader)) "
   ]
  },
  {
   "cell_type": "code",
   "execution_count": 154,
   "id": "e79a1684",
   "metadata": {},
   "outputs": [],
   "source": [
    "# 初始化参数定义\n",
    "\n",
    "\n",
    "hidden_2, hidden_3 = 256, 256\n",
    "\n",
    "W1 = nn.Parameter(torch.randn(\n",
    "    num_feature, hidden_2, requires_grad=True,dtype = torch.float64) * 0.01)\n",
    "b1 = nn.Parameter(torch.zeros(hidden_2, requires_grad=True,dtype = torch.float64))\n",
    "\n",
    "W2 = nn.Parameter(torch.randn(\n",
    "    hidden_2, hidden_3, requires_grad=True,dtype = torch.float64) * 0.01)\n",
    "b2 = nn.Parameter(torch.zeros(hidden_3, requires_grad=True,dtype = torch.float64))\n",
    "\n",
    "W3 = nn.Parameter(torch.randn(\n",
    "    hidden_3, num_feature, requires_grad=True,dtype = torch.float64) * 0.01)\n",
    "b3 = nn.Parameter(torch.zeros(num_feature, requires_grad=True,dtype = torch.float64))\n",
    "\n",
    "\n",
    "params = [W1, b1, W2, b2, W3, b3]"
   ]
  },
  {
   "cell_type": "code",
   "execution_count": 155,
   "id": "e66615a1",
   "metadata": {},
   "outputs": [],
   "source": [
    "#激活函数\n",
    "def relu(X):\n",
    "    a = torch.zeros_like(X)\n",
    "    b = torch.max(X, a)\n",
    "    return torch.tensor(b,dtype = torch.float64)"
   ]
  },
  {
   "cell_type": "markdown",
   "id": "431bfd58",
   "metadata": {},
   "source": [
    "## $\\phi(t) = \\exp\\{\\frac{1}{20}\\sum_{j=1}^{40}(e^{itx_j}-1-itx\\mathbb{1}_{|x_j|\\leq 1})\\mathbf{\\nu}_\\theta(x_j)\\}$\n",
    "## $\\phi(t) = \\exp\\{\\frac{1}{20}\\mathbf{Y(X,T)}^T\\mathbf{\\nu}_\\theta(X)\\}$"
   ]
  },
  {
   "cell_type": "code",
   "execution_count": 156,
   "id": "0bde7355",
   "metadata": {},
   "outputs": [],
   "source": [
    "def net_1(X):\n",
    "    X_clone = X.clone()\n",
    "    X = X.reshape((-1, num_feature))\n",
    "    H1 = relu(X@W1 + b1)  # 这里“@”代表矩阵乘法\n",
    "    H2 = relu(H1@W2 + b2)\n",
    "    V = (H2@W3 + b3)\n",
    "    return V\n"
   ]
  },
  {
   "cell_type": "code",
   "execution_count": 157,
   "id": "964ffb5b",
   "metadata": {},
   "outputs": [],
   "source": [
    "def expcostx(x):\n",
    "    a = t.reshape((-1,1))@x.reshape((1,-1))\n",
    "    b = (torch.cos(a)-1)@net_1(x).reshape((-1,1))\n",
    "    c = torch.exp((range_feature*2/num_feature)*b)\n",
    "    return c\n",
    "def I(x):\n",
    "    y = copy.deepcopy(x)\n",
    "    y[abs(x)>1]=0\n",
    "    return y\n",
    "    \n",
    "def realtx(x):\n",
    "    a1 = torch.sin(t.reshape((-1,1))@x.reshape((1,-1))) \n",
    "    a2 = t.reshape((-1,1))@I(x).reshape((1,-1))\n",
    "    a3 = a1+a2\n",
    "    a4 = a3@net_1(x).reshape((-1,1))\n",
    "    a5 = (range_feature*2/num_feature)*a4\n",
    "    a6 = torch.cos(a5)\n",
    "    return a6\n",
    "def imagetx(x):\n",
    "    a1 = torch.sin(t.reshape((-1,1))@x.reshape((1,-1))) \n",
    "    a2 = t.reshape((-1,1))@I(x).reshape((1,-1))\n",
    "    a3 = a1+a2\n",
    "    a4 = a3@net_1(x).reshape((-1,1))\n",
    "    a5 = (range_feature*2/num_feature)*a4\n",
    "    a6 = torch.sin(a5)\n",
    "    return a6"
   ]
  },
  {
   "cell_type": "code",
   "execution_count": 161,
   "id": "adde406b",
   "metadata": {},
   "outputs": [
    {
     "name": "stderr",
     "output_type": "stream",
     "text": [
      "C:\\Users\\Administrator\\AppData\\Local\\Temp\\ipykernel_10384\\2169779723.py:5: UserWarning: To copy construct from a tensor, it is recommended to use sourceTensor.clone().detach() or sourceTensor.clone().detach().requires_grad_(True), rather than torch.tensor(sourceTensor).\n",
      "  return torch.tensor(b,dtype = torch.float64)\n"
     ]
    },
    {
     "data": {
      "text/plain": [
       "tensor([[1.0367],\n",
       "        [1.0040],\n",
       "        [0.9985],\n",
       "        [1.0095],\n",
       "        [1.0200],\n",
       "        [1.0200],\n",
       "        [1.0095],\n",
       "        [0.9985],\n",
       "        [1.0040],\n",
       "        [1.0367]], dtype=torch.float64, grad_fn=<ExpBackward0>)"
      ]
     },
     "execution_count": 161,
     "metadata": {},
     "output_type": "execute_result"
    }
   ],
   "source": [
    "expcostx(b)"
   ]
  },
  {
   "cell_type": "code",
   "execution_count": 162,
   "id": "e64b24a3",
   "metadata": {
    "scrolled": true
   },
   "outputs": [
    {
     "name": "stderr",
     "output_type": "stream",
     "text": [
      "C:\\Users\\Administrator\\AppData\\Local\\Temp\\ipykernel_10384\\2169779723.py:5: UserWarning: To copy construct from a tensor, it is recommended to use sourceTensor.clone().detach() or sourceTensor.clone().detach().requires_grad_(True), rather than torch.tensor(sourceTensor).\n",
      "  return torch.tensor(b,dtype = torch.float64)\n"
     ]
    },
    {
     "data": {
      "text/plain": [
       "tensor([[1.0364],\n",
       "        [1.0040],\n",
       "        [0.9985],\n",
       "        [1.0093],\n",
       "        [1.0200],\n",
       "        [1.0200],\n",
       "        [1.0093],\n",
       "        [0.9985],\n",
       "        [1.0040],\n",
       "        [1.0364]], dtype=torch.float64, grad_fn=<MulBackward0>)"
      ]
     },
     "execution_count": 162,
     "metadata": {},
     "output_type": "execute_result"
    }
   ],
   "source": [
    "expcostx(b)*realtx(b)"
   ]
  },
  {
   "cell_type": "code",
   "execution_count": 159,
   "id": "15277e2e",
   "metadata": {},
   "outputs": [
    {
     "name": "stderr",
     "output_type": "stream",
     "text": [
      "C:\\Users\\Administrator\\AppData\\Local\\Temp\\ipykernel_10384\\2169779723.py:5: UserWarning: To copy construct from a tensor, it is recommended to use sourceTensor.clone().detach() or sourceTensor.clone().detach().requires_grad_(True), rather than torch.tensor(sourceTensor).\n",
      "  return torch.tensor(b,dtype = torch.float64)\n"
     ]
    },
    {
     "data": {
      "text/plain": [
       "tensor([[-0.0212],\n",
       "        [-0.0047],\n",
       "        [-0.0068],\n",
       "        [-0.0152],\n",
       "        [ 0.0039],\n",
       "        [-0.0039],\n",
       "        [ 0.0152],\n",
       "        [ 0.0068],\n",
       "        [ 0.0047],\n",
       "        [ 0.0212]], dtype=torch.float64, grad_fn=<SinBackward0>)"
      ]
     },
     "execution_count": 159,
     "metadata": {},
     "output_type": "execute_result"
    }
   ],
   "source": [
    "imagetx(b)"
   ]
  },
  {
   "cell_type": "code",
   "execution_count": 127,
   "id": "c97285da",
   "metadata": {
    "scrolled": true
   },
   "outputs": [
    {
     "data": {
      "text/plain": [
       "tensor([-10.0000,  -8.9474,  -7.8947,  -6.8421,  -5.7895,  -4.7368,  -3.6842,\n",
       "         -2.6316,  -1.5789,  -0.5263,   0.5263,   1.5789,   2.6316,   3.6842,\n",
       "          4.7368,   5.7895,   6.8421,   7.8947,   8.9474,  10.0000],\n",
       "       dtype=torch.float64)"
      ]
     },
     "execution_count": 127,
     "metadata": {},
     "output_type": "execute_result"
    }
   ],
   "source": [
    "b = torch.linspace(-10,10,20,dtype = torch.float64)\n",
    "b"
   ]
  },
  {
   "cell_type": "code",
   "execution_count": 124,
   "id": "f0526317",
   "metadata": {},
   "outputs": [
    {
     "data": {
      "text/plain": [
       "tensor([ 1, 10, 10, -1, 10, 10])"
      ]
     },
     "execution_count": 124,
     "metadata": {},
     "output_type": "execute_result"
    }
   ],
   "source": [
    "z = torch.tensor([1,2,3,-1,-2,-3])\n",
    "z[abs(z)>1]=10\n",
    "z"
   ]
  },
  {
   "cell_type": "code",
   "execution_count": 254,
   "id": "d081c2ac",
   "metadata": {},
   "outputs": [
    {
     "name": "stderr",
     "output_type": "stream",
     "text": [
      "/var/folders/ym/35040q6j5x912qskn704_hy80000gn/T/ipykernel_44486/2169779723.py:5: UserWarning: To copy construct from a tensor, it is recommended to use sourceTensor.clone().detach() or sourceTensor.clone().detach().requires_grad_(True), rather than torch.tensor(sourceTensor).\n",
      "  return torch.tensor(b,dtype = torch.float64)\n"
     ]
    },
    {
     "data": {
      "text/plain": [
       "tensor([[ 0.7638],\n",
       "        [ 0.6014],\n",
       "        [ 0.4390],\n",
       "        [ 0.2766],\n",
       "        [ 0.1143],\n",
       "        [-0.0481],\n",
       "        [-0.2105],\n",
       "        [-0.3729],\n",
       "        [-0.5353],\n",
       "        [-0.6977]], dtype=torch.float64, grad_fn=<MmBackward0>)"
      ]
     },
     "execution_count": 254,
     "metadata": {},
     "output_type": "execute_result"
    }
   ],
   "source": [
    "(costx(a[0][0])-1)@net_1(a[0][0]).reshape((-1,1))"
   ]
  },
  {
   "cell_type": "code",
   "execution_count": 177,
   "id": "4870ee3c",
   "metadata": {},
   "outputs": [],
   "source": [
    "# Levy-Khintchine representation\n",
    "def I(x):\n",
    "    I = torch.ones(x.shape,dtype=torch.float64)\n",
    "    x = abs(x)\n",
    "    for i in range(len(x)):\n",
    "        if x[i]>1:\n",
    "            I[i] = 0\n",
    "    return I\n",
    "# indicator function\n",
    "def z(x):\n",
    "    if abs(x)>1:\n",
    "        return 0 \n",
    "    else:\n",
    "        return 1\n",
    "def Euler_exp(x,t):\n",
    "    n = len(x)\n",
    "    m = len(t)\n",
    "    y = torch.zeros((m,n),dtype = torch.float64)\n",
    "    for i in range(m):\n",
    "        for j in range(n):\n",
    "            y[i][j]=torch.exp(x[j]*t[i]*1j)-1-1j*t[i]*x[j]*z(x[j])\n",
    "            \n",
    "#    s = torch.exp(1j*t.reshape((len(t),-1))@x.reshape((-1,len(x))))-1-1j*(t.reshape((len(t),-1))@x.reshape((-1,len(x))))@I(x).reshape((len(I(x)),-1))\n",
    "    return y "
   ]
  },
  {
   "cell_type": "code",
   "execution_count": 178,
   "id": "6d9d2247",
   "metadata": {},
   "outputs": [],
   "source": [
    "#网络定义\n",
    "\n",
    "def net(X):\n",
    "    X_clone = X.clone()\n",
    "    X = X.reshape((-1, num_feature))\n",
    "    H1 = relu(X@W1 + b1)  # 这里“@”代表矩阵乘法\n",
    "    H2 = relu(H1@W2 + b2)\n",
    "    V = (H2@W3 + b3)\n",
    "#    return V\n",
    "    Chf = Euler_exp(X_clone,t)@V.t()\n",
    "    re = Chf.real\n",
    "    im = Chf.imag\n",
    "    r = torch.zeros(labels.shape)\n",
    "    for i in range(len(Chf)):\n",
    "        r[i][0] = re[i]\n",
    "        r[i][1] = im[i]\n",
    "    return r\n"
   ]
  },
  {
   "cell_type": "code",
   "execution_count": 174,
   "id": "04875fac",
   "metadata": {},
   "outputs": [
    {
     "ename": "RuntimeError",
     "evalue": "expected scalar type Float but found ComplexFloat",
     "output_type": "error",
     "traceback": [
      "\u001b[0;31m---------------------------------------------------------------------------\u001b[0m",
      "\u001b[0;31mRuntimeError\u001b[0m                              Traceback (most recent call last)",
      "Cell \u001b[0;32mIn [174], line 1\u001b[0m\n\u001b[0;32m----> 1\u001b[0m \u001b[43mnet\u001b[49m\u001b[43m(\u001b[49m\u001b[43mx\u001b[49m\u001b[43m)\u001b[49m\n",
      "Cell \u001b[0;32mIn [172], line 6\u001b[0m, in \u001b[0;36mnet\u001b[0;34m(X)\u001b[0m\n\u001b[1;32m      4\u001b[0m X_clone \u001b[38;5;241m=\u001b[39m X\u001b[38;5;241m.\u001b[39mclone()\n\u001b[1;32m      5\u001b[0m X \u001b[38;5;241m=\u001b[39m X\u001b[38;5;241m.\u001b[39mreshape((\u001b[38;5;241m-\u001b[39m\u001b[38;5;241m1\u001b[39m, num_feature))\n\u001b[0;32m----> 6\u001b[0m H1 \u001b[38;5;241m=\u001b[39m relu(\u001b[43mX\u001b[49m\u001b[38;5;129;43m@W1\u001b[39;49m \u001b[38;5;241m+\u001b[39m b1)  \u001b[38;5;66;03m# 这里“@”代表矩阵乘法\u001b[39;00m\n\u001b[1;32m      7\u001b[0m H2 \u001b[38;5;241m=\u001b[39m relu(H1\u001b[38;5;129m@W2\u001b[39m \u001b[38;5;241m+\u001b[39m b2)\n\u001b[1;32m      8\u001b[0m V \u001b[38;5;241m=\u001b[39m (H2\u001b[38;5;129m@W3\u001b[39m \u001b[38;5;241m+\u001b[39m b3)\n",
      "\u001b[0;31mRuntimeError\u001b[0m: expected scalar type Float but found ComplexFloat"
     ]
    }
   ],
   "source": [
    "net(x)"
   ]
  },
  {
   "cell_type": "code",
   "execution_count": null,
   "id": "14d0d3cf",
   "metadata": {},
   "outputs": [],
   "source": []
  }
 ],
 "metadata": {
  "kernelspec": {
   "display_name": "Python 3 (ipykernel)",
   "language": "python",
   "name": "python3"
  },
  "language_info": {
   "codemirror_mode": {
    "name": "ipython",
    "version": 3
   },
   "file_extension": ".py",
   "mimetype": "text/x-python",
   "name": "python",
   "nbconvert_exporter": "python",
   "pygments_lexer": "ipython3",
   "version": "3.9.12"
  }
 },
 "nbformat": 4,
 "nbformat_minor": 5
}
