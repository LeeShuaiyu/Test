{
 "cells": [
  {
   "cell_type": "code",
   "execution_count": 375,
   "id": "62d5fffd",
   "metadata": {},
   "outputs": [],
   "source": [
    "#载入所需package\n",
    "import numpy as np\n",
    "import torch\n",
    "import math\n",
    "import pandas as pd\n",
    "import matplotlib.pyplot as plt\n",
    "import matplotlib.image as mping \n",
    "import cmath\n",
    "from torch import nn\n",
    "import random\n",
    "from torch.utils import data\n",
    "import copy\n",
    "from scipy.special import kv\n",
    "from scipy import integrate\n",
    "import seaborn as sns\n",
    "import matplotlib as mpl"
   ]
  },
  {
   "cell_type": "markdown",
   "id": "83fa80ac",
   "metadata": {},
   "source": [
    "## Original Generator(para to specific-frequency)"
   ]
  },
  {
   "cell_type": "code",
   "execution_count": 376,
   "id": "6775b6a7",
   "metadata": {},
   "outputs": [],
   "source": [
    "#标准 generator\n",
    "class generator_t:\n",
    "    def __init__(self,df,mu = 0, sigma = 1,samplesize = 1000, h = 0.01):\n",
    "        self.df = df\n",
    "        self.mu = mu\n",
    "        self.sigma = sigma\n",
    "        self.samplesize = samplesize\n",
    "        self.frequency = h\n",
    "    @staticmethod\n",
    "    def cumulate(delta):\n",
    "        data = torch.zeros(np.shape(delta))\n",
    "        n = np.shape(delta)[0]\n",
    "        for i in range(n-1):\n",
    "            data[i+1] = data[i]+delta[i]\n",
    "        return np.array(data)\n",
    "    \n",
    "    def generate_standard_t(self):\n",
    "        d0 = np.random.standard_t(self.df, (self.samplesize,1))\n",
    "        d1 = self.cumulate(d0)\n",
    "        delta = torch.tensor(d0)\n",
    "        data = torch.tensor(d1)\n",
    "        delta.requires_grad_(True)  # 等价于x=torch.arange(4.0,requires_grad=True)\n",
    "        return delta,data"
   ]
  },
  {
   "cell_type": "code",
   "execution_count": 377,
   "id": "6bd9a20a",
   "metadata": {},
   "outputs": [],
   "source": [
    "class Characteristic_function:\n",
    "    def __init__(self,data):\n",
    "        self.data = data   \n",
    "    def ecf(self,t):\n",
    "        n = len(self.data)\n",
    "        if type(t)== int:\n",
    "            C = torch.zeros((n,1))\n",
    "            S = torch.zeros((n,1))\n",
    "            for i in range(n):\n",
    "                C[i] = math.cos(t*self.data[i])\n",
    "                S[i] = math.sin(t*self.data[i])\n",
    "            s = torch.mean(S)\n",
    "            c = torch.mean(C)\n",
    "            return c,s                \n",
    "        else:    \n",
    "            m = len(t)\n",
    "            R = []\n",
    "            for j in range(m):\n",
    "                S = []\n",
    "                C = []\n",
    "                for i in range(n):\n",
    "                    C = C+[math.cos(t[j]*self.data[i])]\n",
    "                    S = S+[math.sin(t[j]*self.data[i])]\n",
    "                #S = torch.tensor(S,dtype = torch.float64)\n",
    "                #C = torch.tensor(C,dtype = torch.float64)\n",
    "                s = sum(S)/len(S)\n",
    "                c = sum(C)/len(C)\n",
    "                R = R+[c]\n",
    "                R = R+[s]\n",
    "            #R = torch.tensor(R,dtype = torch.float64)\n",
    "        return R\n",
    "    def ecf_h(self,t):\n",
    "        n = len(self.data)\n",
    "        if type(t)== int:\n",
    "            C = torch.zeros((n,1))\n",
    "            S = torch.zeros((n,1))\n",
    "            for i in range(n):\n",
    "                C[i] = math.cos(t*self.data[i])\n",
    "                S[i] = math.sin(t*self.data[i])\n",
    "            s = torch.mean(S)\n",
    "            c = torch.mean(C)\n",
    "            return c,s                \n",
    "        else:    \n",
    "            m = len(t)\n",
    "            R = []\n",
    "            for j in range(m):\n",
    "                S = []\n",
    "                C = []\n",
    "                for i in range(n):\n",
    "                    C = C+[math.cos(t[j]*self.data[i])]\n",
    "                    S = S+[math.sin(t[j]*self.data[i])]\n",
    "                #S = torch.tensor(S,dtype = torch.float64)\n",
    "                #C = torch.tensor(C,dtype = torch.float64)\n",
    "                s = sum(S)/len(S)\n",
    "                c = sum(C)/len(C)\n",
    "                r = (math.sqrt(s**2+c**2))**h\n",
    "                theta = math.atan(s/c)*h\n",
    "                c_h = r*math.cos(theta)\n",
    "                s_h = r*math.sin(theta)\n",
    "                R = R+[c_h]\n",
    "                R = R+[s_h]\n",
    "            #R = torch.tensor(R,dtype = torch.float64)\n",
    "        return R\n",
    "    "
   ]
  },
  {
   "cell_type": "code",
   "execution_count": 378,
   "id": "22587bfd",
   "metadata": {},
   "outputs": [],
   "source": [
    "class rejection_method:    \n",
    "    def __init__(self,h,n,v,mu = 0,sigma = 1):        \n",
    "        self.h = h\n",
    "        self.v = v\n",
    "        self.mu = mu\n",
    "        self.sigma = sigma\n",
    "        self.n = n\n",
    "    def phi_h(self,t):\n",
    "        phi_real = math.cos(t*self.mu)*((math.sqrt(self.v)*self.sigma*abs(t))**(self.v/2))/(2**(self.v/2-1)*math.gamma(self.v/2))*kv(self.v/2,math.sqrt(self.v)*self.sigma*abs(t))\n",
    "        phi_imag = math.sin(t*self.mu)*((math.sqrt(self.v)*self.sigma*abs(t))**(self.v/2))/(2**(self.v/2-1)*math.gamma(self.v/2))*kv(self.v/2,math.sqrt(self.v)*self.sigma*abs(t))\n",
    "        r = (math.sqrt(phi_real**2+phi_imag**2))**self.h\n",
    "        theta = math.atan(phi_imag/phi_real)*self.h\n",
    "        phi_real = r*math.cos(theta)\n",
    "        phi_imag = r*math.sin(theta)\n",
    "        phi_abs = math.sqrt(phi_real**2+phi_imag**2)\n",
    "        return phi_real, phi_imag, phi_abs\n",
    "    def f(self,x,t_lim=200,t_num=2000):\n",
    "        t = torch.linspace(-int(t_lim),int(t_lim),t_num)\n",
    "        intg = []\n",
    "        #因为密度是real的\n",
    "        for i in range(t_num):\n",
    "            r = self.phi_h(t[i])[0]\n",
    "            im = self.phi_h(t[i])[1]\n",
    "            intg += [math.cos(t[i]*x)*r+math.sin(t[i]*x)*im]\n",
    "        y = 1/(2*math.pi)*integrate.trapz(intg, t)\n",
    "        return y\n",
    "    def phi_abs0(self,t):\n",
    "        return self.phi_h(t)[2]\n",
    "    def phi_prime(self,t,delt = 0.01):\n",
    "        d_1 = (self.phi_h(t)[0]-self.phi_h(t+delt)[0])/delt\n",
    "        d_2 = (self.phi_h(t)[1]-self.phi_h(t+delt)[1])/delt\n",
    "        d_abs = math.sqrt(d_1**2+d_2**2)\n",
    "        return d_1,d_2\n",
    "    def phi_prime_prime(self,t,delt = 0.01):\n",
    "        d_1 = (self.phi_prime(t)[0]-self.phi_prime(t+delt)[0])/delt\n",
    "        d_2 = (self.phi_prime(t)[1]-self.phi_prime(t+delt)[1])/delt\n",
    "        d_abs = math.sqrt(d_1**2+d_2**2)\n",
    "        return d_1,d_2,d_abs  \n",
    "    def phi_abs2(self,t):\n",
    "        return self.phi_prime_prime(t)[2]\n",
    "    def integ(self,domain = 100,ndots = 500):\n",
    "        t = torch.linspace(-int(domain),int(domain),ndots)\n",
    "        intg_0 = []\n",
    "        intg_2 = []\n",
    "        for i in range(len(t)):\n",
    "            intg_0 += [self.phi_abs0(t[i])]\n",
    "        c = 1/(2*math.pi)*integrate.trapz(intg_0, t)\n",
    "        for i in range(len(t)):\n",
    "            intg_2 += [self.phi_abs2(t[i])]\n",
    "        k = 1/(2*math.pi)*integrate.trapz(intg_2, t)\n",
    "        return c,k\n",
    "    def hat_function(self,x):        \n",
    "        c,k = self.integ()\n",
    "        g = min(c,k/(x**2))\n",
    "        return g\n",
    "\n",
    "    def genertator(self):\n",
    "        total = 25*self.n\n",
    "        V_1 = np.random.uniform(-1,1,total)\n",
    "        V_2 = np.random.uniform(-1,1,total)\n",
    "        c,k = self.integ()\n",
    "        X = []\n",
    "        for i in range(total):\n",
    "            y = math.sqrt(k/c)*(V_1[i]/V_2[i])\n",
    "            U = np.random.uniform(-1,1)            \n",
    "            if len(X) >=self.n:\n",
    "                break\n",
    "                \n",
    "            elif U<= (self.f(y)/self.hat_function(y)):\n",
    "                X+=[y]\n",
    "            else:\n",
    "                continue\n",
    "        return X\n",
    "        \n",
    "    @staticmethod\n",
    "    def cumulate(delta):\n",
    "        data = torch.zeros(np.shape(delta))\n",
    "        n = np.shape(delta)[0]\n",
    "        for i in range(n-1):\n",
    "            data[i+1] = data[i]+delta[i]\n",
    "        return np.array(data)    "
   ]
  },
  {
   "cell_type": "code",
   "execution_count": 379,
   "id": "f6930aa9",
   "metadata": {},
   "outputs": [
    {
     "data": {
      "text/plain": [
       "[<matplotlib.lines.Line2D at 0x7fd9007e5b50>]"
      ]
     },
     "execution_count": 379,
     "metadata": {},
     "output_type": "execute_result"
    },
    {
     "data": {
      "image/png": "[encoded data removed]",
      "text/plain": [
       "<Figure size 640x480 with 1 Axes>"
      ]
     },
     "metadata": {},
     "output_type": "display_data"
    }
   ],
   "source": [
    "rm = rejection_method(h = 2,n = 1000,v =3)\n",
    "num_t = 200\n",
    "range_t = 100\n",
    "t = torch.linspace(-range_t,range_t,num_t,dtype = torch.float64)\n",
    "intg_0 = []\n",
    "for i in range(len(t)):\n",
    "    intg_0 += [rm.phi_abs0(t[i])]\n",
    "plt.plot(t,intg_0)"
   ]
  },
  {
   "cell_type": "code",
   "execution_count": 380,
   "id": "ba6d187f",
   "metadata": {},
   "outputs": [],
   "source": [
    "x = rm.genertator()\n"
   ]
  },
  {
   "cell_type": "code",
   "execution_count": 381,
   "id": "38c5b075",
   "metadata": {},
   "outputs": [
    {
     "data": {
      "text/plain": [
       "939"
      ]
     },
     "execution_count": 381,
     "metadata": {},
     "output_type": "execute_result"
    }
   ],
   "source": [
    "X = torch.tensor(x)\n",
    "x_show = []\n",
    "for i in range(len(x)):\n",
    "    if abs(x[i])<7:\n",
    "        x_show+=[x[i]]\n",
    "len(x_show)"
   ]
  },
  {
   "cell_type": "code",
   "execution_count": 382,
   "id": "1c79f635",
   "metadata": {
    "scrolled": true
   },
   "outputs": [
    {
     "data": {
      "image/png": "[encoded data removed]",
      "text/plain": [
       "<Figure size 500x500 with 1 Axes>"
      ]
     },
     "metadata": {},
     "output_type": "display_data"
    }
   ],
   "source": [
    "fig = sns.displot(data = x_show,kind = 'hist',kde = \"TRUE\")\n"
   ]
  },
  {
   "cell_type": "code",
   "execution_count": 383,
   "id": "ddbd8183",
   "metadata": {},
   "outputs": [
    {
     "data": {
      "text/plain": [
       "[<matplotlib.lines.Line2D at 0x7fd923e60ac0>]"
      ]
     },
     "execution_count": 383,
     "metadata": {},
     "output_type": "execute_result"
    },
    {
     "data": {
      "image/png": "[encoded data removed]",
      "text/plain": [
       "<Figure size 640x480 with 1 Axes>"
      ]
     },
     "metadata": {},
     "output_type": "display_data"
    }
   ],
   "source": [
    "path = rm.cumulate(x)\n",
    "plt.plot(path)"
   ]
  },
  {
   "cell_type": "markdown",
   "id": "afb4831c",
   "metadata": {},
   "source": [
    "## frequency changing "
   ]
  },
  {
   "cell_type": "code",
   "execution_count": 384,
   "id": "d0c46f5c",
   "metadata": {},
   "outputs": [],
   "source": [
    "class Characteristic_function:\n",
    "    def __init__(self,data):\n",
    "        self.data = data   \n",
    "    def ecf(self,t):\n",
    "        n = len(self.data)\n",
    "        if type(t)== int:\n",
    "            C = torch.zeros((n,1))\n",
    "            S = torch.zeros((n,1))\n",
    "            for i in range(n):\n",
    "                C[i] = math.cos(t*self.data[i])\n",
    "                S[i] = math.sin(t*self.data[i])\n",
    "            s = torch.mean(S)\n",
    "            c = torch.mean(C)\n",
    "            return c,s                \n",
    "        else:    \n",
    "            m = len(t)\n",
    "            R = []\n",
    "            for j in range(m):\n",
    "                S = []\n",
    "                C = []\n",
    "                for i in range(n):\n",
    "                    C = C+[math.cos(t[j]*self.data[i])]\n",
    "                    S = S+[math.sin(t[j]*self.data[i])]\n",
    "                #S = torch.tensor(S,dtype = torch.float64)\n",
    "                #C = torch.tensor(C,dtype = torch.float64)\n",
    "                s = sum(S)/len(S)\n",
    "                c = sum(C)/len(C)\n",
    "                R = R+[c]\n",
    "                R = R+[s]\n",
    "            #R = torch.tensor(R,dtype = torch.float64)\n",
    "        return R\n",
    "    def ecf_h(self,t,h):\n",
    "        n = len(self.data)\n",
    "        if type(t)== int:\n",
    "            C = torch.zeros((n,1))\n",
    "            S = torch.zeros((n,1))\n",
    "            for i in range(n):\n",
    "                C[i] = math.cos(t*self.data[i])\n",
    "                S[i] = math.sin(t*self.data[i])\n",
    "            s = torch.mean(S)\n",
    "            c = torch.mean(C)\n",
    "            r = math.sqrt(s**2+c**2)**h\n",
    "            theta = math.atan(s/c)*h\n",
    "            s = math.sin(theta)*r\n",
    "            c = math.cos(theta)*r\n",
    "            return c,s                \n",
    "        else:    \n",
    "            m = len(t)\n",
    "            R = []\n",
    "            for j in range(m):\n",
    "                S = []\n",
    "                C = []\n",
    "                for i in range(n):\n",
    "                    C = C+[math.cos(t[j]*self.data[i])]\n",
    "                    S = S+[math.sin(t[j]*self.data[i])]\n",
    "                #S = torch.tensor(S,dtype = torch.float64)\n",
    "                #C = torch.tensor(C,dtype = torch.float64)\n",
    "                s = sum(S)/len(S)\n",
    "                c = sum(C)/len(C)\n",
    "                r = math.sqrt(s**2+c**2)**h\n",
    "                theta = math.atan(s/c)*h\n",
    "                s = math.sin(theta)*r\n",
    "                c = math.cos(theta)*r\n",
    "                R = R+[c]\n",
    "                R = R+[s]\n",
    "            #R = torch.tensor(R,dtype = torch.float64)\n",
    "        return R\n"
   ]
  },
  {
   "cell_type": "code",
   "execution_count": 385,
   "id": "3f71f4b4",
   "metadata": {},
   "outputs": [],
   "source": [
    "num_feature = 100\n",
    "range_feature = 20\n",
    "num_sample = 100\n",
    "num_labels = num_t\n",
    "total = num_sample*num_feature\n",
    "#t = t.reshape((-1,len(t)))\n",
    "feat = torch.linspace(-range_feature,range_feature,num_feature,dtype = torch.float64)"
   ]
  },
  {
   "cell_type": "code",
   "execution_count": 386,
   "id": "ae2afca1",
   "metadata": {},
   "outputs": [
    {
     "name": "stdout",
     "output_type": "stream",
     "text": [
      "100 20 100 200 10000 200 100\n"
     ]
    }
   ],
   "source": [
    "print(num_feature,range_feature,num_sample,num_labels,total,num_t,range_t)"
   ]
  },
  {
   "cell_type": "code",
   "execution_count": 387,
   "id": "fce17d7a",
   "metadata": {},
   "outputs": [],
   "source": [
    "#实例化(V =3)\n",
    "CF = Characteristic_function(x)\n",
    "labels = CF.ecf_h(t,0.01)"
   ]
  },
  {
   "cell_type": "code",
   "execution_count": 388,
   "id": "533d0741",
   "metadata": {},
   "outputs": [],
   "source": [
    "a = []\n",
    "features = []\n",
    "label = []\n",
    "for i in range(num_sample):\n",
    "    label+=labels\n",
    "    features+=feat\n"
   ]
  },
  {
   "cell_type": "code",
   "execution_count": 391,
   "id": "576fb2f1",
   "metadata": {},
   "outputs": [
    {
     "data": {
      "text/plain": [
       "list"
      ]
     },
     "execution_count": 391,
     "metadata": {},
     "output_type": "execute_result"
    }
   ],
   "source": [
    "type(features)"
   ]
  },
  {
   "cell_type": "code",
   "execution_count": 392,
   "id": "eb3cd9c2",
   "metadata": {
    "scrolled": true
   },
   "outputs": [],
   "source": [
    "labels =torch.tensor(label,dtype = torch.float64).reshape((-1,2*num_labels))\n",
    "features = torch.tensor(features,dtype = torch.float64).reshape((-1,num_feature))"
   ]
  },
  {
   "cell_type": "code",
   "execution_count": 436,
   "id": "c2508b5f",
   "metadata": {},
   "outputs": [
    {
     "data": {
      "text/plain": [
       "torch.Size([100, 100])"
      ]
     },
     "execution_count": 436,
     "metadata": {},
     "output_type": "execute_result"
    }
   ],
   "source": [
    "features.shape"
   ]
  },
  {
   "cell_type": "code",
   "execution_count": 394,
   "id": "91429457",
   "metadata": {},
   "outputs": [],
   "source": [
    "def load_array(data_arrays, batch_size, is_train=True):  #@save\n",
    "    \"\"\"构造一个PyTorch数据迭代器\"\"\"\n",
    "    dataset = data.TensorDataset(*data_arrays)\n",
    "    return data.DataLoader(dataset, batch_size, shuffle=is_train)\n",
    "batch_size = 1\n",
    "D_loader = load_array((features,labels), batch_size)"
   ]
  },
  {
   "cell_type": "code",
   "execution_count": 437,
   "id": "b5c29004",
   "metadata": {},
   "outputs": [
    {
     "data": {
      "text/plain": [
       "torch.Size([1, 100])"
      ]
     },
     "execution_count": 437,
     "metadata": {},
     "output_type": "execute_result"
    }
   ],
   "source": [
    "next(iter(D_loader))[0].shape"
   ]
  },
  {
   "cell_type": "code",
   "execution_count": 397,
   "id": "917ed93a",
   "metadata": {},
   "outputs": [],
   "source": [
    "# 初始化参数定义\n",
    "\n",
    "\n",
    "hidden_2, hidden_3 = 256, 256\n",
    "\n",
    "W1 = nn.Parameter(torch.randn(\n",
    "    num_feature, hidden_2, requires_grad=True,dtype = torch.float64) * 0.01)\n",
    "b1 = nn.Parameter(torch.zeros(hidden_2, requires_grad=True,dtype = torch.float64))\n",
    "\n",
    "W2 = nn.Parameter(torch.randn(\n",
    "    hidden_2, hidden_3, requires_grad=True,dtype = torch.float64) * 0.01)\n",
    "b2 = nn.Parameter(torch.zeros(hidden_3, requires_grad=True,dtype = torch.float64))\n",
    "\n",
    "W3 = nn.Parameter(torch.randn(\n",
    "    hidden_3, num_feature, requires_grad=True,dtype = torch.float64) * 0.01)\n",
    "b3 = nn.Parameter(torch.zeros(num_feature, requires_grad=True,dtype = torch.float64))\n",
    "\n",
    "\n",
    "params = [W1, b1, W2, b2, W3, b3]"
   ]
  },
  {
   "cell_type": "code",
   "execution_count": 398,
   "id": "9687ba60",
   "metadata": {},
   "outputs": [],
   "source": [
    "#激活函数\n",
    "def relu(X):\n",
    "    a = torch.zeros_like(X)\n",
    "    b = torch.max(X, a)\n",
    "    return torch.tensor(b,dtype = torch.float64)"
   ]
  },
  {
   "cell_type": "code",
   "execution_count": 420,
   "id": "87b96e4e",
   "metadata": {},
   "outputs": [
    {
     "data": {
      "text/plain": [
       "200"
      ]
     },
     "execution_count": 420,
     "metadata": {},
     "output_type": "execute_result"
    }
   ],
   "source": [
    "len(t)"
   ]
  },
  {
   "cell_type": "code",
   "execution_count": 409,
   "id": "c410d77b",
   "metadata": {},
   "outputs": [],
   "source": [
    "def expcostx(x,V):\n",
    "    a = t.reshape((-1,1))@x.reshape((1,-1))\n",
    "    b = (torch.cos(a)-1)@V.reshape((-1,1))\n",
    "    c = torch.exp((range_feature*2/num_feature)*b)\n",
    "    return c\n",
    "def I(x):\n",
    "    y = copy.deepcopy(x)\n",
    "    y[abs(x)>1]=0\n",
    "    return y\n",
    "    \n",
    "def realtx(x,V):\n",
    "    x = torch.tensor(x,dtype = torch.float64)\n",
    "    a1 = torch.sin(t.reshape((-1,1))@x.reshape((1,-1))) \n",
    "    a2 = t.reshape((-1,1))@I(x).reshape((1,-1))\n",
    "    a3 = a1+a2\n",
    "    a4 = a3@V.reshape((-1,1))\n",
    "    a5 = (range_feature*2/num_feature)*a4\n",
    "    a6 = torch.cos(a5)\n",
    "    return a6\n",
    "def imagetx(x,V):\n",
    "    #x = torch.tensor(x,dtype = torch.float64)\n",
    "    a1 = torch.sin(t.reshape((-1,1))@x.reshape((1,-1))) \n",
    "    a2 = t.reshape((-1,1))@I(x).reshape((1,-1))\n",
    "    a3 = a1+a2\n",
    "    a4 = a3@V.reshape((-1,1))\n",
    "    a5 = (range_feature*2/num_feature)*a4\n",
    "    a6 = torch.sin(a5)\n",
    "    return a6"
   ]
  },
  {
   "cell_type": "code",
   "execution_count": 438,
   "id": "7a59e806",
   "metadata": {},
   "outputs": [
    {
     "name": "stderr",
     "output_type": "stream",
     "text": [
      "/var/folders/ym/35040q6j5x912qskn704_hy80000gn/T/ipykernel_26788/2169779723.py:5: UserWarning: To copy construct from a tensor, it is recommended to use sourceTensor.clone().detach() or sourceTensor.clone().detach().requires_grad_(True), rather than torch.tensor(sourceTensor).\n",
      "  return torch.tensor(b,dtype = torch.float64)\n"
     ]
    },
    {
     "ename": "RuntimeError",
     "evalue": "mat1 and mat2 shapes cannot be multiplied (200x1000 and 100x1)",
     "output_type": "error",
     "traceback": [
      "\u001b[0;31m---------------------------------------------------------------------------\u001b[0m",
      "\u001b[0;31mRuntimeError\u001b[0m                              Traceback (most recent call last)",
      "Cell \u001b[0;32mIn [438], line 1\u001b[0m\n\u001b[0;32m----> 1\u001b[0m \u001b[43mnet_1\u001b[49m\u001b[43m(\u001b[49m\u001b[43mfeatures\u001b[49m\u001b[43m[\u001b[49m\u001b[38;5;241;43m0\u001b[39;49m\u001b[43m]\u001b[49m\u001b[43m)\u001b[49m\u001b[38;5;241m.\u001b[39mshape\n",
      "Cell \u001b[0;32mIn [431], line 7\u001b[0m, in \u001b[0;36mnet_1\u001b[0;34m(X)\u001b[0m\n\u001b[1;32m      5\u001b[0m H2 \u001b[38;5;241m=\u001b[39m relu(H1\u001b[38;5;129m@W2\u001b[39m \u001b[38;5;241m+\u001b[39m b2)\n\u001b[1;32m      6\u001b[0m V \u001b[38;5;241m=\u001b[39m (H2\u001b[38;5;129m@W3\u001b[39m \u001b[38;5;241m+\u001b[39m b3)\n\u001b[0;32m----> 7\u001b[0m R_1 \u001b[38;5;241m=\u001b[39m expcostx(X,V)\u001b[38;5;241m*\u001b[39m\u001b[43mrealtx\u001b[49m\u001b[43m(\u001b[49m\u001b[43mx\u001b[49m\u001b[43m,\u001b[49m\u001b[43mV\u001b[49m\u001b[43m)\u001b[49m\n\u001b[1;32m      8\u001b[0m R_2 \u001b[38;5;241m=\u001b[39m expcostx(X,V)\u001b[38;5;241m*\u001b[39mimagetx(x,V)\n\u001b[1;32m      9\u001b[0m R \u001b[38;5;241m=\u001b[39m torch\u001b[38;5;241m.\u001b[39mcat((R_1,R_2),\u001b[38;5;241m1\u001b[39m)\u001b[38;5;241m.\u001b[39mreshape((\u001b[38;5;241m1\u001b[39m,\u001b[38;5;241m-\u001b[39m\u001b[38;5;241m1\u001b[39m))\n",
      "Cell \u001b[0;32mIn [430], line 6\u001b[0m, in \u001b[0;36mrealtx\u001b[0;34m(x, V)\u001b[0m\n\u001b[1;32m      4\u001b[0m a2 \u001b[38;5;241m=\u001b[39m t\u001b[38;5;241m.\u001b[39mreshape((\u001b[38;5;241m-\u001b[39m\u001b[38;5;241m1\u001b[39m,\u001b[38;5;241m1\u001b[39m))\u001b[38;5;129m@I\u001b[39m(x)\u001b[38;5;241m.\u001b[39mreshape((\u001b[38;5;241m1\u001b[39m,\u001b[38;5;241m-\u001b[39m\u001b[38;5;241m1\u001b[39m))\n\u001b[1;32m      5\u001b[0m a3 \u001b[38;5;241m=\u001b[39m a1\u001b[38;5;241m+\u001b[39ma2\n\u001b[0;32m----> 6\u001b[0m a4 \u001b[38;5;241m=\u001b[39m \u001b[43ma3\u001b[49m\u001b[38;5;129;43m@V\u001b[39;49m\u001b[38;5;241;43m.\u001b[39;49m\u001b[43mreshape\u001b[49m\u001b[43m(\u001b[49m\u001b[43m(\u001b[49m\u001b[38;5;241;43m-\u001b[39;49m\u001b[38;5;241;43m1\u001b[39;49m\u001b[43m,\u001b[49m\u001b[38;5;241;43m1\u001b[39;49m\u001b[43m)\u001b[49m\u001b[43m)\u001b[49m\n\u001b[1;32m      7\u001b[0m a5 \u001b[38;5;241m=\u001b[39m (range_feature\u001b[38;5;241m*\u001b[39m\u001b[38;5;241m2\u001b[39m\u001b[38;5;241m/\u001b[39mnum_feature)\u001b[38;5;241m*\u001b[39ma4\n\u001b[1;32m      8\u001b[0m a6 \u001b[38;5;241m=\u001b[39m torch\u001b[38;5;241m.\u001b[39mcos(a5)\n",
      "\u001b[0;31mRuntimeError\u001b[0m: mat1 and mat2 shapes cannot be multiplied (200x1000 and 100x1)"
     ]
    }
   ],
   "source": [
    "net_1(features[0]).shape"
   ]
  },
  {
   "cell_type": "code",
   "execution_count": 443,
   "id": "ece64804",
   "metadata": {},
   "outputs": [
    {
     "name": "stderr",
     "output_type": "stream",
     "text": [
      "/var/folders/ym/35040q6j5x912qskn704_hy80000gn/T/ipykernel_26788/2169779723.py:5: UserWarning: To copy construct from a tensor, it is recommended to use sourceTensor.clone().detach() or sourceTensor.clone().detach().requires_grad_(True), rather than torch.tensor(sourceTensor).\n",
      "  return torch.tensor(b,dtype = torch.float64)\n"
     ]
    },
    {
     "data": {
      "text/plain": [
       "torch.Size([200, 1])"
      ]
     },
     "execution_count": 443,
     "metadata": {},
     "output_type": "execute_result"
    }
   ],
   "source": [
    "def realtx(x,V):\n",
    "    x = torch.tensor(x,dtype = torch.float64)\n",
    "    a1 = torch.sin(t.reshape((-1,1))@x.reshape((1,-1))) \n",
    "    a2 = t.reshape((-1,1))@I(x).reshape((1,-1))\n",
    "    a3 = a1+a2\n",
    "    a4 = a3@V.reshape((-1,1))\n",
    "    a5 = (range_feature*2/num_feature)*a4\n",
    "    a6 = torch.cos(a5)\n",
    "    return a6\n",
    "imagetx(features[0],net_2(features[0])).shape"
   ]
  },
  {
   "cell_type": "code",
   "execution_count": 466,
   "id": "ba78d3f7",
   "metadata": {},
   "outputs": [],
   "source": [
    "def net_2(X):\n",
    "    X_clone = X.clone()\n",
    "    X = X.reshape((-1, num_feature))\n",
    "    H1 = relu(X@W1 + b1)  # 这里“@”代表矩阵乘法\n",
    "    H2 = relu(H1@W2 + b2)\n",
    "    V = (H2@W3 + b3)\n",
    "    R_1 = expcostx(X,V)*realtx(X,V)\n",
    "    R_2 = expcostx(X,V)*imagetx(X,V)\n",
    "    R = torch.cat((R_1,R_2),1).reshape((1,-1))\n",
    "    return V"
   ]
  },
  {
   "cell_type": "code",
   "execution_count": 465,
   "id": "2a31d9a8",
   "metadata": {},
   "outputs": [
    {
     "name": "stderr",
     "output_type": "stream",
     "text": [
      "/var/folders/ym/35040q6j5x912qskn704_hy80000gn/T/ipykernel_26788/2169779723.py:5: UserWarning: To copy construct from a tensor, it is recommended to use sourceTensor.clone().detach() or sourceTensor.clone().detach().requires_grad_(True), rather than torch.tensor(sourceTensor).\n",
      "  return torch.tensor(b,dtype = torch.float64)\n"
     ]
    }
   ],
   "source": [
    "V = net_2(features[0])\n",
    "realtx(x,V)"
   ]
  },
  {
   "cell_type": "code",
   "execution_count": 467,
   "id": "77d6bf51",
   "metadata": {},
   "outputs": [],
   "source": [
    "def net_1(X):\n",
    "    X_clone = X.clone()\n",
    "    X = X.reshape((-1, num_feature))\n",
    "    H1 = relu(X@W1 + b1)  # 这里“@”代表矩阵乘法\n",
    "    H2 = relu(H1@W2 + b2)\n",
    "    V = (H2@W3 + b3)\n",
    "    R_1 = expcostx(X,V)*realtx(X,V)\n",
    "    R_2 = expcostx(X,V)*imagetx(X,V)\n",
    "    R = torch.cat((R_1,R_2),1).reshape((1,-1))\n",
    "    return R\n"
   ]
  },
  {
   "cell_type": "code",
   "execution_count": 468,
   "id": "6a9808cc",
   "metadata": {},
   "outputs": [
    {
     "name": "stderr",
     "output_type": "stream",
     "text": [
      "/var/folders/ym/35040q6j5x912qskn704_hy80000gn/T/ipykernel_26788/2169779723.py:5: UserWarning: To copy construct from a tensor, it is recommended to use sourceTensor.clone().detach() or sourceTensor.clone().detach().requires_grad_(True), rather than torch.tensor(sourceTensor).\n",
      "  return torch.tensor(b,dtype = torch.float64)\n"
     ]
    }
   ],
   "source": [
    "H0 =  features[0].reshape((-1, num_feature))\n",
    "H1 = relu(H0@W1 + b1)\n",
    "H2 = relu(H1@W2 + b2)\n",
    "V = (H2@W3 + b3)\n",
    "a = t.reshape((-1,1))@features[0].reshape((-1,num_feature))"
   ]
  },
  {
   "cell_type": "code",
   "execution_count": 469,
   "id": "3fa949ff",
   "metadata": {},
   "outputs": [],
   "source": [
    "loss = nn.MSELoss()"
   ]
  },
  {
   "cell_type": "code",
   "execution_count": 470,
   "id": "fe9e24be",
   "metadata": {},
   "outputs": [],
   "source": [
    "def sgd(params, lr, batch_size):  #@save\n",
    "    \"\"\"小批量随机梯度下降\"\"\"\n",
    "    with torch.no_grad():\n",
    "        for param in params:\n",
    "            param -= lr * param.grad / batch_size\n",
    "            param.grad.zero_()"
   ]
  },
  {
   "cell_type": "code",
   "execution_count": 471,
   "id": "80940346",
   "metadata": {},
   "outputs": [],
   "source": [
    "lr = 0.02\n",
    "num_epochs = int(num_sample/batch_size)\n",
    "net = net_1\n",
    "loss = nn.MSELoss()\n",
    "\n",
    "trainer = torch.optim.SGD(params, lr=0.03)"
   ]
  },
  {
   "cell_type": "code",
   "execution_count": 472,
   "id": "1ecea44e",
   "metadata": {},
   "outputs": [
    {
     "name": "stderr",
     "output_type": "stream",
     "text": [
      "/var/folders/ym/35040q6j5x912qskn704_hy80000gn/T/ipykernel_26788/2169779723.py:5: UserWarning: To copy construct from a tensor, it is recommended to use sourceTensor.clone().detach() or sourceTensor.clone().detach().requires_grad_(True), rather than torch.tensor(sourceTensor).\n",
      "  return torch.tensor(b,dtype = torch.float64)\n",
      "/var/folders/ym/35040q6j5x912qskn704_hy80000gn/T/ipykernel_26788/1306561042.py:2: UserWarning: To copy construct from a tensor, it is recommended to use sourceTensor.clone().detach() or sourceTensor.clone().detach().requires_grad_(True), rather than torch.tensor(sourceTensor).\n",
      "  x = torch.tensor(x,dtype = torch.float64)\n"
     ]
    },
    {
     "name": "stdout",
     "output_type": "stream",
     "text": [
      "epoch 1, loss 0.441235\n",
      "epoch 2, loss 0.462831\n",
      "epoch 3, loss 0.461997\n",
      "epoch 4, loss 0.461361\n",
      "epoch 5, loss 0.460604\n",
      "epoch 6, loss 0.459664\n",
      "epoch 7, loss 0.458493\n",
      "epoch 8, loss 0.457038\n",
      "epoch 9, loss 0.459728\n",
      "epoch 10, loss 0.460024\n",
      "epoch 11, loss 0.460326\n",
      "epoch 12, loss 0.460586\n",
      "epoch 13, loss 0.460816\n",
      "epoch 14, loss 0.461020\n",
      "epoch 15, loss 0.461204\n",
      "epoch 16, loss 0.461371\n",
      "epoch 17, loss 0.461525\n",
      "epoch 18, loss 0.461667\n",
      "epoch 19, loss 0.461800\n",
      "epoch 20, loss 0.461924\n",
      "epoch 21, loss 0.462042\n",
      "epoch 22, loss 0.462153\n",
      "epoch 23, loss 0.462260\n",
      "epoch 24, loss 0.462361\n",
      "epoch 25, loss 0.462459\n",
      "epoch 26, loss 0.462553\n",
      "epoch 27, loss 0.462644\n",
      "epoch 28, loss 0.462732\n",
      "epoch 29, loss 0.462817\n",
      "epoch 30, loss 0.462901\n",
      "epoch 31, loss 0.462982\n",
      "epoch 32, loss 0.463061\n",
      "epoch 33, loss 0.463138\n",
      "epoch 34, loss 0.463214\n",
      "epoch 35, loss 0.463288\n",
      "epoch 36, loss 0.463360\n",
      "epoch 37, loss 0.463431\n",
      "epoch 38, loss 0.463501\n",
      "epoch 39, loss 0.463570\n",
      "epoch 40, loss 0.463637\n",
      "epoch 41, loss 0.463703\n",
      "epoch 42, loss 0.463767\n",
      "epoch 43, loss 0.463830\n",
      "epoch 44, loss 0.463893\n",
      "epoch 45, loss 0.463953\n",
      "epoch 46, loss 0.464013\n",
      "epoch 47, loss 0.464072\n",
      "epoch 48, loss 0.464129\n",
      "epoch 49, loss 0.464185\n",
      "epoch 50, loss 0.464240\n",
      "epoch 51, loss 0.464294\n",
      "epoch 52, loss 0.464347\n",
      "epoch 53, loss 0.464398\n",
      "epoch 54, loss 0.464449\n",
      "epoch 55, loss 0.464498\n",
      "epoch 56, loss 0.464547\n",
      "epoch 57, loss 0.464594\n",
      "epoch 58, loss 0.464641\n",
      "epoch 59, loss 0.464686\n",
      "epoch 60, loss 0.464731\n",
      "epoch 61, loss 0.464775\n",
      "epoch 62, loss 0.464818\n",
      "epoch 63, loss 0.464861\n",
      "epoch 64, loss 0.464903\n",
      "epoch 65, loss 0.464944\n",
      "epoch 66, loss 0.464985\n",
      "epoch 67, loss 0.465025\n",
      "epoch 68, loss 0.465065\n",
      "epoch 69, loss 0.465104\n",
      "epoch 70, loss 0.465143\n",
      "epoch 71, loss 0.465182\n",
      "epoch 72, loss 0.465220\n",
      "epoch 73, loss 0.465258\n",
      "epoch 74, loss 0.465296\n",
      "epoch 75, loss 0.465333\n",
      "epoch 76, loss 0.465370\n",
      "epoch 77, loss 0.465407\n",
      "epoch 78, loss 0.465444\n",
      "epoch 79, loss 0.465480\n",
      "epoch 80, loss 0.465517\n",
      "epoch 81, loss 0.465553\n",
      "epoch 82, loss 0.465588\n",
      "epoch 83, loss 0.465624\n",
      "epoch 84, loss 0.465659\n",
      "epoch 85, loss 0.465694\n",
      "epoch 86, loss 0.465729\n",
      "epoch 87, loss 0.465763\n",
      "epoch 88, loss 0.465797\n",
      "epoch 89, loss 0.465831\n",
      "epoch 90, loss 0.465865\n",
      "epoch 91, loss 0.465898\n",
      "epoch 92, loss 0.465931\n",
      "epoch 93, loss 0.465963\n",
      "epoch 94, loss 0.465995\n",
      "epoch 95, loss 0.466027\n",
      "epoch 96, loss 0.466059\n",
      "epoch 97, loss 0.466090\n",
      "epoch 98, loss 0.466120\n",
      "epoch 99, loss 0.466150\n",
      "epoch 100, loss 0.466180\n"
     ]
    }
   ],
   "source": [
    "for epoch in range(num_epochs):\n",
    "    for X, y in D_loader:\n",
    "        l = loss(net_1(X) ,y)\n",
    "        trainer.zero_grad()\n",
    "        l.backward()\n",
    "        trainer.step()\n",
    "    l = loss(net(X), y)\n",
    "    print(f'epoch {epoch + 1}, loss {l:f}')"
   ]
  },
  {
   "cell_type": "markdown",
   "id": "6616e94f",
   "metadata": {},
   "source": [
    "## visualized characteristic function(real)"
   ]
  },
  {
   "cell_type": "code",
   "execution_count": 476,
   "id": "96453bf7",
   "metadata": {},
   "outputs": [
    {
     "name": "stderr",
     "output_type": "stream",
     "text": [
      "/var/folders/ym/35040q6j5x912qskn704_hy80000gn/T/ipykernel_26788/2169779723.py:5: UserWarning: To copy construct from a tensor, it is recommended to use sourceTensor.clone().detach() or sourceTensor.clone().detach().requires_grad_(True), rather than torch.tensor(sourceTensor).\n",
      "  return torch.tensor(b,dtype = torch.float64)\n",
      "/var/folders/ym/35040q6j5x912qskn704_hy80000gn/T/ipykernel_26788/1306561042.py:2: UserWarning: To copy construct from a tensor, it is recommended to use sourceTensor.clone().detach() or sourceTensor.clone().detach().requires_grad_(True), rather than torch.tensor(sourceTensor).\n",
      "  x = torch.tensor(x,dtype = torch.float64)\n"
     ]
    },
    {
     "data": {
      "text/plain": [
       "torch.Size([1, 400])"
      ]
     },
     "execution_count": 476,
     "metadata": {},
     "output_type": "execute_result"
    }
   ],
   "source": [
    "net_1(features[0]).shape"
   ]
  },
  {
   "cell_type": "code",
   "execution_count": 475,
   "id": "45f3ad82",
   "metadata": {},
   "outputs": [
    {
     "data": {
      "text/plain": [
       "[<matplotlib.lines.Line2D at 0x7fd8f0212640>]"
      ]
     },
     "execution_count": 475,
     "metadata": {},
     "output_type": "execute_result"
    },
    {
     "data": {
      "image/png": "[encoded data removed]",
      "text/plain": [
       "<Figure size 640x480 with 1 Axes>"
      ]
     },
     "metadata": {},
     "output_type": "display_data"
    }
   ],
   "source": [
    "real = torch.zeros(int(len(labels[0])/2)+1)\n",
    "image = torch.zeros(int(len(labels[0])/2)+1)\n",
    "for i in range(len(labels[0])):\n",
    "    if i%2 ==0:\n",
    "        real[int(i/2)] = labels[0][i]\n",
    "    else:\n",
    "        image[int((i+1)/2)] = labels[0][i]\n",
    "real = real[0:len(t)]\n",
    "plt.plot(t,real)"
   ]
  },
  {
   "cell_type": "code",
   "execution_count": 477,
   "id": "7330b9fa",
   "metadata": {},
   "outputs": [
    {
     "name": "stderr",
     "output_type": "stream",
     "text": [
      "/var/folders/ym/35040q6j5x912qskn704_hy80000gn/T/ipykernel_26788/2169779723.py:5: UserWarning: To copy construct from a tensor, it is recommended to use sourceTensor.clone().detach() or sourceTensor.clone().detach().requires_grad_(True), rather than torch.tensor(sourceTensor).\n",
      "  return torch.tensor(b,dtype = torch.float64)\n",
      "/var/folders/ym/35040q6j5x912qskn704_hy80000gn/T/ipykernel_26788/1306561042.py:2: UserWarning: To copy construct from a tensor, it is recommended to use sourceTensor.clone().detach() or sourceTensor.clone().detach().requires_grad_(True), rather than torch.tensor(sourceTensor).\n",
      "  x = torch.tensor(x,dtype = torch.float64)\n"
     ]
    }
   ],
   "source": [
    "predict0 = list(net_1(features[0]))"
   ]
  },
  {
   "cell_type": "code",
   "execution_count": 479,
   "id": "6e680d40",
   "metadata": {},
   "outputs": [
    {
     "data": {
      "text/plain": [
       "[<matplotlib.lines.Line2D at 0x7fd8e8167be0>]"
      ]
     },
     "execution_count": 479,
     "metadata": {},
     "output_type": "execute_result"
    },
    {
     "data": {
      "image/png": "[encoded data removed]",
      "text/plain": [
       "<Figure size 640x480 with 1 Axes>"
      ]
     },
     "metadata": {},
     "output_type": "display_data"
    }
   ],
   "source": [
    "real_h = torch.zeros(int(len(labels[0])/2)+1)\n",
    "image_h = torch.zeros(int(len(labels[0])/2)+1)\n",
    "for i in range(len(labels[0])):\n",
    "    if i%2 ==0:\n",
    "        real_h[int(i/2)] = predict0[0][i]\n",
    "    else:\n",
    "        image_h[int((i+1)/2)] = predict0[0][i]\n",
    "real_h = real_h[0:len(t)]        \n",
    "plt.plot(t,real_h.detach().numpy())"
   ]
  },
  {
   "cell_type": "code",
   "execution_count": null,
   "id": "971e9f61",
   "metadata": {},
   "outputs": [],
   "source": []
  }
 ],
 "metadata": {
  "kernelspec": {
   "display_name": "Python 3 (ipykernel)",
   "language": "python",
   "name": "python3"
  },
  "language_info": {
   "codemirror_mode": {
    "name": "ipython",
    "version": 3
   },
   "file_extension": ".py",
   "mimetype": "text/x-python",
   "name": "python",
   "nbconvert_exporter": "python",
   "pygments_lexer": "ipython3",
   "version": "3.9.12"
  }
 },
 "nbformat": 4,
 "nbformat_minor": 5
}
