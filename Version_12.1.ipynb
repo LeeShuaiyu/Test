{
 "cells": [
  {
   "cell_type": "code",
   "execution_count": 13,
   "id": "f0aac0fa",
   "metadata": {},
   "outputs": [],
   "source": [
    "#载入所需package\n",
    "import numpy as np\n",
    "import torch\n",
    "import math\n",
    "import pandas as pd\n",
    "import matplotlib.pyplot as plt\n",
    "import matplotlib.image as mping \n",
    "import cmath\n",
    "from torch import nn\n",
    "import random\n",
    "from torch.utils import data\n",
    "import copy\n",
    "from scipy.special import kv\n",
    "from scipy import integrate\n",
    "import seaborn as sns\n",
    "import matplotlib as mpl"
   ]
  },
  {
   "cell_type": "markdown",
   "id": "b77f3d24",
   "metadata": {},
   "source": [
    "## Rejection Method"
   ]
  },
  {
   "cell_type": "markdown",
   "id": "609353ad",
   "metadata": {},
   "source": [
    "### Characteristic Function"
   ]
  },
  {
   "cell_type": "code",
   "execution_count": 14,
   "id": "c34b1b6b",
   "metadata": {},
   "outputs": [],
   "source": [
    "class Characteristic_function:\n",
    "    def __init__(self,data):\n",
    "        self.data = data   \n",
    "    def ecf(self,t):\n",
    "        n = len(self.data)\n",
    "        if type(t)== int:\n",
    "            C = torch.zeros((n,1))\n",
    "            S = torch.zeros((n,1))\n",
    "            for i in range(n):\n",
    "                C[i] = math.cos(t*self.data[i])\n",
    "                S[i] = math.sin(t*self.data[i])\n",
    "            s = torch.mean(S)\n",
    "            c = torch.mean(C)\n",
    "            return c,s                \n",
    "        else:    \n",
    "            m = len(t)\n",
    "            R = []\n",
    "            for j in range(m):\n",
    "                S = []\n",
    "                C = []\n",
    "                for i in range(n):\n",
    "                    C = C+[math.cos(t[j]*self.data[i])]\n",
    "                    S = S+[math.sin(t[j]*self.data[i])]\n",
    "                #S = torch.tensor(S,dtype = torch.float64)\n",
    "                #C = torch.tensor(C,dtype = torch.float64)\n",
    "                s = sum(S)/len(S)\n",
    "                c = sum(C)/len(C)\n",
    "                R = R+[c]\n",
    "                R = R+[s]\n",
    "            #R = torch.tensor(R,dtype = torch.float64)\n",
    "        return R\n",
    "    def ecf_h(self,t):\n",
    "        n = len(self.data)\n",
    "        if type(t)== int:\n",
    "            C = torch.zeros((n,1))\n",
    "            S = torch.zeros((n,1))\n",
    "            for i in range(n):\n",
    "                C[i] = math.cos(t*self.data[i])\n",
    "                S[i] = math.sin(t*self.data[i])\n",
    "            s = torch.mean(S)\n",
    "            c = torch.mean(C)\n",
    "            return c,s                \n",
    "        else:    \n",
    "            m = len(t)\n",
    "            R = []\n",
    "            for j in range(m):\n",
    "                S = []\n",
    "                C = []\n",
    "                for i in range(n):\n",
    "                    C = C+[math.cos(t[j]*self.data[i])]\n",
    "                    S = S+[math.sin(t[j]*self.data[i])]\n",
    "                #S = torch.tensor(S,dtype = torch.float64)\n",
    "                #C = torch.tensor(C,dtype = torch.float64)\n",
    "                s = sum(S)/len(S)\n",
    "                c = sum(C)/len(C)\n",
    "                r = (math.sqrt(s**2+c**2))**h\n",
    "                theta = math.atan(s/c)*h\n",
    "                c_h = r*math.cos(theta)\n",
    "                s_h = r*math.sin(theta)\n",
    "                R = R+[c_h]\n",
    "                R = R+[s_h]\n",
    "            #R = torch.tensor(R,dtype = torch.float64)\n",
    "        return R\n",
    "    "
   ]
  },
  {
   "cell_type": "code",
   "execution_count": 15,
   "id": "9e383dad",
   "metadata": {},
   "outputs": [],
   "source": [
    "class rejection_method:    \n",
    "    def __init__(self,h,n,v,mu = 0,sigma = 1):        \n",
    "        self.h = h\n",
    "        self.v = v\n",
    "        self.mu = mu\n",
    "        self.sigma = sigma\n",
    "        self.n = n\n",
    "    def phi_h(self,t):\n",
    "        phi_real = math.cos(t*self.mu)*((math.sqrt(self.v)*self.sigma*abs(t))**(self.v/2))/(2**(self.v/2-1)*math.gamma(self.v/2))*kv(self.v/2,math.sqrt(self.v)*self.sigma*abs(t))\n",
    "        phi_imag = math.sin(t*self.mu)*((math.sqrt(self.v)*self.sigma*abs(t))**(self.v/2))/(2**(self.v/2-1)*math.gamma(self.v/2))*kv(self.v/2,math.sqrt(self.v)*self.sigma*abs(t))\n",
    "        r = (math.sqrt(phi_real**2+phi_imag**2))**self.h\n",
    "        theta = math.atan(phi_imag/phi_real)*self.h\n",
    "        phi_real = r*math.cos(theta)\n",
    "        phi_imag = r*math.sin(theta)\n",
    "        phi_abs = math.sqrt(phi_real**2+phi_imag**2)\n",
    "        return phi_real, phi_imag, phi_abs\n",
    "    def f(self,x,t_lim=200,t_num=2000):\n",
    "        t = torch.linspace(-int(t_lim),int(t_lim),t_num)\n",
    "        intg = []\n",
    "        #因为密度是real的\n",
    "        for i in range(t_num):\n",
    "            r = self.phi_h(t[i])[0]\n",
    "            im = self.phi_h(t[i])[1]\n",
    "            intg += [math.cos(t[i]*x)*r+math.sin(t[i]*x)*im]\n",
    "        y = 1/(2*math.pi)*integrate.trapz(intg, t)\n",
    "        return y\n",
    "    def phi_abs0(self,t):\n",
    "        return self.phi_h(t)[2]\n",
    "    def phi_prime(self,t,delt = 0.0001):\n",
    "        d_1 = (self.phi_h(t)[0]-self.phi_h(t+delt)[0])/delt\n",
    "        d_2 = (self.phi_h(t)[1]-self.phi_h(t+delt)[1])/delt\n",
    "        d_abs = math.sqrt(d_1**2+d_2**2)\n",
    "        return d_1,d_2\n",
    "    def phi_prime_prime(self,t,delt = 0.0001):\n",
    "        d_1 = (self.phi_prime(t)[0]-self.phi_prime(t+delt)[0])/delt\n",
    "        d_2 = (self.phi_prime(t)[1]-self.phi_prime(t+delt)[1])/delt\n",
    "        d_abs = math.sqrt(d_1**2+d_2**2)\n",
    "        return d_1,d_2,d_abs  \n",
    "    def phi_abs2(self,t):\n",
    "        return self.phi_prime_prime(t)[2]\n",
    "    def integ(self,domain = 100,ndots = 500):\n",
    "        t = torch.linspace(-int(domain),int(domain),ndots)\n",
    "        intg_0 = []\n",
    "        intg_2 = []\n",
    "        for i in range(len(t)):\n",
    "            intg_0 += [self.phi_abs0(t[i])]\n",
    "        c = 1/(2*math.pi)*integrate.trapz(intg_0, t)\n",
    "        for i in range(len(t)):\n",
    "            intg_2 += [self.phi_abs2(t[i])]\n",
    "        k = 1/(2*math.pi)*integrate.trapz(intg_2, t)\n",
    "        return c,k\n",
    "    def hat_function(self,x):        \n",
    "        c,k = self.integ()\n",
    "        g = min(c,k/(x**2))\n",
    "        return g\n",
    "\n",
    "    def genertator(self):\n",
    "        total = 25*self.n\n",
    "        V_1 = np.random.uniform(-1,1,total)\n",
    "        V_2 = np.random.uniform(-1,1,total)\n",
    "        c,k = self.integ()\n",
    "        X = []\n",
    "        for i in range(total):\n",
    "            y = math.sqrt(k/c)*(V_1[i]/V_2[i])\n",
    "            U = np.random.uniform(-1,1)            \n",
    "            if len(X) >=self.n:\n",
    "                break\n",
    "                \n",
    "            elif U<= (self.f(y)/self.hat_function(y)):\n",
    "                X+=[y]\n",
    "            else:\n",
    "                continue\n",
    "        return X\n",
    "        \n",
    "    @staticmethod\n",
    "    def cumulate(delta):\n",
    "        data = torch.zeros(np.shape(delta))\n",
    "        n = np.shape(delta)[0]\n",
    "        for i in range(n-1):\n",
    "            data[i+1] = data[i]+delta[i]\n",
    "        return np.array(data)    "
   ]
  },
  {
   "cell_type": "markdown",
   "id": "503625e2",
   "metadata": {},
   "source": [
    "## Frequency Changing"
   ]
  },
  {
   "cell_type": "code",
   "execution_count": 16,
   "id": "0a19f210",
   "metadata": {},
   "outputs": [],
   "source": [
    "class Characteristic_function:\n",
    "    def __init__(self,data):\n",
    "        self.data = data   \n",
    "    def ecf(self,t):\n",
    "        n = len(self.data)\n",
    "        if type(t)== int:\n",
    "            C = torch.zeros((n,1))\n",
    "            S = torch.zeros((n,1))\n",
    "            for i in range(n):\n",
    "                C[i] = math.cos(t*self.data[i])\n",
    "                S[i] = math.sin(t*self.data[i])\n",
    "            s = torch.mean(S)\n",
    "            c = torch.mean(C)\n",
    "            return c,s                \n",
    "        else:    \n",
    "            m = len(t)\n",
    "            R = []\n",
    "            for j in range(m):\n",
    "                S = []\n",
    "                C = []\n",
    "                for i in range(n):\n",
    "                    C = C+[math.cos(t[j]*self.data[i])]\n",
    "                    S = S+[math.sin(t[j]*self.data[i])]\n",
    "                #S = torch.tensor(S,dtype = torch.float64)\n",
    "                #C = torch.tensor(C,dtype = torch.float64)\n",
    "                s = sum(S)/len(S)\n",
    "                c = sum(C)/len(C)\n",
    "                R = R+[c]\n",
    "                R = R+[s]\n",
    "            #R = torch.tensor(R,dtype = torch.float64)\n",
    "        return R\n",
    "    def ecf_h(self,t,h):\n",
    "        n = len(self.data)\n",
    "        if type(t)== int:\n",
    "            C = torch.zeros((n,1))\n",
    "            S = torch.zeros((n,1))\n",
    "            for i in range(n):\n",
    "                C[i] = math.cos(t*self.data[i])\n",
    "                S[i] = math.sin(t*self.data[i])\n",
    "            s = torch.mean(S)\n",
    "            c = torch.mean(C)\n",
    "            r = math.sqrt(s**2+c**2)**h\n",
    "            theta = math.atan(s/c)*h\n",
    "            s = math.sin(theta)*r\n",
    "            c = math.cos(theta)*r\n",
    "            return c,s                \n",
    "        else:    \n",
    "            m = len(t)\n",
    "            R = []\n",
    "            for j in range(m):\n",
    "                S = []\n",
    "                C = []\n",
    "                for i in range(n):\n",
    "                    C = C+[math.cos(t[j]*self.data[i])]\n",
    "                    S = S+[math.sin(t[j]*self.data[i])]\n",
    "                #S = torch.tensor(S,dtype = torch.float64)\n",
    "                #C = torch.tensor(C,dtype = torch.float64)\n",
    "                s = sum(S)/len(S)\n",
    "                c = sum(C)/len(C)\n",
    "                r = math.sqrt(s**2+c**2)**h\n",
    "                theta = math.atan(s/c)*h\n",
    "                s = math.sin(theta)*r\n",
    "                c = math.cos(theta)*r\n",
    "                R = R+[c]\n",
    "                R = R+[s]\n",
    "            #R = torch.tensor(R,dtype = torch.float64)\n",
    "        return R\n"
   ]
  },
  {
   "cell_type": "markdown",
   "id": "d474a07d",
   "metadata": {},
   "source": [
    "## 实例化rejection method(h =2,mu = 0,sigma = 1,v =3)"
   ]
  },
  {
   "cell_type": "code",
   "execution_count": 27,
   "id": "a1c1a3bf",
   "metadata": {
    "scrolled": true
   },
   "outputs": [
    {
     "data": {
      "text/plain": [
       "[<matplotlib.lines.Line2D at 0x23e30f27220>]"
      ]
     },
     "execution_count": 27,
     "metadata": {},
     "output_type": "execute_result"
    },
    {
     "data": {
      "image/png": "[encoded data removed]",
      "text/plain": [
       "<Figure size 432x288 with 1 Axes>"
      ]
     },
     "metadata": {
      "needs_background": "light"
     },
     "output_type": "display_data"
    }
   ],
   "source": [
    "rm = rejection_method(h = 1,n = 1000,v =3)\n",
    "num_t = 200\n",
    "range_t = 10\n",
    "t = torch.linspace(-range_t,range_t,num_t,dtype = torch.float64)\n",
    "intg_0 = []\n",
    "for i in range(len(t)):\n",
    "    intg_0 += [rm.phi_h(t[i])[0]]\n",
    "plt.plot(t,intg_0)"
   ]
  },
  {
   "cell_type": "code",
   "execution_count": 62,
   "id": "6712f2d9",
   "metadata": {},
   "outputs": [
    {
     "data": {
      "text/plain": [
       "[<matplotlib.lines.Line2D at 0x23e38567a30>]"
      ]
     },
     "execution_count": 62,
     "metadata": {},
     "output_type": "execute_result"
    },
    {
     "data": {
      "image/png": "[encoded data removed]",
      "text/plain": [
       "<Figure size 432x288 with 1 Axes>"
      ]
     },
     "metadata": {
      "needs_background": "light"
     },
     "output_type": "display_data"
    }
   ],
   "source": [
    "intg_0 = []\n",
    "for i in range(len(t)):\n",
    "    intg_0 += [rm.phi_h(t[i])[1]]\n",
    "plt.plot(t,intg_0)"
   ]
  },
  {
   "cell_type": "markdown",
   "id": "dd13036f",
   "metadata": {},
   "source": [
    "## rejection method 生成数据"
   ]
  },
  {
   "cell_type": "code",
   "execution_count": 23,
   "id": "44c6145a",
   "metadata": {},
   "outputs": [],
   "source": [
    "x = rm.genertator()"
   ]
  },
  {
   "cell_type": "markdown",
   "id": "2ec6e6f1",
   "metadata": {},
   "source": [
    "## 生成数据的可视化"
   ]
  },
  {
   "cell_type": "code",
   "execution_count": 28,
   "id": "b4e1ebba",
   "metadata": {},
   "outputs": [
    {
     "data": {
      "text/plain": [
       "824"
      ]
     },
     "execution_count": 28,
     "metadata": {},
     "output_type": "execute_result"
    }
   ],
   "source": [
    "X = torch.tensor(x)\n",
    "x_show = []\n",
    "for i in range(len(x)):\n",
    "    if abs(x[i])<7:\n",
    "        x_show+=[x[i]]\n",
    "len(x_show)"
   ]
  },
  {
   "cell_type": "code",
   "execution_count": 29,
   "id": "7f1f5a83",
   "metadata": {},
   "outputs": [
    {
     "data": {
      "image/png": "[encoded data removed]",
      "text/plain": [
       "<Figure size 360x360 with 1 Axes>"
      ]
     },
     "metadata": {
      "needs_background": "light"
     },
     "output_type": "display_data"
    }
   ],
   "source": [
    "fig = sns.displot(data = x_show,kind = 'hist',kde = \"TRUE\")\n"
   ]
  },
  {
   "cell_type": "code",
   "execution_count": 30,
   "id": "43ee3c96",
   "metadata": {},
   "outputs": [
    {
     "data": {
      "text/plain": [
       "[<matplotlib.lines.Line2D at 0x23e310a8b50>]"
      ]
     },
     "execution_count": 30,
     "metadata": {},
     "output_type": "execute_result"
    },
    {
     "data": {
      "image/png": "[encoded data removed]",
      "text/plain": [
       "<Figure size 432x288 with 1 Axes>"
      ]
     },
     "metadata": {
      "needs_background": "light"
     },
     "output_type": "display_data"
    }
   ],
   "source": [
    "path = rm.cumulate(x)\n",
    "plt.plot(path)"
   ]
  },
  {
   "cell_type": "markdown",
   "id": "9af99ad9",
   "metadata": {},
   "source": [
    "## Training Settings"
   ]
  },
  {
   "cell_type": "code",
   "execution_count": 31,
   "id": "cb8ccb13",
   "metadata": {},
   "outputs": [],
   "source": [
    "num_feature = 100  #x的个数\n",
    "range_feature = 20 #x的范围\n",
    "num_sample = 100   #有几对\n",
    "num_labels = num_t\n",
    "total = num_sample*num_feature\n",
    "#t = t.reshape((-1,len(t)))\n",
    "feat = torch.linspace(-range_feature,range_feature,num_feature,dtype = torch.float64)"
   ]
  },
  {
   "cell_type": "markdown",
   "id": "5459f139",
   "metadata": {},
   "source": [
    "## 计算label 即经验特征函数"
   ]
  },
  {
   "cell_type": "code",
   "execution_count": 35,
   "id": "b6f2e8ae",
   "metadata": {},
   "outputs": [],
   "source": [
    "#实例化(V =3)\n",
    "CF = Characteristic_function(x)\n",
    "labels = CF.ecf_h(t,1)"
   ]
  },
  {
   "cell_type": "code",
   "execution_count": 36,
   "id": "610f63c7",
   "metadata": {},
   "outputs": [
    {
     "data": {
      "text/plain": [
       "200"
      ]
     },
     "execution_count": 36,
     "metadata": {},
     "output_type": "execute_result"
    }
   ],
   "source": [
    "len(t)"
   ]
  },
  {
   "cell_type": "code",
   "execution_count": 37,
   "id": "e4a5c8e5",
   "metadata": {},
   "outputs": [],
   "source": [
    "a = []\n",
    "features = []\n",
    "label = []\n",
    "for i in range(num_sample):\n",
    "    label+=labels\n",
    "    features+=feat\n",
    "labels =torch.tensor(label,dtype = torch.float64).reshape((-1,2*num_labels))\n",
    "features = torch.tensor(features,dtype = torch.float64).reshape((-1,num_feature))"
   ]
  },
  {
   "cell_type": "code",
   "execution_count": 38,
   "id": "f1590be4",
   "metadata": {
    "scrolled": true
   },
   "outputs": [
    {
     "data": {
      "text/plain": [
       "[<matplotlib.lines.Line2D at 0x23e3216cbb0>]"
      ]
     },
     "execution_count": 38,
     "metadata": {},
     "output_type": "execute_result"
    },
    {
     "data": {
      "image/png": "[encoded data removed]",
      "text/plain": [
       "<Figure size 432x288 with 1 Axes>"
      ]
     },
     "metadata": {
      "needs_background": "light"
     },
     "output_type": "display_data"
    }
   ],
   "source": [
    "##labels可视化\n",
    "real = torch.zeros(int(len(labels[0])/2)+1)\n",
    "image = torch.zeros(int(len(labels[0])/2)+1)\n",
    "for i in range(len(labels[0])):\n",
    "    if i%2 ==0:\n",
    "        real[int(i/2)] = labels[0][i]\n",
    "    else:\n",
    "        image[int((i+1)/2)] = labels[0][i]\n",
    "real = real[0:len(t)]\n",
    "plt.plot(t,real)"
   ]
  },
  {
   "cell_type": "code",
   "execution_count": 61,
   "id": "cd5d9283",
   "metadata": {},
   "outputs": [
    {
     "data": {
      "text/plain": [
       "[<matplotlib.lines.Line2D at 0x23e384feca0>]"
      ]
     },
     "execution_count": 61,
     "metadata": {},
     "output_type": "execute_result"
    },
    {
     "data": {
      "image/png": "[encoded data removed]",
      "text/plain": [
       "<Figure size 432x288 with 1 Axes>"
      ]
     },
     "metadata": {
      "needs_background": "light"
     },
     "output_type": "display_data"
    }
   ],
   "source": [
    "image = image[0:len(t)]\n",
    "plt.plot(t,image)"
   ]
  },
  {
   "cell_type": "code",
   "execution_count": 39,
   "id": "9d881b85",
   "metadata": {},
   "outputs": [],
   "source": [
    "def load_array(data_arrays, batch_size, is_train=True):  #@save\n",
    "    \"\"\"构造一个PyTorch数据迭代器\"\"\"\n",
    "    dataset = data.TensorDataset(*data_arrays)\n",
    "    return data.DataLoader(dataset, batch_size, shuffle=is_train)\n",
    "batch_size = 1\n",
    "D_loader = load_array((features,labels), batch_size)"
   ]
  },
  {
   "cell_type": "code",
   "execution_count": 40,
   "id": "5ea49cfb",
   "metadata": {},
   "outputs": [
    {
     "data": {
      "text/plain": [
       "torch.Size([1, 100])"
      ]
     },
     "execution_count": 40,
     "metadata": {},
     "output_type": "execute_result"
    }
   ],
   "source": [
    "next(iter(D_loader))[0].shape"
   ]
  },
  {
   "cell_type": "code",
   "execution_count": 41,
   "id": "369147c2",
   "metadata": {},
   "outputs": [],
   "source": [
    "# 初始化参数定义\n",
    "\n",
    "\n",
    "hidden_2, hidden_3 = 256, 256\n",
    "\n",
    "W1 = nn.Parameter(torch.randn(\n",
    "    num_feature, hidden_2, requires_grad=True,dtype = torch.float64) * 0.01)\n",
    "b1 = nn.Parameter(torch.zeros(hidden_2, requires_grad=True,dtype = torch.float64))\n",
    "\n",
    "W2 = nn.Parameter(torch.randn(\n",
    "    hidden_2, hidden_3, requires_grad=True,dtype = torch.float64) * 0.01)\n",
    "b2 = nn.Parameter(torch.zeros(hidden_3, requires_grad=True,dtype = torch.float64))\n",
    "\n",
    "W3 = nn.Parameter(torch.randn(\n",
    "    hidden_3, num_feature, requires_grad=True,dtype = torch.float64) * 0.01)\n",
    "b3 = nn.Parameter(torch.zeros(num_feature, requires_grad=True,dtype = torch.float64))\n",
    "\n",
    "\n",
    "params = [W1, b1, W2, b2, W3, b3]"
   ]
  },
  {
   "cell_type": "code",
   "execution_count": 42,
   "id": "b6d17ba0",
   "metadata": {},
   "outputs": [],
   "source": [
    "#激活函数\n",
    "def relu(X):\n",
    "    a = torch.zeros_like(X)\n",
    "    b = torch.max(X, a)\n",
    "    return torch.tensor(b,dtype = torch.float64)\n",
    "def expcostx(x,V):\n",
    "    a = t.reshape((-1,1))@x.reshape((1,-1))\n",
    "    b = (torch.cos(a)-1)@V.reshape((-1,1))\n",
    "    c = torch.exp((range_feature*2/num_feature)*b)\n",
    "    return c\n",
    "def I(x):\n",
    "    y = copy.deepcopy(x)\n",
    "    y[abs(x)>1]=0\n",
    "    return y\n",
    "    \n",
    "def realtx(x,V):\n",
    "    x = torch.tensor(x,dtype = torch.float64)\n",
    "    a1 = torch.sin(t.reshape((-1,1))@x.reshape((1,-1))) \n",
    "    a2 = t.reshape((-1,1))@I(x).reshape((1,-1))\n",
    "    a3 = a1+a2\n",
    "    a4 = a3@V.reshape((-1,1))\n",
    "    a5 = (range_feature*2/num_feature)*a4\n",
    "    a6 = torch.cos(a5)\n",
    "    return a6\n",
    "def imagetx(x,V):\n",
    "    #x = torch.tensor(x,dtype = torch.float64)\n",
    "    a1 = torch.sin(t.reshape((-1,1))@x.reshape((1,-1))) \n",
    "    a2 = t.reshape((-1,1))@I(x).reshape((1,-1))\n",
    "    a3 = a1+a2\n",
    "    a4 = a3@V.reshape((-1,1))\n",
    "    a5 = (range_feature*2/num_feature)*a4\n",
    "    a6 = torch.sin(a5)\n",
    "    return a6"
   ]
  },
  {
   "cell_type": "code",
   "execution_count": 43,
   "id": "a79a8cab",
   "metadata": {},
   "outputs": [],
   "source": [
    "#网络定义\n",
    "def net_1(X):\n",
    "    X_clone = X.clone()\n",
    "    X = X.reshape((-1, num_feature))\n",
    "    H1 = relu(X@W1 + b1)  # 这里“@”代表矩阵乘法\n",
    "    H2 = relu(H1@W2 + b2)\n",
    "    V = (H2@W3 + b3)\n",
    "    R_1 = expcostx(X,V)*realtx(X,V)\n",
    "    R_2 = expcostx(X,V)*imagetx(X,V)\n",
    "    R = torch.cat((R_1,R_2),1).reshape((1,-1))\n",
    "    return R\n"
   ]
  },
  {
   "cell_type": "code",
   "execution_count": 44,
   "id": "b5efb5b6",
   "metadata": {},
   "outputs": [],
   "source": [
    "def sgd(params, lr, batch_size):  #@save\n",
    "    \"\"\"小批量随机梯度下降\"\"\"\n",
    "    with torch.no_grad():\n",
    "        for param in params:\n",
    "            param -= lr * param.grad / batch_size\n",
    "            param.grad.zero_()"
   ]
  },
  {
   "cell_type": "code",
   "execution_count": 45,
   "id": "c2672d8a",
   "metadata": {},
   "outputs": [],
   "source": [
    "lr = 0.02\n",
    "num_epochs = int(num_sample/batch_size)\n",
    "net = net_1\n",
    "loss = nn.MSELoss()\n",
    "\n",
    "trainer = torch.optim.SGD(params, lr=0.03)"
   ]
  },
  {
   "cell_type": "code",
   "execution_count": 46,
   "id": "01fdd3af",
   "metadata": {},
   "outputs": [
    {
     "name": "stderr",
     "output_type": "stream",
     "text": [
      "C:\\Users\\Administrator\\AppData\\Local\\Temp\\ipykernel_3408\\1528106951.py:5: UserWarning: To copy construct from a tensor, it is recommended to use sourceTensor.clone().detach() or sourceTensor.clone().detach().requires_grad_(True), rather than torch.tensor(sourceTensor).\n",
      "  return torch.tensor(b,dtype = torch.float64)\n",
      "C:\\Users\\Administrator\\AppData\\Local\\Temp\\ipykernel_3408\\1528106951.py:17: UserWarning: To copy construct from a tensor, it is recommended to use sourceTensor.clone().detach() or sourceTensor.clone().detach().requires_grad_(True), rather than torch.tensor(sourceTensor).\n",
      "  x = torch.tensor(x,dtype = torch.float64)\n"
     ]
    },
    {
     "name": "stdout",
     "output_type": "stream",
     "text": [
      "epoch 1, loss 0.005937\n",
      "epoch 2, loss 0.005707\n",
      "epoch 3, loss 0.005585\n",
      "epoch 4, loss 0.005472\n",
      "epoch 5, loss 0.005351\n",
      "epoch 6, loss 0.005216\n",
      "epoch 7, loss 0.005064\n",
      "epoch 8, loss 0.004891\n",
      "epoch 9, loss 0.004691\n",
      "epoch 10, loss 0.004460\n",
      "epoch 11, loss 0.004192\n",
      "epoch 12, loss 0.003888\n",
      "epoch 13, loss 0.003553\n",
      "epoch 14, loss 0.003207\n",
      "epoch 15, loss 0.002880\n",
      "epoch 16, loss 0.002597\n",
      "epoch 17, loss 0.002365\n",
      "epoch 18, loss 0.002176\n",
      "epoch 19, loss 0.002020\n",
      "epoch 20, loss 0.001884\n",
      "epoch 21, loss 0.001763\n",
      "epoch 22, loss 0.001652\n",
      "epoch 23, loss 0.001548\n",
      "epoch 24, loss 0.001452\n",
      "epoch 25, loss 0.001362\n",
      "epoch 26, loss 0.001280\n",
      "epoch 27, loss 0.001205\n",
      "epoch 28, loss 0.001137\n",
      "epoch 29, loss 0.001078\n",
      "epoch 30, loss 0.001025\n",
      "epoch 31, loss 0.000979\n",
      "epoch 32, loss 0.000938\n",
      "epoch 33, loss 0.000903\n",
      "epoch 34, loss 0.000871\n",
      "epoch 35, loss 0.000842\n",
      "epoch 36, loss 0.000817\n",
      "epoch 37, loss 0.000794\n",
      "epoch 38, loss 0.000772\n",
      "epoch 39, loss 0.000753\n",
      "epoch 40, loss 0.000734\n",
      "epoch 41, loss 0.000717\n",
      "epoch 42, loss 0.000700\n",
      "epoch 43, loss 0.000685\n",
      "epoch 44, loss 0.000670\n",
      "epoch 45, loss 0.000656\n",
      "epoch 46, loss 0.000643\n",
      "epoch 47, loss 0.000631\n",
      "epoch 48, loss 0.000618\n",
      "epoch 49, loss 0.000607\n",
      "epoch 50, loss 0.000596\n",
      "epoch 51, loss 0.000585\n",
      "epoch 52, loss 0.000575\n",
      "epoch 53, loss 0.000565\n",
      "epoch 54, loss 0.000556\n",
      "epoch 55, loss 0.000547\n",
      "epoch 56, loss 0.000539\n",
      "epoch 57, loss 0.000531\n",
      "epoch 58, loss 0.000523\n",
      "epoch 59, loss 0.000516\n",
      "epoch 60, loss 0.000509\n",
      "epoch 61, loss 0.000502\n",
      "epoch 62, loss 0.000496\n",
      "epoch 63, loss 0.000490\n",
      "epoch 64, loss 0.000484\n",
      "epoch 65, loss 0.000478\n",
      "epoch 66, loss 0.000473\n",
      "epoch 67, loss 0.000468\n",
      "epoch 68, loss 0.000463\n",
      "epoch 69, loss 0.000458\n",
      "epoch 70, loss 0.000454\n",
      "epoch 71, loss 0.000449\n",
      "epoch 72, loss 0.000445\n",
      "epoch 73, loss 0.000441\n",
      "epoch 74, loss 0.000437\n",
      "epoch 75, loss 0.000433\n",
      "epoch 76, loss 0.000430\n",
      "epoch 77, loss 0.000426\n",
      "epoch 78, loss 0.000423\n",
      "epoch 79, loss 0.000419\n",
      "epoch 80, loss 0.000416\n",
      "epoch 81, loss 0.000413\n",
      "epoch 82, loss 0.000410\n",
      "epoch 83, loss 0.000407\n",
      "epoch 84, loss 0.000404\n",
      "epoch 85, loss 0.000401\n",
      "epoch 86, loss 0.000398\n",
      "epoch 87, loss 0.000395\n",
      "epoch 88, loss 0.000392\n",
      "epoch 89, loss 0.000390\n",
      "epoch 90, loss 0.000387\n",
      "epoch 91, loss 0.000385\n",
      "epoch 92, loss 0.000382\n",
      "epoch 93, loss 0.000380\n",
      "epoch 94, loss 0.000377\n",
      "epoch 95, loss 0.000375\n",
      "epoch 96, loss 0.000372\n",
      "epoch 97, loss 0.000370\n",
      "epoch 98, loss 0.000368\n",
      "epoch 99, loss 0.000366\n",
      "epoch 100, loss 0.000363\n"
     ]
    }
   ],
   "source": [
    "for epoch in range(num_epochs):\n",
    "    for X, y in D_loader:\n",
    "        l = loss(net_1(X) ,y)\n",
    "        trainer.zero_grad()\n",
    "        l.backward()\n",
    "        trainer.step()\n",
    "    l = loss(net(X), y)\n",
    "    print(f'epoch {epoch + 1}, loss {l:f}')"
   ]
  },
  {
   "cell_type": "markdown",
   "id": "bdc5f6dd",
   "metadata": {},
   "source": [
    "## visualized characteristic function(real)"
   ]
  },
  {
   "cell_type": "code",
   "execution_count": 47,
   "id": "fbdeb9db",
   "metadata": {},
   "outputs": [
    {
     "name": "stderr",
     "output_type": "stream",
     "text": [
      "C:\\Users\\Administrator\\AppData\\Local\\Temp\\ipykernel_3408\\1528106951.py:5: UserWarning: To copy construct from a tensor, it is recommended to use sourceTensor.clone().detach() or sourceTensor.clone().detach().requires_grad_(True), rather than torch.tensor(sourceTensor).\n",
      "  return torch.tensor(b,dtype = torch.float64)\n",
      "C:\\Users\\Administrator\\AppData\\Local\\Temp\\ipykernel_3408\\1528106951.py:17: UserWarning: To copy construct from a tensor, it is recommended to use sourceTensor.clone().detach() or sourceTensor.clone().detach().requires_grad_(True), rather than torch.tensor(sourceTensor).\n",
      "  x = torch.tensor(x,dtype = torch.float64)\n"
     ]
    }
   ],
   "source": [
    "predict0 = list(net_1(features[0]))"
   ]
  },
  {
   "cell_type": "code",
   "execution_count": 48,
   "id": "826d7c33",
   "metadata": {
    "scrolled": true
   },
   "outputs": [
    {
     "data": {
      "text/plain": [
       "[<matplotlib.lines.Line2D at 0x23e3222bf70>]"
      ]
     },
     "execution_count": 48,
     "metadata": {},
     "output_type": "execute_result"
    },
    {
     "data": {
      "image/png": "[encoded data removed]",
      "text/plain": [
       "<Figure size 432x288 with 1 Axes>"
      ]
     },
     "metadata": {
      "needs_background": "light"
     },
     "output_type": "display_data"
    }
   ],
   "source": [
    "real_h = torch.zeros(int(len(labels[0])/2)+1)\n",
    "image_h = torch.zeros(int(len(labels[0])/2)+1)\n",
    "for i in range(len(labels[0])):\n",
    "    if i%2 ==0:\n",
    "        real_h[int(i/2)] = predict0[0][i]\n",
    "    else:\n",
    "        image_h[int((i+1)/2)] = predict0[0][i]\n",
    "real_h = real_h[0:len(t)] \n",
    "image_h = image_h[0:len(t)] \n",
    "plt.plot(t,real_h.detach().numpy())"
   ]
  },
  {
   "cell_type": "code",
   "execution_count": 49,
   "id": "f9c4be62",
   "metadata": {},
   "outputs": [],
   "source": [
    "#c的值\n",
    "abs_0 = []\n",
    "for i in range(len(real_h)):\n",
    "    abs_0+=[math.sqrt(real_h[i]**2+image_h[i]**2)]"
   ]
  },
  {
   "cell_type": "code",
   "execution_count": 50,
   "id": "aa51150d",
   "metadata": {},
   "outputs": [
    {
     "data": {
      "text/plain": [
       "[<matplotlib.lines.Line2D at 0x23e322dd070>]"
      ]
     },
     "execution_count": 50,
     "metadata": {},
     "output_type": "execute_result"
    },
    {
     "data": {
      "image/png": "[encoded data removed]",
      "text/plain": [
       "<Figure size 432x288 with 1 Axes>"
      ]
     },
     "metadata": {
      "needs_background": "light"
     },
     "output_type": "display_data"
    }
   ],
   "source": [
    "plt.plot(t,abs_0)"
   ]
  },
  {
   "cell_type": "code",
   "execution_count": 51,
   "id": "9e8d4e9d",
   "metadata": {},
   "outputs": [
    {
     "data": {
      "text/plain": [
       "[<matplotlib.lines.Line2D at 0x23e323430d0>]"
      ]
     },
     "execution_count": 51,
     "metadata": {},
     "output_type": "execute_result"
    },
    {
     "data": {
      "image/png": "[encoded data removed]",
      "text/plain": [
       "<Figure size 432x288 with 1 Axes>"
      ]
     },
     "metadata": {
      "needs_background": "light"
     },
     "output_type": "display_data"
    }
   ],
   "source": [
    "plt.plot(t,image_h.detach().numpy())"
   ]
  },
  {
   "cell_type": "code",
   "execution_count": 52,
   "id": "deb9fe89",
   "metadata": {},
   "outputs": [],
   "source": [
    "c = 1/(2*math.pi)*integrate.trapz(abs_0, t)"
   ]
  },
  {
   "cell_type": "code",
   "execution_count": 53,
   "id": "24aa0c7e",
   "metadata": {},
   "outputs": [],
   "source": [
    "# k值\n",
    "prime_real = []\n",
    "prime_imag = []\n",
    "for i in range(len(t)-1):\n",
    "    prime_real +=[(real_h[i+1]-real_h[i])/(t[i+1]-t[i])]\n",
    "    prime_imag +=[(image_h[i+1]-image_h[i])/(t[i+1]-t[i])]"
   ]
  },
  {
   "cell_type": "code",
   "execution_count": 54,
   "id": "1533978b",
   "metadata": {},
   "outputs": [],
   "source": [
    "prime2_real = []\n",
    "prime2_imag = []\n",
    "abs_2 = []\n",
    "for i in range(len(t)-2):\n",
    "    prime2_real +=[(prime_real[i+1]-prime_real[i])/(t[i+1]-t[i])]\n",
    "    prime2_imag +=[(prime_imag[i+1]-prime_imag[i])/(t[i+1]-t[i])]\n",
    "    abs_2 += [math.sqrt(prime2_real[-1]**2+prime2_imag[-1]**2)]\n"
   ]
  },
  {
   "cell_type": "code",
   "execution_count": 55,
   "id": "1e531eb1",
   "metadata": {},
   "outputs": [
    {
     "data": {
      "text/plain": [
       "198"
      ]
     },
     "execution_count": 55,
     "metadata": {},
     "output_type": "execute_result"
    }
   ],
   "source": [
    "len(t[0:-2])"
   ]
  },
  {
   "cell_type": "code",
   "execution_count": 56,
   "id": "5688ce49",
   "metadata": {},
   "outputs": [],
   "source": [
    "k =  1/(2*math.pi)*integrate.trapz(abs_2, t[0:-2])"
   ]
  },
  {
   "cell_type": "code",
   "execution_count": 57,
   "id": "22ed133c",
   "metadata": {},
   "outputs": [
    {
     "data": {
      "text/plain": [
       "[<matplotlib.lines.Line2D at 0x23e323c98e0>]"
      ]
     },
     "execution_count": 57,
     "metadata": {},
     "output_type": "execute_result"
    },
    {
     "data": {
      "image/png": "[encoded data removed]",
      "text/plain": [
       "<Figure size 432x288 with 1 Axes>"
      ]
     },
     "metadata": {
      "needs_background": "light"
     },
     "output_type": "display_data"
    }
   ],
   "source": [
    "plt.plot(t[0:-2],abs_2)"
   ]
  },
  {
   "cell_type": "code",
   "execution_count": 58,
   "id": "7e5edf8b",
   "metadata": {},
   "outputs": [],
   "source": [
    "def hat_function_h(x):        \n",
    "    g = min(c,k/(x**2))\n",
    "    return g\n",
    "def genertator_h(n):\n",
    "    total = 25*n\n",
    "    V_1 = np.random.uniform(-1,1,total)\n",
    "    V_2 = np.random.uniform(-1,1,total)\n",
    "    X = []\n",
    "    for i in range(total):\n",
    "        y = math.sqrt(k/c)*(V_1[i]/V_2[i])\n",
    "        U = np.random.uniform(-1,1)            \n",
    "        if len(X) >=n:\n",
    "            break\n",
    "                \n",
    "        elif U<= (f_h(y)/hat_function_h(y)):\n",
    "            X+=[y]\n",
    "        else:\n",
    "            continue\n",
    "    return X\n",
    "def f_h(x):\n",
    "    intg = []\n",
    "    #因为密度是real的\n",
    "    for i in range(int(len(t))):        \n",
    "        intg += [math.cos(t[i]*x)*real_h[i].detach().numpy() + math.sin(t[i]*x)*image_h[i].detach().numpy()]\n",
    "    y = 1/(2*math.pi)*integrate.trapz(intg, t)\n",
    "    return abs(y)"
   ]
  },
  {
   "cell_type": "code",
   "execution_count": 59,
   "id": "4cce3188",
   "metadata": {},
   "outputs": [
    {
     "data": {
      "text/plain": [
       "824"
      ]
     },
     "execution_count": 59,
     "metadata": {},
     "output_type": "execute_result"
    }
   ],
   "source": [
    "output =genertator_h(500)\n",
    "output_show = []\n",
    "for i in range(len(x)):\n",
    "    if abs(x[i])<7:\n",
    "        output_show+=[x[i]]\n",
    "len(output_show)"
   ]
  },
  {
   "cell_type": "code",
   "execution_count": 60,
   "id": "12508cc6",
   "metadata": {},
   "outputs": [
    {
     "data": {
      "image/png": "[encoded data removed]",
      "text/plain": [
       "<Figure size 360x360 with 1 Axes>"
      ]
     },
     "metadata": {
      "needs_background": "light"
     },
     "output_type": "display_data"
    }
   ],
   "source": [
    "fig = sns.displot(data = output_show,kind = 'hist',kde = \"TRUE\")"
   ]
  },
  {
   "cell_type": "code",
   "execution_count": null,
   "id": "6340ff3a",
   "metadata": {},
   "outputs": [],
   "source": []
  },
  {
   "cell_type": "code",
   "execution_count": null,
   "id": "3103d146",
   "metadata": {},
   "outputs": [],
   "source": []
  }
 ],
 "metadata": {
  "kernelspec": {
   "display_name": "Python 3 (ipykernel)",
   "language": "python",
   "name": "python3"
  },
  "language_info": {
   "codemirror_mode": {
    "name": "ipython",
    "version": 3
   },
   "file_extension": ".py",
   "mimetype": "text/x-python",
   "name": "python",
   "nbconvert_exporter": "python",
   "pygments_lexer": "ipython3",
   "version": "3.9.12"
  }
 },
 "nbformat": 4,
 "nbformat_minor": 5
}
