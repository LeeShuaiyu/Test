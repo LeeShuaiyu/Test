{
 "cells": [
  {
   "cell_type": "code",
   "execution_count": 1,
   "id": "4c99393b",
   "metadata": {},
   "outputs": [],
   "source": [
    "import numpy as np\n",
    "import torch\n",
    "import math\n",
    "import pandas as pd\n",
    "import matplotlib.pyplot as plt\n",
    "import matplotlib.image as mping \n",
    "import cmath\n",
    "from torch import nn\n",
    "import random\n",
    "from torch.utils import data\n",
    "import copy"
   ]
  },
  {
   "cell_type": "code",
   "execution_count": 2,
   "id": "cfa9c592",
   "metadata": {},
   "outputs": [],
   "source": [
    "class generator_t:\n",
    "    def __init__(self,df,mu = 0, sigma = 1,samplesize = 1000, h = 0.01):\n",
    "        self.df = df\n",
    "        self.mu = mu\n",
    "        self.sigma = sigma\n",
    "        self.samplesize = samplesize\n",
    "        self.frequency = h\n",
    "    @staticmethod\n",
    "    def cumulate(delta):\n",
    "        data = torch.zeros(np.shape(delta))\n",
    "        n = np.shape(delta)[0]\n",
    "        for i in range(n-1):\n",
    "            data[i+1] = data[i]+delta[i]\n",
    "        return np.array(data)\n",
    "    \n",
    "    def generate_standard_t(self):\n",
    "        d0 = np.random.standard_t(self.df, (self.samplesize,1))\n",
    "        d1 = self.cumulate(d0)\n",
    "        delta = torch.tensor(d0)\n",
    "        data = torch.tensor(d1)\n",
    "        delta.requires_grad_(True)  # 等价于x=torch.arange(4.0,requires_grad=True)\n",
    "        return delta,data"
   ]
  },
  {
   "cell_type": "code",
   "execution_count": 3,
   "id": "8727c3c1",
   "metadata": {},
   "outputs": [],
   "source": [
    "class Characteristic_function:\n",
    "    def __init__(self,data):\n",
    "        self.data = data   \n",
    "    def ecf(self,t):\n",
    "        n = len(self.data)\n",
    "        if type(t)== int:\n",
    "            C = torch.zeros((n,1))\n",
    "            S = torch.zeros((n,1))\n",
    "            for i in range(n):\n",
    "                C[i] = math.cos(t*self.data[i])\n",
    "                S[i] = math.sin(t*self.data[i])\n",
    "            s = torch.mean(S)\n",
    "            c = torch.mean(C)\n",
    "            return c,s                \n",
    "        else:    \n",
    "            m = len(t)\n",
    "            R = []\n",
    "            for j in range(m):\n",
    "                S = []\n",
    "                C = []\n",
    "                for i in range(n):\n",
    "                    C = C+[math.cos(t[j]*self.data[i])]\n",
    "                    S = S+[math.sin(t[j]*self.data[i])]\n",
    "                #S = torch.tensor(S,dtype = torch.float64)\n",
    "                #C = torch.tensor(C,dtype = torch.float64)\n",
    "                s = sum(S)/len(S)\n",
    "                c = sum(C)/len(C)\n",
    "                R = R+[c]\n",
    "                R = R+[s]\n",
    "            #R = torch.tensor(R,dtype = torch.float64)\n",
    "        return R"
   ]
  },
  {
   "cell_type": "code",
   "execution_count": 111,
   "id": "235aba4d",
   "metadata": {},
   "outputs": [],
   "source": [
    "def net_2(X):\n",
    "    X_clone = X.clone()\n",
    "    X = X.reshape((-1, num_feature))\n",
    "    H1 = relu(X@W1 + b1)  # 这里“@”代表矩阵乘法\n",
    "    H2 = relu(H1@W2 + b2)\n",
    "    V = (H2@W3 + b3)\n",
    "    return V"
   ]
  },
  {
   "cell_type": "code",
   "execution_count": 2,
   "id": "2c557586",
   "metadata": {},
   "outputs": [],
   "source": [
    "class Characteristic_function:\n",
    "    def __init__(self,data):\n",
    "        self.data = data   \n",
    "    def ecf(self,t):\n",
    "        n = len(self.data)\n",
    "        if type(t)== int:\n",
    "            C = torch.zeros((n,1))\n",
    "            S = torch.zeros((n,1))\n",
    "            for i in range(n):\n",
    "                C[i] = math.cos(t*self.data[i])\n",
    "                S[i] = math.sin(t*self.data[i])\n",
    "            s = torch.mean(S)\n",
    "            c = torch.mean(C)\n",
    "            return c,s                \n",
    "        else:    \n",
    "            m = len(t)\n",
    "            R = []\n",
    "            for j in range(m):\n",
    "                S = []\n",
    "                C = []\n",
    "                for i in range(n):\n",
    "                    C.append(math.cos(t[j]*self.data[i]))\n",
    "                    S.append(math.sin(t[j]*self.data[i]))\n",
    "                S = torch.tensor(S,dtype = torch.float64)\n",
    "                C = torch.tensor(C,dtype = torch.float64)\n",
    "                s = float(torch.mean(S))\n",
    "                c = float(torch.mean(C))\n",
    "                R.append(c)\n",
    "                R.append(s)\n",
    "            R = torch.tensor(R,dtype = torch.float64)\n",
    "        return R\n",
    "    def ecf_h(self,t,h):\n",
    "        n = len(self.data)\n",
    "        if type(t)== int:\n",
    "            C = torch.zeros((n,1))\n",
    "            S = torch.zeros((n,1))\n",
    "            for i in range(n):\n",
    "                C[i] = math.cos(t*self.data[i])\n",
    "                S[i] = math.sin(t*self.data[i])\n",
    "            s = torch.mean(S)\n",
    "            c = torch.mean(C)\n",
    "            f = complex(c,s)\n",
    "            q,w = cmath.polar(f)\n",
    "            q = q**h\n",
    "            w = w*h\n",
    "            c = math.cos(w)*q\n",
    "            s = math.sin(w)*q\n",
    "            return c,s                \n",
    "        else:    \n",
    "            m = len(t)\n",
    "            C = torch.zeros((n,1))\n",
    "            S = torch.zeros((n,1))\n",
    "            R = torch.zeros((m,2))\n",
    "            for j in range(m):\n",
    "                for i in range(n):\n",
    "                    C[i] = math.cos(t[j]*self.data[i])\n",
    "                    S[i] = math.sin(t[j]*self.data[i])\n",
    "                s = torch.mean(S)\n",
    "                c = torch.mean(C)\n",
    "                f = complex(c,s)\n",
    "                q,w = cmath.polar(f)\n",
    "                q = q**h\n",
    "                w = w*h\n",
    "                c = math.cos(w)*q\n",
    "                s = math.sin(w)*q\n",
    "                R[j,0] = c\n",
    "                R[j,1] = s\n",
    "        return R\n"
   ]
  },
  {
   "cell_type": "code",
   "execution_count": 51,
   "id": "fd95c13b",
   "metadata": {},
   "outputs": [],
   "source": [
    "num_feature = 200\n",
    "range_feature = 20\n",
    "num_t = 50\n",
    "range_t = 15\n",
    "num_labels = num_t\n",
    "num_sample = 15\n",
    "total = num_sample*num_feature\n",
    "t = torch.linspace(-range_t,range_t,num_t,dtype = torch.float64)\n",
    "#t = t.reshape((-1,len(t)))\n",
    "x = torch.linspace(-range_feature,range_feature,num_feature,dtype = torch.float64)"
   ]
  },
  {
   "cell_type": "code",
   "execution_count": 52,
   "id": "e32025a7",
   "metadata": {},
   "outputs": [],
   "source": [
    "#实例化(V =3)\n",
    "Gen3 = generator_t(3,samplesize =total)\n",
    "\n",
    "delta,path = Gen3.generate_standard_t()\n",
    "Chf = Characteristic_function(delta)"
   ]
  },
  {
   "cell_type": "code",
   "execution_count": 53,
   "id": "3fd70d9b",
   "metadata": {},
   "outputs": [],
   "source": [
    "a = []\n",
    "features = []\n",
    "label = []\n",
    "for i in range(num_sample):\n",
    "    delta,path = Gen3.generate_standard_t()\n",
    "    Chf = Characteristic_function(delta)\n",
    "    labels = Chf.ecf(t)\n",
    "    label+=labels\n",
    "    features+=x\n"
   ]
  },
  {
   "cell_type": "code",
   "execution_count": 102,
   "id": "31daac7d",
   "metadata": {
    "scrolled": true
   },
   "outputs": [
    {
     "data": {
      "text/plain": [
       "[<matplotlib.lines.Line2D at 0x21574f12070>]"
      ]
     },
     "execution_count": 102,
     "metadata": {},
     "output_type": "execute_result"
    },
    {
     "data": {
      "image/png": "[encoded data removed]",
      "text/plain": [
       "<Figure size 432x288 with 1 Axes>"
      ]
     },
     "metadata": {
      "needs_background": "light"
     },
     "output_type": "display_data"
    }
   ],
   "source": [
    "real = real[0:50]\n",
    "plt.plot(t,real)"
   ]
  },
  {
   "cell_type": "code",
   "execution_count": 130,
   "id": "ab34b0e8",
   "metadata": {
    "scrolled": false
   },
   "outputs": [
    {
     "name": "stderr",
     "output_type": "stream",
     "text": [
      "C:\\Users\\Administrator\\AppData\\Local\\Temp\\ipykernel_15928\\2169779723.py:5: UserWarning: To copy construct from a tensor, it is recommended to use sourceTensor.clone().detach() or sourceTensor.clone().detach().requires_grad_(True), rather than torch.tensor(sourceTensor).\n",
      "  return torch.tensor(b,dtype = torch.float64)\n"
     ]
    },
    {
     "data": {
      "text/plain": [
       "[<matplotlib.lines.Line2D at 0x21503de7dc0>]"
      ]
     },
     "execution_count": 130,
     "metadata": {},
     "output_type": "execute_result"
    },
    {
     "data": {
      "image/png": "[encoded data removed]",
      "text/plain": [
       "<Figure size 432x288 with 1 Axes>"
      ]
     },
     "metadata": {
      "needs_background": "light"
     },
     "output_type": "display_data"
    }
   ],
   "source": [
    "predict0 = list(net_1(features[0]))\n",
    "real_h = torch.zeros(int(len(labels[0])/2)+1)\n",
    "image_h = torch.zeros(int(len(labels[0])/2)+1)\n",
    "for i in range(len(labels[0])):\n",
    "    if i%2 ==0:\n",
    "        real_h[int(i/2)] = predict0[0][i]\n",
    "    else:\n",
    "        image_h[int((i+1)/2)] = predict0[0][i]\n",
    "real_h = real_h[0:50]        \n",
    "plt.plot(t,real_h.detach().numpy())"
   ]
  },
  {
   "cell_type": "code",
   "execution_count": 99,
   "id": "97041cb8",
   "metadata": {},
   "outputs": [],
   "source": [
    "\n",
    "labels[0]\n",
    "\n",
    "real = torch.zeros(int(len(labels[0])/2)+1)\n",
    "image = torch.zeros(int(len(labels[0])/2)+1)\n",
    "for i in range(len(labels[0])):\n",
    "    if i%2 ==0:\n",
    "        real[int(i/2)] = labels[0][i]\n",
    "    else:\n",
    "        image[int((i+1)/2)] = labels[0][i]\n",
    "        \n"
   ]
  },
  {
   "cell_type": "code",
   "execution_count": 117,
   "id": "dbb02989",
   "metadata": {},
   "outputs": [
    {
     "name": "stderr",
     "output_type": "stream",
     "text": [
      "C:\\Users\\Administrator\\AppData\\Local\\Temp\\ipykernel_15928\\2169779723.py:5: UserWarning: To copy construct from a tensor, it is recommended to use sourceTensor.clone().detach() or sourceTensor.clone().detach().requires_grad_(True), rather than torch.tensor(sourceTensor).\n",
      "  return torch.tensor(b,dtype = torch.float64)\n"
     ]
    }
   ],
   "source": [
    "predict0 = list(net_1(features[0]))"
   ]
  },
  {
   "cell_type": "code",
   "execution_count": 125,
   "id": "12c1af28",
   "metadata": {},
   "outputs": [
    {
     "data": {
      "text/plain": [
       "[tensor(0.0990, grad_fn=<UnbindBackward0>),\n",
       " tensor(0.1070, grad_fn=<UnbindBackward0>),\n",
       " tensor(0.1011, grad_fn=<UnbindBackward0>),\n",
       " tensor(0.1026, grad_fn=<UnbindBackward0>),\n",
       " tensor(0.1031, grad_fn=<UnbindBackward0>),\n",
       " tensor(0.1008, grad_fn=<UnbindBackward0>),\n",
       " tensor(0.1063, grad_fn=<UnbindBackward0>),\n",
       " tensor(0.1028, grad_fn=<UnbindBackward0>),\n",
       " tensor(0.1063, grad_fn=<UnbindBackward0>),\n",
       " tensor(0.1042, grad_fn=<UnbindBackward0>),\n",
       " tensor(0.1056, grad_fn=<UnbindBackward0>),\n",
       " tensor(0.1112, grad_fn=<UnbindBackward0>),\n",
       " tensor(0.1030, grad_fn=<UnbindBackward0>),\n",
       " tensor(0.1011, grad_fn=<UnbindBackward0>),\n",
       " tensor(0.1053, grad_fn=<UnbindBackward0>),\n",
       " tensor(0.1060, grad_fn=<UnbindBackward0>),\n",
       " tensor(0.1007, grad_fn=<UnbindBackward0>),\n",
       " tensor(0.0975, grad_fn=<UnbindBackward0>),\n",
       " tensor(0.0946, grad_fn=<UnbindBackward0>),\n",
       " tensor(0.0986, grad_fn=<UnbindBackward0>),\n",
       " tensor(0.0951, grad_fn=<UnbindBackward0>),\n",
       " tensor(0.1093, grad_fn=<UnbindBackward0>),\n",
       " tensor(0.1183, grad_fn=<UnbindBackward0>),\n",
       " tensor(0.1483, grad_fn=<UnbindBackward0>),\n",
       " tensor(0.2606, grad_fn=<UnbindBackward0>),\n",
       " tensor(0.2606, grad_fn=<UnbindBackward0>),\n",
       " tensor(0.1483, grad_fn=<UnbindBackward0>),\n",
       " tensor(0.1183, grad_fn=<UnbindBackward0>),\n",
       " tensor(0.1093, grad_fn=<UnbindBackward0>),\n",
       " tensor(0.0951, grad_fn=<UnbindBackward0>),\n",
       " tensor(0.0986, grad_fn=<UnbindBackward0>),\n",
       " tensor(0.0946, grad_fn=<UnbindBackward0>),\n",
       " tensor(0.0975, grad_fn=<UnbindBackward0>),\n",
       " tensor(0.1007, grad_fn=<UnbindBackward0>),\n",
       " tensor(0.1060, grad_fn=<UnbindBackward0>),\n",
       " tensor(0.1053, grad_fn=<UnbindBackward0>),\n",
       " tensor(0.1011, grad_fn=<UnbindBackward0>),\n",
       " tensor(0.1030, grad_fn=<UnbindBackward0>),\n",
       " tensor(0.1112, grad_fn=<UnbindBackward0>),\n",
       " tensor(0.1056, grad_fn=<UnbindBackward0>),\n",
       " tensor(0.1042, grad_fn=<UnbindBackward0>),\n",
       " tensor(0.1063, grad_fn=<UnbindBackward0>),\n",
       " tensor(0.1028, grad_fn=<UnbindBackward0>),\n",
       " tensor(0.1063, grad_fn=<UnbindBackward0>),\n",
       " tensor(0.1008, grad_fn=<UnbindBackward0>),\n",
       " tensor(0.1031, grad_fn=<UnbindBackward0>),\n",
       " tensor(0.1026, grad_fn=<UnbindBackward0>),\n",
       " tensor(0.1011, grad_fn=<UnbindBackward0>),\n",
       " tensor(0.1070, grad_fn=<UnbindBackward0>),\n",
       " tensor(0.0990, grad_fn=<UnbindBackward0>)]"
      ]
     },
     "execution_count": 125,
     "metadata": {},
     "output_type": "execute_result"
    }
   ],
   "source": [
    "(list(real_h))"
   ]
  },
  {
   "cell_type": "code",
   "execution_count": 121,
   "id": "b8640812",
   "metadata": {},
   "outputs": [
    {
     "name": "stderr",
     "output_type": "stream",
     "text": [
      "C:\\Users\\Administrator\\AppData\\Local\\Temp\\ipykernel_15928\\4150703597.py:2: UserWarning: To copy construct from a tensor, it is recommended to use sourceTensor.clone().detach() or sourceTensor.clone().detach().requires_grad_(True), rather than torch.tensor(sourceTensor).\n",
      "  features = torch.tensor(features,dtype = torch.float64).reshape((-1,num_feature))\n"
     ]
    },
    {
     "data": {
      "text/plain": [
       "tensor([[-20.0000, -19.7990, -19.5980,  ...,  19.5980,  19.7990,  20.0000],\n",
       "        [-20.0000, -19.7990, -19.5980,  ...,  19.5980,  19.7990,  20.0000],\n",
       "        [-20.0000, -19.7990, -19.5980,  ...,  19.5980,  19.7990,  20.0000],\n",
       "        ...,\n",
       "        [-20.0000, -19.7990, -19.5980,  ...,  19.5980,  19.7990,  20.0000],\n",
       "        [-20.0000, -19.7990, -19.5980,  ...,  19.5980,  19.7990,  20.0000],\n",
       "        [-20.0000, -19.7990, -19.5980,  ...,  19.5980,  19.7990,  20.0000]],\n",
       "       dtype=torch.float64)"
      ]
     },
     "execution_count": 121,
     "metadata": {},
     "output_type": "execute_result"
    }
   ],
   "source": [
    "labels = torch.tensor(label,dtype = torch.float64).reshape((-1,2*num_labels))\n",
    "features = torch.tensor(features,dtype = torch.float64).reshape((-1,num_feature))\n",
    "features"
   ]
  },
  {
   "cell_type": "markdown",
   "id": "bc7d35f6",
   "metadata": {},
   "source": [
    "for i in range(num_sample):\n",
    "    delta,path = Gen3.generate_standard_t()\n",
    "    Chf = Characteristic_function(delta)\n",
    "    labels = Chf.ecf(t)#.reshape((1,-1))\n",
    "    a.append([x.reshape((-1,len(x))),labels])\n",
    "    features.append(x.reshape((-1,len(x))))\n",
    "    label.append(labels)"
   ]
  },
  {
   "cell_type": "code",
   "execution_count": 55,
   "id": "88b9aee0",
   "metadata": {},
   "outputs": [
    {
     "data": {
      "text/plain": [
       "tensor([[-20.0000, -19.7990, -19.5980,  ...,  19.5980,  19.7990,  20.0000],\n",
       "        [-20.0000, -19.7990, -19.5980,  ...,  19.5980,  19.7990,  20.0000],\n",
       "        [-20.0000, -19.7990, -19.5980,  ...,  19.5980,  19.7990,  20.0000],\n",
       "        ...,\n",
       "        [-20.0000, -19.7990, -19.5980,  ...,  19.5980,  19.7990,  20.0000],\n",
       "        [-20.0000, -19.7990, -19.5980,  ...,  19.5980,  19.7990,  20.0000],\n",
       "        [-20.0000, -19.7990, -19.5980,  ...,  19.5980,  19.7990,  20.0000]],\n",
       "       dtype=torch.float64)"
      ]
     },
     "execution_count": 55,
     "metadata": {},
     "output_type": "execute_result"
    }
   ],
   "source": [
    "features"
   ]
  },
  {
   "cell_type": "code",
   "execution_count": 56,
   "id": "0c6c4a74",
   "metadata": {},
   "outputs": [],
   "source": [
    "def load_array(data_arrays, batch_size, is_train=True):  #@save\n",
    "    \"\"\"构造一个PyTorch数据迭代器\"\"\"\n",
    "    dataset = data.TensorDataset(*data_arrays)\n",
    "    return data.DataLoader(dataset, batch_size, shuffle=is_train)\n",
    "batch_size = 1\n",
    "D_loader = load_array((features,labels), batch_size)"
   ]
  },
  {
   "cell_type": "code",
   "execution_count": 57,
   "id": "756e1295",
   "metadata": {},
   "outputs": [
    {
     "data": {
      "text/plain": [
       "[tensor([[-20.0000, -19.7990, -19.5980, -19.3970, -19.1960, -18.9950, -18.7940,\n",
       "          -18.5930, -18.3920, -18.1910, -17.9899, -17.7889, -17.5879, -17.3869,\n",
       "          -17.1859, -16.9849, -16.7839, -16.5829, -16.3819, -16.1809, -15.9799,\n",
       "          -15.7789, -15.5779, -15.3769, -15.1759, -14.9749, -14.7739, -14.5729,\n",
       "          -14.3719, -14.1709, -13.9698, -13.7688, -13.5678, -13.3668, -13.1658,\n",
       "          -12.9648, -12.7638, -12.5628, -12.3618, -12.1608, -11.9598, -11.7588,\n",
       "          -11.5578, -11.3568, -11.1558, -10.9548, -10.7538, -10.5528, -10.3518,\n",
       "          -10.1508,  -9.9497,  -9.7487,  -9.5477,  -9.3467,  -9.1457,  -8.9447,\n",
       "           -8.7437,  -8.5427,  -8.3417,  -8.1407,  -7.9397,  -7.7387,  -7.5377,\n",
       "           -7.3367,  -7.1357,  -6.9347,  -6.7337,  -6.5327,  -6.3317,  -6.1307,\n",
       "           -5.9296,  -5.7286,  -5.5276,  -5.3266,  -5.1256,  -4.9246,  -4.7236,\n",
       "           -4.5226,  -4.3216,  -4.1206,  -3.9196,  -3.7186,  -3.5176,  -3.3166,\n",
       "           -3.1156,  -2.9146,  -2.7136,  -2.5126,  -2.3116,  -2.1106,  -1.9095,\n",
       "           -1.7085,  -1.5075,  -1.3065,  -1.1055,  -0.9045,  -0.7035,  -0.5025,\n",
       "           -0.3015,  -0.1005,   0.1005,   0.3015,   0.5025,   0.7035,   0.9045,\n",
       "            1.1055,   1.3065,   1.5075,   1.7085,   1.9095,   2.1106,   2.3116,\n",
       "            2.5126,   2.7136,   2.9146,   3.1156,   3.3166,   3.5176,   3.7186,\n",
       "            3.9196,   4.1206,   4.3216,   4.5226,   4.7236,   4.9246,   5.1256,\n",
       "            5.3266,   5.5276,   5.7286,   5.9296,   6.1307,   6.3317,   6.5327,\n",
       "            6.7337,   6.9347,   7.1357,   7.3367,   7.5377,   7.7387,   7.9397,\n",
       "            8.1407,   8.3417,   8.5427,   8.7437,   8.9447,   9.1457,   9.3467,\n",
       "            9.5477,   9.7487,   9.9497,  10.1508,  10.3518,  10.5528,  10.7538,\n",
       "           10.9548,  11.1558,  11.3568,  11.5578,  11.7588,  11.9598,  12.1608,\n",
       "           12.3618,  12.5628,  12.7638,  12.9648,  13.1658,  13.3668,  13.5678,\n",
       "           13.7688,  13.9698,  14.1709,  14.3719,  14.5729,  14.7739,  14.9749,\n",
       "           15.1759,  15.3769,  15.5779,  15.7789,  15.9799,  16.1809,  16.3819,\n",
       "           16.5829,  16.7839,  16.9849,  17.1859,  17.3869,  17.5879,  17.7889,\n",
       "           17.9899,  18.1910,  18.3920,  18.5930,  18.7940,  18.9950,  19.1960,\n",
       "           19.3970,  19.5980,  19.7990,  20.0000]], dtype=torch.float64),\n",
       " tensor([[-4.6551e-03, -1.4609e-02, -9.6919e-03,  1.2347e-03, -2.1540e-02,\n",
       "          -4.2955e-03, -2.1310e-02, -4.9828e-03, -5.8174e-03, -3.3913e-03,\n",
       "          -3.4032e-03,  3.5050e-03,  1.1251e-02,  4.1719e-03,  6.0863e-03,\n",
       "           1.3086e-02, -9.1963e-03,  4.2989e-03, -3.4959e-03,  3.6993e-03,\n",
       "           1.5929e-02, -1.2519e-03,  1.2672e-02,  2.6720e-03,  1.1930e-02,\n",
       "           3.3560e-03,  5.7827e-03,  1.7535e-02,  1.2530e-02,  2.3206e-02,\n",
       "           1.5272e-02,  1.7027e-02,  2.2671e-02,  7.9987e-03,  1.7312e-02,\n",
       "          -8.0947e-03,  1.9458e-02, -1.2112e-02,  4.0022e-02, -8.4483e-03,\n",
       "           7.6507e-02, -4.7237e-03,  1.2282e-01,  1.9571e-04,  2.4460e-01,\n",
       "           1.1650e-02,  5.1528e-01,  2.1513e-02,  8.9746e-01,  4.6728e-03,\n",
       "           8.9746e-01, -4.6728e-03,  5.1528e-01, -2.1513e-02,  2.4460e-01,\n",
       "          -1.1650e-02,  1.2282e-01, -1.9571e-04,  7.6507e-02,  4.7237e-03,\n",
       "           4.0022e-02,  8.4483e-03,  1.9458e-02,  1.2112e-02,  1.7312e-02,\n",
       "           8.0947e-03,  2.2671e-02, -7.9987e-03,  1.5272e-02, -1.7027e-02,\n",
       "           1.2530e-02, -2.3206e-02,  5.7827e-03, -1.7535e-02,  1.1930e-02,\n",
       "          -3.3560e-03,  1.2672e-02, -2.6720e-03,  1.5929e-02,  1.2519e-03,\n",
       "          -3.4959e-03, -3.6993e-03, -9.1963e-03, -4.2989e-03,  6.0863e-03,\n",
       "          -1.3086e-02,  1.1251e-02, -4.1719e-03, -3.4032e-03, -3.5050e-03,\n",
       "          -5.8174e-03,  3.3913e-03, -2.1310e-02,  4.9828e-03, -2.1540e-02,\n",
       "           4.2955e-03, -9.6919e-03, -1.2347e-03, -4.6551e-03,  1.4609e-02]],\n",
       "        dtype=torch.float64)]"
      ]
     },
     "execution_count": 57,
     "metadata": {},
     "output_type": "execute_result"
    }
   ],
   "source": [
    "next(iter(D_loader)) "
   ]
  },
  {
   "cell_type": "code",
   "execution_count": 58,
   "id": "af73691d",
   "metadata": {},
   "outputs": [],
   "source": [
    "# 初始化参数定义\n",
    "\n",
    "\n",
    "hidden_2, hidden_3 = 256, 256\n",
    "\n",
    "W1 = nn.Parameter(torch.randn(\n",
    "    num_feature, hidden_2, requires_grad=True,dtype = torch.float64) * 0.01)\n",
    "b1 = nn.Parameter(torch.zeros(hidden_2, requires_grad=True,dtype = torch.float64))\n",
    "\n",
    "W2 = nn.Parameter(torch.randn(\n",
    "    hidden_2, hidden_3, requires_grad=True,dtype = torch.float64) * 0.01)\n",
    "b2 = nn.Parameter(torch.zeros(hidden_3, requires_grad=True,dtype = torch.float64))\n",
    "\n",
    "W3 = nn.Parameter(torch.randn(\n",
    "    hidden_3, num_feature, requires_grad=True,dtype = torch.float64) * 0.01)\n",
    "b3 = nn.Parameter(torch.zeros(num_feature, requires_grad=True,dtype = torch.float64))\n",
    "\n",
    "\n",
    "params = [W1, b1, W2, b2, W3, b3]"
   ]
  },
  {
   "cell_type": "code",
   "execution_count": 59,
   "id": "2439fb0d",
   "metadata": {},
   "outputs": [],
   "source": [
    "#激活函数\n",
    "def relu(X):\n",
    "    a = torch.zeros_like(X)\n",
    "    b = torch.max(X, a)\n",
    "    return torch.tensor(b,dtype = torch.float64)"
   ]
  },
  {
   "cell_type": "code",
   "execution_count": 60,
   "id": "546f4cc2",
   "metadata": {},
   "outputs": [
    {
     "data": {
      "text/plain": [
       "tensor([[-20.0000, -19.7990, -19.5980,  ...,  19.5980,  19.7990,  20.0000],\n",
       "        [-20.0000, -19.7990, -19.5980,  ...,  19.5980,  19.7990,  20.0000],\n",
       "        [-20.0000, -19.7990, -19.5980,  ...,  19.5980,  19.7990,  20.0000],\n",
       "        ...,\n",
       "        [-20.0000, -19.7990, -19.5980,  ...,  19.5980,  19.7990,  20.0000],\n",
       "        [-20.0000, -19.7990, -19.5980,  ...,  19.5980,  19.7990,  20.0000],\n",
       "        [-20.0000, -19.7990, -19.5980,  ...,  19.5980,  19.7990,  20.0000]],\n",
       "       dtype=torch.float64)"
      ]
     },
     "execution_count": 60,
     "metadata": {},
     "output_type": "execute_result"
    }
   ],
   "source": [
    "features.reshape((-1, num_feature))"
   ]
  },
  {
   "cell_type": "code",
   "execution_count": 61,
   "id": "884b43a3",
   "metadata": {},
   "outputs": [],
   "source": [
    "def expcostx(x,V):\n",
    "    a = t.reshape((-1,1))@x.reshape((1,-1))\n",
    "    b = (torch.cos(a)-1)@V.reshape((-1,1))\n",
    "    c = torch.exp((range_feature*2/num_feature)*b)\n",
    "    return c\n",
    "def I(x):\n",
    "    y = copy.deepcopy(x)\n",
    "    y[abs(x)>1]=0\n",
    "    return y\n",
    "    \n",
    "def realtx(x,V):\n",
    "    a1 = torch.sin(t.reshape((-1,1))@x.reshape((1,-1))) \n",
    "    a2 = t.reshape((-1,1))@I(x).reshape((1,-1))\n",
    "    a3 = a1+a2\n",
    "    a4 = a3@V.reshape((-1,1))\n",
    "    a5 = (range_feature*2/num_feature)*a4\n",
    "    a6 = torch.cos(a5)\n",
    "    return a6\n",
    "def imagetx(x,V):\n",
    "    a1 = torch.sin(t.reshape((-1,1))@x.reshape((1,-1))) \n",
    "    a2 = t.reshape((-1,1))@I(x).reshape((1,-1))\n",
    "    a3 = a1+a2\n",
    "    a4 = a3@V.reshape((-1,1))\n",
    "    a5 = (range_feature*2/num_feature)*a4\n",
    "    a6 = torch.sin(a5)\n",
    "    return a6"
   ]
  },
  {
   "cell_type": "code",
   "execution_count": 62,
   "id": "91a39df0",
   "metadata": {},
   "outputs": [],
   "source": [
    "def net_1(X):\n",
    "    X_clone = X.clone()\n",
    "    X = X.reshape((-1, num_feature))\n",
    "    H1 = relu(X@W1 + b1)  # 这里“@”代表矩阵乘法\n",
    "    H2 = relu(H1@W2 + b2)\n",
    "    V = (H2@W3 + b3)\n",
    "    R_1 = expcostx(X,V)*realtx(x,V)\n",
    "    R_2 = expcostx(X,V)*imagetx(x,V)\n",
    "    R = torch.cat((R_1,R_2),1).reshape((1,-1))\n",
    "    return R\n"
   ]
  },
  {
   "cell_type": "code",
   "execution_count": 63,
   "id": "79273d53",
   "metadata": {},
   "outputs": [
    {
     "name": "stderr",
     "output_type": "stream",
     "text": [
      "C:\\Users\\Administrator\\AppData\\Local\\Temp\\ipykernel_15928\\2169779723.py:5: UserWarning: To copy construct from a tensor, it is recommended to use sourceTensor.clone().detach() or sourceTensor.clone().detach().requires_grad_(True), rather than torch.tensor(sourceTensor).\n",
      "  return torch.tensor(b,dtype = torch.float64)\n"
     ]
    }
   ],
   "source": [
    "H0 =  features[0].reshape((-1, num_feature))\n",
    "H1 = relu(H0@W1 + b1)\n",
    "H2 = relu(H1@W2 + b2)\n",
    "V = (H2@W3 + b3)\n",
    "a = t.reshape((-1,1))@features[0].reshape((-1,num_feature))\n"
   ]
  },
  {
   "cell_type": "code",
   "execution_count": 64,
   "id": "a3225f0a",
   "metadata": {},
   "outputs": [],
   "source": [
    "loss = nn.MSELoss()"
   ]
  },
  {
   "cell_type": "code",
   "execution_count": 65,
   "id": "e00f4b98",
   "metadata": {},
   "outputs": [
    {
     "name": "stderr",
     "output_type": "stream",
     "text": [
      "C:\\Users\\Administrator\\AppData\\Local\\Temp\\ipykernel_15928\\2169779723.py:5: UserWarning: To copy construct from a tensor, it is recommended to use sourceTensor.clone().detach() or sourceTensor.clone().detach().requires_grad_(True), rather than torch.tensor(sourceTensor).\n",
      "  return torch.tensor(b,dtype = torch.float64)\n",
      "E:\\Anaconda\\lib\\site-packages\\torch\\nn\\modules\\loss.py:530: UserWarning: Using a target size (torch.Size([100])) that is different to the input size (torch.Size([1, 100])). This will likely lead to incorrect results due to broadcasting. Please ensure they have the same size.\n",
      "  return F.mse_loss(input, target, reduction=self.reduction)\n"
     ]
    },
    {
     "data": {
      "text/plain": [
       "tensor(0.4993, dtype=torch.float64, grad_fn=<MseLossBackward0>)"
      ]
     },
     "execution_count": 65,
     "metadata": {},
     "output_type": "execute_result"
    }
   ],
   "source": [
    "loss(net_1(features[0]),labels[0])"
   ]
  },
  {
   "cell_type": "code",
   "execution_count": 66,
   "id": "3822ba64",
   "metadata": {},
   "outputs": [],
   "source": [
    "def sgd(params, lr, batch_size):  #@save\n",
    "    \"\"\"小批量随机梯度下降\"\"\"\n",
    "    with torch.no_grad():\n",
    "        for param in params:\n",
    "            param -= lr * param.grad / batch_size\n",
    "            param.grad.zero_()"
   ]
  },
  {
   "cell_type": "code",
   "execution_count": 71,
   "id": "ac85cd57",
   "metadata": {},
   "outputs": [],
   "source": [
    "lr = 0.03\n",
    "num_epochs = int(num_sample/batch_size)\n",
    "net = net_1\n",
    "loss = nn.MSELoss()\n",
    "\n",
    "trainer = torch.optim.SGD(params, lr=0.03)"
   ]
  },
  {
   "cell_type": "code",
   "execution_count": 72,
   "id": "aee14139",
   "metadata": {},
   "outputs": [
    {
     "name": "stdout",
     "output_type": "stream",
     "text": [
      "epoch 1, loss 0.020536\n",
      "epoch 2, loss 0.018947\n",
      "epoch 3, loss 0.019356\n",
      "epoch 4, loss 0.019778\n",
      "epoch 5, loss 0.018816\n",
      "epoch 6, loss 0.019331\n",
      "epoch 7, loss 0.018351\n",
      "epoch 8, loss 0.018717\n",
      "epoch 9, loss 0.018954\n",
      "epoch 10, loss 0.017492\n",
      "epoch 11, loss 0.017303\n",
      "epoch 12, loss 0.017390\n",
      "epoch 13, loss 0.017122\n",
      "epoch 14, loss 0.015595\n",
      "epoch 15, loss 0.014857\n"
     ]
    },
    {
     "name": "stderr",
     "output_type": "stream",
     "text": [
      "C:\\Users\\Administrator\\AppData\\Local\\Temp\\ipykernel_15928\\2169779723.py:5: UserWarning: To copy construct from a tensor, it is recommended to use sourceTensor.clone().detach() or sourceTensor.clone().detach().requires_grad_(True), rather than torch.tensor(sourceTensor).\n",
      "  return torch.tensor(b,dtype = torch.float64)\n"
     ]
    }
   ],
   "source": [
    "for epoch in range(num_epochs):\n",
    "    for X, y in D_loader:\n",
    "        l = loss(net_1(X) ,y)\n",
    "        trainer.zero_grad()\n",
    "        l.backward()\n",
    "        trainer.step()\n",
    "    l = loss(net(X), y)\n",
    "    print(f'epoch {epoch + 1}, loss {l:f}')"
   ]
  },
  {
   "cell_type": "code",
   "execution_count": 106,
   "id": "c04597b0",
   "metadata": {},
   "outputs": [
    {
     "data": {
      "text/plain": [
       "tensor([1, 2, 3, 4, 1, 2, 3, 4])"
      ]
     },
     "execution_count": 106,
     "metadata": {},
     "output_type": "execute_result"
    }
   ],
   "source": [
    "t1 = [1,2]\n",
    "\n",
    "t2 = [3,4]\n",
    "t3 = t1+t2+t1+t2\n",
    "\n",
    "torch.tensor(t3).reshape((2,-1))[0][3]\n"
   ]
  },
  {
   "cell_type": "code",
   "execution_count": null,
   "id": "055fa319",
   "metadata": {},
   "outputs": [],
   "source": []
  }
 ],
 "metadata": {
  "kernelspec": {
   "display_name": "Python 3 (ipykernel)",
   "language": "python",
   "name": "python3"
  },
  "language_info": {
   "codemirror_mode": {
    "name": "ipython",
    "version": 3
   },
   "file_extension": ".py",
   "mimetype": "text/x-python",
   "name": "python",
   "nbconvert_exporter": "python",
   "pygments_lexer": "ipython3",
   "version": "3.9.12"
  }
 },
 "nbformat": 4,
 "nbformat_minor": 5
}
