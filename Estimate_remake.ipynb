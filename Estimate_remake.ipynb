{
 "cells": [
  {
   "cell_type": "code",
   "execution_count": 2,
   "id": "2b6c7e02",
   "metadata": {},
   "outputs": [],
   "source": [
    "#载入所需package\n",
    "import numpy as np\n",
    "import torch\n",
    "import math\n",
    "import pandas as pd\n",
    "import matplotlib.pyplot as plt\n",
    "import matplotlib.image as mping \n",
    "import cmath\n",
    "from torch import nn\n",
    "import random\n",
    "from torch.utils import data\n",
    "import copy\n",
    "from scipy.special import kv\n",
    "from scipy import integrate\n",
    "import seaborn as sns\n",
    "import matplotlib as mpl"
   ]
  },
  {
   "cell_type": "markdown",
   "id": "11d06e06",
   "metadata": {},
   "source": [
    "## 生成数据"
   ]
  },
  {
   "cell_type": "code",
   "execution_count": 3,
   "id": "4ef1396f",
   "metadata": {},
   "outputs": [],
   "source": [
    "#标准 generator\n",
    "class generator_t:\n",
    "    def __init__(self,df,mu = 0, sigma = 1,samplesize = 1000, h = 0.01):\n",
    "        self.df = df\n",
    "        self.mu = mu\n",
    "        self.sigma = sigma\n",
    "        self.samplesize = samplesize\n",
    "        self.frequency = h\n",
    "    @staticmethod\n",
    "    def cumulate(delta):\n",
    "        data = torch.zeros(np.shape(delta))\n",
    "        n = np.shape(delta)[0]\n",
    "        for i in range(n-1):\n",
    "            data[i+1] = data[i]+delta[i]\n",
    "        return np.array(data)\n",
    "    \n",
    "    def generate_standard_t(self):\n",
    "        d0 = np.random.standard_t(self.df, (self.samplesize,1))\n",
    "        d1 = self.cumulate(d0)\n",
    "        delta = torch.tensor(d0)\n",
    "        data = torch.tensor(d1)\n",
    "        delta.requires_grad_(True)  # 等价于x=torch.arange(4.0,requires_grad=True)\n",
    "        return delta,data"
   ]
  },
  {
   "cell_type": "code",
   "execution_count": 42,
   "id": "98b6b82a",
   "metadata": {},
   "outputs": [],
   "source": [
    "gen = generator_t(3)\n",
    "x,x_cumulate = gen.generate_standard_t()"
   ]
  },
  {
   "cell_type": "markdown",
   "id": "f43a17be",
   "metadata": {},
   "source": [
    "## Step1 Cauchy Quasilikelihood"
   ]
  },
  {
   "cell_type": "code",
   "execution_count": 45,
   "id": "2aa11c79",
   "metadata": {},
   "outputs": [],
   "source": [
    "class Cauchy_Quasi():\n",
    "    def __init__(self,X,df,mu = 0, sigma = 1,samplesize = 1000, h = 0.01):\n",
    "        self.X = X\n",
    "        self.df = df\n",
    "        self.mu = mu\n",
    "        self.sigma = sigma\n",
    "        self.samplesize = samplesize\n",
    "        self.h = h\n",
    "    def phi_1(self,y):\n",
    "        r = 1/(math.pi*(1+y**2))\n",
    "        return r\n",
    "    def Cau_likeli(self,mu,gamma):\n",
    "        X = torch.tensor(self.X)\n",
    "        H = torch.log(1/(self.h*gamma)*self.phi_1((x-self.h*mu)/(self.h*gamma)))\n",
    "        return H.sum()\n",
    "        \n",
    "        \n",
    "        \n",
    "    "
   ]
  },
  {
   "cell_type": "code",
   "execution_count": 46,
   "id": "7e5339af",
   "metadata": {},
   "outputs": [
    {
     "data": {
      "text/plain": [
       "0.06366197723675814"
      ]
     },
     "execution_count": 46,
     "metadata": {},
     "output_type": "execute_result"
    }
   ],
   "source": [
    "X = torch.tensor([1,2,3,4])\n",
    "CQ = Cauchy_Quasi(X,3)\n",
    "CQ.phi_1(2)"
   ]
  },
  {
   "cell_type": "code",
   "execution_count": 33,
   "id": "9805ec6a",
   "metadata": {},
   "outputs": [],
   "source": [
    "def phi_1(y):    \n",
    "    r = 1/(math.pi*(1+y**2))\n",
    "    return r\n",
    "def CL(m,g):\n",
    "    h=0.01\n",
    "    H = torch.log(1/(h*g)*phi_1((X-h*m)/(h*g)))\n",
    "    return H.sum()"
   ]
  },
  {
   "cell_type": "code",
   "execution_count": 26,
   "id": "aed70c55",
   "metadata": {},
   "outputs": [
    {
     "data": {
      "text/plain": [
       "tensor(-26.4998)"
      ]
     },
     "execution_count": 26,
     "metadata": {},
     "output_type": "execute_result"
    }
   ],
   "source": [
    "CL(2,2)"
   ]
  },
  {
   "cell_type": "code",
   "execution_count": null,
   "id": "08fced7f",
   "metadata": {},
   "outputs": [],
   "source": []
  }
 ],
 "metadata": {
  "kernelspec": {
   "display_name": "Python 3 (ipykernel)",
   "language": "python",
   "name": "python3"
  },
  "language_info": {
   "codemirror_mode": {
    "name": "ipython",
    "version": 3
   },
   "file_extension": ".py",
   "mimetype": "text/x-python",
   "name": "python",
   "nbconvert_exporter": "python",
   "pygments_lexer": "ipython3",
   "version": "3.9.12"
  }
 },
 "nbformat": 4,
 "nbformat_minor": 5
}
