{
 "cells": [
  {
   "cell_type": "code",
   "execution_count": 43,
   "id": "35142396",
   "metadata": {},
   "outputs": [],
   "source": [
    "#载入所需package\n",
    "import numpy as np\n",
    "import torch\n",
    "import math\n",
    "import pandas as pd\n",
    "import matplotlib.pyplot as plt\n",
    "import matplotlib.image as mping \n",
    "import cmath\n",
    "from torch import nn\n",
    "import random\n",
    "from torch.utils import data\n",
    "import copy\n",
    "from scipy.special import kv\n",
    "from scipy import integrate"
   ]
  },
  {
   "cell_type": "code",
   "execution_count": 2,
   "id": "4762931b",
   "metadata": {},
   "outputs": [],
   "source": [
    "#标准 generator\n",
    "class generator_t:\n",
    "    def __init__(self,df,mu = 0, sigma = 1,samplesize = 1000, h = 0.01):\n",
    "        self.df = df\n",
    "        self.mu = mu\n",
    "        self.sigma = sigma\n",
    "        self.samplesize = samplesize\n",
    "        self.frequency = h\n",
    "    @staticmethod\n",
    "    def cumulate(delta):\n",
    "        data = torch.zeros(np.shape(delta))\n",
    "        n = np.shape(delta)[0]\n",
    "        for i in range(n-1):\n",
    "            data[i+1] = data[i]+delta[i]\n",
    "        return np.array(data)\n",
    "    \n",
    "    def generate_standard_t(self):\n",
    "        d0 = np.random.standard_t(self.df, (self.samplesize,1))\n",
    "        d1 = self.cumulate(d0)\n",
    "        delta = torch.tensor(d0)\n",
    "        data = torch.tensor(d1)\n",
    "        delta.requires_grad_(True)  # 等价于x=torch.arange(4.0,requires_grad=True)\n",
    "        return delta,data"
   ]
  },
  {
   "cell_type": "code",
   "execution_count": 7,
   "id": "1c2499e3",
   "metadata": {},
   "outputs": [],
   "source": [
    "class Characteristic_function:\n",
    "    def __init__(self,data):\n",
    "        self.data = data   \n",
    "    def ecf(self,t):\n",
    "        n = len(self.data)\n",
    "        if type(t)== int:\n",
    "            C = torch.zeros((n,1))\n",
    "            S = torch.zeros((n,1))\n",
    "            for i in range(n):\n",
    "                C[i] = math.cos(t*self.data[i])\n",
    "                S[i] = math.sin(t*self.data[i])\n",
    "            s = torch.mean(S)\n",
    "            c = torch.mean(C)\n",
    "            return c,s                \n",
    "        else:    \n",
    "            m = len(t)\n",
    "            R = []\n",
    "            for j in range(m):\n",
    "                S = []\n",
    "                C = []\n",
    "                for i in range(n):\n",
    "                    C = C+[math.cos(t[j]*self.data[i])]\n",
    "                    S = S+[math.sin(t[j]*self.data[i])]\n",
    "                #S = torch.tensor(S,dtype = torch.float64)\n",
    "                #C = torch.tensor(C,dtype = torch.float64)\n",
    "                s = sum(S)/len(S)\n",
    "                c = sum(C)/len(C)\n",
    "                R = R+[c]\n",
    "                R = R+[s]\n",
    "            #R = torch.tensor(R,dtype = torch.float64)\n",
    "        return R\n",
    "    def ecf_h(self,t):\n",
    "        n = len(self.data)\n",
    "        if type(t)== int:\n",
    "            C = torch.zeros((n,1))\n",
    "            S = torch.zeros((n,1))\n",
    "            for i in range(n):\n",
    "                C[i] = math.cos(t*self.data[i])\n",
    "                S[i] = math.sin(t*self.data[i])\n",
    "            s = torch.mean(S)\n",
    "            c = torch.mean(C)\n",
    "            return c,s                \n",
    "        else:    \n",
    "            m = len(t)\n",
    "            R = []\n",
    "            for j in range(m):\n",
    "                S = []\n",
    "                C = []\n",
    "                for i in range(n):\n",
    "                    C = C+[math.cos(t[j]*self.data[i])]\n",
    "                    S = S+[math.sin(t[j]*self.data[i])]\n",
    "                #S = torch.tensor(S,dtype = torch.float64)\n",
    "                #C = torch.tensor(C,dtype = torch.float64)\n",
    "                s = sum(S)/len(S)\n",
    "                c = sum(C)/len(C)\n",
    "                r = (math.sqrt(s**2+c**2))**h\n",
    "                theta = math.atan(s/c)*h\n",
    "                c_h = r*math.cos(theta)\n",
    "                s_h = r*math.sin(theta)\n",
    "                R = R+[c_h]\n",
    "                R = R+[s_h]\n",
    "            #R = torch.tensor(R,dtype = torch.float64)\n",
    "        return R\n",
    "    "
   ]
  },
  {
   "cell_type": "code",
   "execution_count": 56,
   "id": "a135a20a",
   "metadata": {},
   "outputs": [],
   "source": [
    "class rejection_method:    \n",
    "    def __init__(self,h,n,v,mu = 0,sigma = 1):        \n",
    "        self.h = h\n",
    "        self.v = v\n",
    "        self.mu = mu\n",
    "        self.sigma = sigma\n",
    "        self.n = n\n",
    "    def phi_1(self,t):\n",
    "        phi_real = math.cos(t*self.mu)*((math.sqrt(self.v)*self.sigma*abs(t))**(self.v/2))/(2**(self.v/2-1)*math.gamma(self.v/2))*kv(self.v/2,math.sqrt(self.v)*self.sigma*abs(t))\n",
    "        phi_imag = math.sin(t*self.mu)*((math.sqrt(self.v)*self.sigma*abs(t))**(self.v/2))/(2**(self.v/2-1)*math.gamma(self.v/2))*kv(self.v/2,math.sqrt(self.v)*self.sigma*abs(t))\n",
    "        phi_abs = math.sqrt(phi_real**2+phi_imag**2)\n",
    "        return phi_real, phi_imag, phi_abs\n",
    "    def phi_abs0(self,t):\n",
    "        return self.phi_1(t)[2]\n",
    "    def integ(domain = 100):\n",
    "        \n",
    "    def phi_prime(self,t,delt = 0.01):\n",
    "        d_1 = (self.phi_1(t)[0]-self.phi_1(t+delt)[0])/delt\n",
    "        d_2 = (self.phi_1(t)[1]-self.phi_1(t+delt)[1])/delt\n",
    "        d_abs = math.sqrt(d_1**2+d_2**2)\n",
    "        return d_1,d_2\n",
    "    def phi_prime_prime(self,t,delt = 0.01):\n",
    "        d_1 = (self.phi_prime(t)[0]-self.phi_prime(t+delt)[0])/delt\n",
    "        d_2 = (self.phi_prime(t)[1]-self.phi_prime(t+delt)[1])/delt\n",
    "        d_abs = math.sqrt(d_1**2+d_2**2)\n",
    "        return d_1,d_2,d_abs    \n",
    "#    def compute_k(lim = 100):\n",
    "        \n",
    "        \n",
    "        "
   ]
  },
  {
   "cell_type": "code",
   "execution_count": 85,
   "id": "e8479823",
   "metadata": {},
   "outputs": [
    {
     "data": {
      "text/plain": [
       "[<matplotlib.lines.Line2D at 0x7fd932a4b1f0>]"
      ]
     },
     "execution_count": 85,
     "metadata": {},
     "output_type": "execute_result"
    },
    {
     "data": {
      "image/png": "[encoded data removed]",
      "text/plain": [
       "<Figure size 640x480 with 1 Axes>"
      ]
     },
     "metadata": {},
     "output_type": "display_data"
    }
   ],
   "source": [
    "rm = rejection_method(h = 0.01,n = 1000,v =3)\n",
    "t = torch.linspace(-100,100,200)\n",
    "intg_0 = []\n",
    "for i in range(len(t)):\n",
    "    intg_0 += [rm.phi_abs0(t[i])]\n",
    "plt.plot(t,intg_0)"
   ]
  },
  {
   "cell_type": "code",
   "execution_count": 87,
   "id": "f7e9c028",
   "metadata": {},
   "outputs": [
    {
     "data": {
      "text/plain": [
       "2.2873131349464875"
      ]
     },
     "execution_count": 87,
     "metadata": {},
     "output_type": "execute_result"
    }
   ],
   "source": [
    "\n",
    "v = integrate.trapz(intg_0, t)\n",
    "v"
   ]
  },
  {
   "cell_type": "code",
   "execution_count": 83,
   "id": "58918f17",
   "metadata": {},
   "outputs": [
    {
     "data": {
      "text/plain": [
       "list"
      ]
     },
     "execution_count": 83,
     "metadata": {},
     "output_type": "execute_result"
    }
   ],
   "source": [
    "type([rm.phi_abs0(2)])"
   ]
  },
  {
   "cell_type": "code",
   "execution_count": null,
   "id": "26def1b4",
   "metadata": {},
   "outputs": [],
   "source": []
  }
 ],
 "metadata": {
  "kernelspec": {
   "display_name": "Python 3 (ipykernel)",
   "language": "python",
   "name": "python3"
  },
  "language_info": {
   "codemirror_mode": {
    "name": "ipython",
    "version": 3
   },
   "file_extension": ".py",
   "mimetype": "text/x-python",
   "name": "python",
   "nbconvert_exporter": "python",
   "pygments_lexer": "ipython3",
   "version": "3.9.12"
  }
 },
 "nbformat": 4,
 "nbformat_minor": 5
}
