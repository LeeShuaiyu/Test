{
 "cells": [
  {
   "cell_type": "code",
   "execution_count": 247,
   "id": "630e221e",
   "metadata": {},
   "outputs": [],
   "source": [
    "#载入所需package\n",
    "import numpy as np\n",
    "import torch\n",
    "import math\n",
    "import pandas as pd\n",
    "import matplotlib.pyplot as plt\n",
    "import matplotlib.image as mping \n",
    "import cmath\n",
    "from torch import nn\n",
    "import random\n",
    "from torch.utils import data\n",
    "import copy\n",
    "from scipy.special import kv\n",
    "from scipy import integrate\n",
    "import seaborn as sns\n",
    "import matplotlib as mpl"
   ]
  },
  {
   "cell_type": "code",
   "execution_count": 2,
   "id": "3302b7ff",
   "metadata": {},
   "outputs": [],
   "source": [
    "#标准 generator\n",
    "class generator_t:\n",
    "    def __init__(self,df,mu = 0, sigma = 1,samplesize = 1000, h = 0.01):\n",
    "        self.df = df\n",
    "        self.mu = mu\n",
    "        self.sigma = sigma\n",
    "        self.samplesize = samplesize\n",
    "        self.frequency = h\n",
    "    @staticmethod\n",
    "    def cumulate(delta):\n",
    "        data = torch.zeros(np.shape(delta))\n",
    "        n = np.shape(delta)[0]\n",
    "        for i in range(n-1):\n",
    "            data[i+1] = data[i]+delta[i]\n",
    "        return np.array(data)\n",
    "    \n",
    "    def generate_standard_t(self):\n",
    "        d0 = np.random.standard_t(self.df, (self.samplesize,1))\n",
    "        d1 = self.cumulate(d0)\n",
    "        delta = torch.tensor(d0)\n",
    "        data = torch.tensor(d1)\n",
    "        delta.requires_grad_(True)  # 等价于x=torch.arange(4.0,requires_grad=True)\n",
    "        return delta,data"
   ]
  },
  {
   "cell_type": "code",
   "execution_count": 7,
   "id": "9b80ca01",
   "metadata": {},
   "outputs": [],
   "source": [
    "class Characteristic_function:\n",
    "    def __init__(self,data):\n",
    "        self.data = data   \n",
    "    def ecf(self,t):\n",
    "        n = len(self.data)\n",
    "        if type(t)== int:\n",
    "            C = torch.zeros((n,1))\n",
    "            S = torch.zeros((n,1))\n",
    "            for i in range(n):\n",
    "                C[i] = math.cos(t*self.data[i])\n",
    "                S[i] = math.sin(t*self.data[i])\n",
    "            s = torch.mean(S)\n",
    "            c = torch.mean(C)\n",
    "            return c,s                \n",
    "        else:    \n",
    "            m = len(t)\n",
    "            R = []\n",
    "            for j in range(m):\n",
    "                S = []\n",
    "                C = []\n",
    "                for i in range(n):\n",
    "                    C = C+[math.cos(t[j]*self.data[i])]\n",
    "                    S = S+[math.sin(t[j]*self.data[i])]\n",
    "                #S = torch.tensor(S,dtype = torch.float64)\n",
    "                #C = torch.tensor(C,dtype = torch.float64)\n",
    "                s = sum(S)/len(S)\n",
    "                c = sum(C)/len(C)\n",
    "                R = R+[c]\n",
    "                R = R+[s]\n",
    "            #R = torch.tensor(R,dtype = torch.float64)\n",
    "        return R\n",
    "    def ecf_h(self,t):\n",
    "        n = len(self.data)\n",
    "        if type(t)== int:\n",
    "            C = torch.zeros((n,1))\n",
    "            S = torch.zeros((n,1))\n",
    "            for i in range(n):\n",
    "                C[i] = math.cos(t*self.data[i])\n",
    "                S[i] = math.sin(t*self.data[i])\n",
    "            s = torch.mean(S)\n",
    "            c = torch.mean(C)\n",
    "            return c,s                \n",
    "        else:    \n",
    "            m = len(t)\n",
    "            R = []\n",
    "            for j in range(m):\n",
    "                S = []\n",
    "                C = []\n",
    "                for i in range(n):\n",
    "                    C = C+[math.cos(t[j]*self.data[i])]\n",
    "                    S = S+[math.sin(t[j]*self.data[i])]\n",
    "                #S = torch.tensor(S,dtype = torch.float64)\n",
    "                #C = torch.tensor(C,dtype = torch.float64)\n",
    "                s = sum(S)/len(S)\n",
    "                c = sum(C)/len(C)\n",
    "                r = (math.sqrt(s**2+c**2))**h\n",
    "                theta = math.atan(s/c)*h\n",
    "                c_h = r*math.cos(theta)\n",
    "                s_h = r*math.sin(theta)\n",
    "                R = R+[c_h]\n",
    "                R = R+[s_h]\n",
    "            #R = torch.tensor(R,dtype = torch.float64)\n",
    "        return R\n",
    "    "
   ]
  },
  {
   "cell_type": "code",
   "execution_count": 229,
   "id": "d79bf4e9",
   "metadata": {},
   "outputs": [],
   "source": [
    "class rejection_method:    \n",
    "    def __init__(self,h,n,v,mu = 0,sigma = 1):        \n",
    "        self.h = h\n",
    "        self.v = v\n",
    "        self.mu = mu\n",
    "        self.sigma = sigma\n",
    "        self.n = n\n",
    "    def phi_h(self,t):\n",
    "        phi_real = math.cos(t*self.mu)*((math.sqrt(self.v)*self.sigma*abs(t))**(self.v/2))/(2**(self.v/2-1)*math.gamma(self.v/2))*kv(self.v/2,math.sqrt(self.v)*self.sigma*abs(t))\n",
    "        phi_imag = math.sin(t*self.mu)*((math.sqrt(self.v)*self.sigma*abs(t))**(self.v/2))/(2**(self.v/2-1)*math.gamma(self.v/2))*kv(self.v/2,math.sqrt(self.v)*self.sigma*abs(t))\n",
    "        r = (math.sqrt(phi_real**2+phi_imag**2))**self.h\n",
    "        theta = math.atan(phi_imag/phi_real)*self.h\n",
    "        phi_real = r*math.cos(theta)\n",
    "        phi_imag = r*math.sin(theta)\n",
    "        phi_abs = math.sqrt(phi_real**2+phi_imag**2)\n",
    "        return phi_real, phi_imag, phi_abs\n",
    "    def f(self,x,t_lim=200,t_num=2000):\n",
    "        t = torch.linspace(-int(t_lim),int(t_lim),t_num)\n",
    "        intg = []\n",
    "        #因为密度是real的\n",
    "        for i in range(t_num):\n",
    "            r = self.phi_h(t[i])[0]\n",
    "            im = self.phi_h(t[i])[1]\n",
    "            intg += [math.cos(t[i]*x)*r+math.sin(t[i]*x)*im]\n",
    "        y = 1/(2*math.pi)*integrate.trapz(intg, t)\n",
    "        return y\n",
    "    def phi_abs0(self,t):\n",
    "        return self.phi_h(t)[2]\n",
    "    def phi_prime(self,t,delt = 0.01):\n",
    "        d_1 = (self.phi_h(t)[0]-self.phi_h(t+delt)[0])/delt\n",
    "        d_2 = (self.phi_h(t)[1]-self.phi_h(t+delt)[1])/delt\n",
    "        d_abs = math.sqrt(d_1**2+d_2**2)\n",
    "        return d_1,d_2\n",
    "    def phi_prime_prime(self,t,delt = 0.01):\n",
    "        d_1 = (self.phi_prime(t)[0]-self.phi_prime(t+delt)[0])/delt\n",
    "        d_2 = (self.phi_prime(t)[1]-self.phi_prime(t+delt)[1])/delt\n",
    "        d_abs = math.sqrt(d_1**2+d_2**2)\n",
    "        return d_1,d_2,d_abs  \n",
    "    def phi_abs2(self,t):\n",
    "        return self.phi_prime_prime(t)[2]\n",
    "    def integ(self,domain = 100,ndots = 500):\n",
    "        t = torch.linspace(-int(domain),int(domain),ndots)\n",
    "        intg_0 = []\n",
    "        intg_2 = []\n",
    "        for i in range(len(t)):\n",
    "            intg_0 += [self.phi_abs0(t[i])]\n",
    "        c = 1/(2*math.pi)*integrate.trapz(intg_0, t)\n",
    "        for i in range(len(t)):\n",
    "            intg_2 += [self.phi_abs2(t[i])]\n",
    "        k = 1/(2*math.pi)*integrate.trapz(intg_2, t)\n",
    "        return c,k\n",
    "    def hat_function(self,x):        \n",
    "        c,k = self.integ()\n",
    "        g = min(c,k/(x**2))\n",
    "        return g\n",
    "\n",
    "    def genertator(self):\n",
    "        total = 25*self.n\n",
    "        V_1 = np.random.uniform(-1,1,total)\n",
    "        V_2 = np.random.uniform(-1,1,total)\n",
    "        c,k = self.integ()\n",
    "        X = []\n",
    "        for i in range(total):\n",
    "            y = math.sqrt(k/c)*(V_1[i]/V_2[i])\n",
    "            U = np.random.uniform(-1,1)            \n",
    "            if len(X) >=self.n:\n",
    "                break\n",
    "                \n",
    "            elif U<= (self.f(y)/self.hat_function(y)):\n",
    "                X+=[y]\n",
    "            else:\n",
    "                continue\n",
    "        return X\n",
    "        \n",
    "        @staticmethod\n",
    "    def cumulate(delta):\n",
    "        data = torch.zeros(np.shape(delta))\n",
    "        n = np.shape(delta)[0]\n",
    "        for i in range(n-1):\n",
    "            data[i+1] = data[i]+delta[i]\n",
    "        return np.array(data)    "
   ]
  },
  {
   "cell_type": "code",
   "execution_count": 230,
   "id": "241f645e",
   "metadata": {},
   "outputs": [
    {
     "data": {
      "text/plain": [
       "[<matplotlib.lines.Line2D at 0x7fd9474cc4f0>]"
      ]
     },
     "execution_count": 230,
     "metadata": {},
     "output_type": "execute_result"
    },
    {
     "data": {
      "image/png": "[encoded data removed]",
      "text/plain": [
       "<Figure size 640x480 with 1 Axes>"
      ]
     },
     "metadata": {},
     "output_type": "display_data"
    }
   ],
   "source": [
    "rm = rejection_method(h = 0.01,n = 1000,v =3)\n",
    "t = torch.linspace(-100,100,200)\n",
    "intg_0 = []\n",
    "for i in range(len(t)):\n",
    "    intg_0 += [rm.phi_abs0(t[i])]\n",
    "plt.plot(t,intg_0)"
   ]
  },
  {
   "cell_type": "code",
   "execution_count": 236,
   "id": "76d97b52",
   "metadata": {},
   "outputs": [
    {
     "ename": "KeyboardInterrupt",
     "evalue": "",
     "output_type": "error",
     "traceback": [
      "\u001b[0;31m---------------------------------------------------------------------------\u001b[0m",
      "\u001b[0;31mKeyboardInterrupt\u001b[0m                         Traceback (most recent call last)",
      "Cell \u001b[0;32mIn [236], line 1\u001b[0m\n\u001b[0;32m----> 1\u001b[0m x \u001b[38;5;241m=\u001b[39m \u001b[43mrm\u001b[49m\u001b[38;5;241;43m.\u001b[39;49m\u001b[43mgenertator\u001b[49m\u001b[43m(\u001b[49m\u001b[43m)\u001b[49m\n\u001b[1;32m      2\u001b[0m x_show \u001b[38;5;241m=\u001b[39m x[\u001b[38;5;28mabs\u001b[39m(x)\u001b[38;5;241m<\u001b[39m\u001b[38;5;241m0.5\u001b[39m]\n",
      "Cell \u001b[0;32mIn [229], line 69\u001b[0m, in \u001b[0;36mrejection_method.genertator\u001b[0;34m(self)\u001b[0m\n\u001b[1;32m     66\u001b[0m \u001b[38;5;28;01mif\u001b[39;00m \u001b[38;5;28mlen\u001b[39m(X) \u001b[38;5;241m>\u001b[39m\u001b[38;5;241m=\u001b[39m\u001b[38;5;28mself\u001b[39m\u001b[38;5;241m.\u001b[39mn:\n\u001b[1;32m     67\u001b[0m     \u001b[38;5;28;01mbreak\u001b[39;00m\n\u001b[0;32m---> 69\u001b[0m \u001b[38;5;28;01melif\u001b[39;00m U\u001b[38;5;241m<\u001b[39m\u001b[38;5;241m=\u001b[39m (\u001b[38;5;28mself\u001b[39m\u001b[38;5;241m.\u001b[39mf(y)\u001b[38;5;241m/\u001b[39m\u001b[38;5;28;43mself\u001b[39;49m\u001b[38;5;241;43m.\u001b[39;49m\u001b[43mhat_function\u001b[49m\u001b[43m(\u001b[49m\u001b[43my\u001b[49m\u001b[43m)\u001b[49m):\n\u001b[1;32m     70\u001b[0m     X\u001b[38;5;241m+\u001b[39m\u001b[38;5;241m=\u001b[39m[y]\n\u001b[1;32m     71\u001b[0m \u001b[38;5;28;01melse\u001b[39;00m:\n",
      "Cell \u001b[0;32mIn [229], line 53\u001b[0m, in \u001b[0;36mrejection_method.hat_function\u001b[0;34m(self, x)\u001b[0m\n\u001b[1;32m     52\u001b[0m \u001b[38;5;28;01mdef\u001b[39;00m \u001b[38;5;21mhat_function\u001b[39m(\u001b[38;5;28mself\u001b[39m,x):        \n\u001b[0;32m---> 53\u001b[0m     c,k \u001b[38;5;241m=\u001b[39m \u001b[38;5;28;43mself\u001b[39;49m\u001b[38;5;241;43m.\u001b[39;49m\u001b[43minteg\u001b[49m\u001b[43m(\u001b[49m\u001b[43m)\u001b[49m\n\u001b[1;32m     54\u001b[0m     g \u001b[38;5;241m=\u001b[39m \u001b[38;5;28mmin\u001b[39m(c,k\u001b[38;5;241m/\u001b[39m(x\u001b[38;5;241m*\u001b[39m\u001b[38;5;241m*\u001b[39m\u001b[38;5;241m2\u001b[39m))\n\u001b[1;32m     55\u001b[0m     \u001b[38;5;28;01mreturn\u001b[39;00m g\n",
      "Cell \u001b[0;32mIn [229], line 49\u001b[0m, in \u001b[0;36mrejection_method.integ\u001b[0;34m(self, domain, ndots)\u001b[0m\n\u001b[1;32m     47\u001b[0m c \u001b[38;5;241m=\u001b[39m \u001b[38;5;241m1\u001b[39m\u001b[38;5;241m/\u001b[39m(\u001b[38;5;241m2\u001b[39m\u001b[38;5;241m*\u001b[39mmath\u001b[38;5;241m.\u001b[39mpi)\u001b[38;5;241m*\u001b[39mintegrate\u001b[38;5;241m.\u001b[39mtrapz(intg_0, t)\n\u001b[1;32m     48\u001b[0m \u001b[38;5;28;01mfor\u001b[39;00m i \u001b[38;5;129;01min\u001b[39;00m \u001b[38;5;28mrange\u001b[39m(\u001b[38;5;28mlen\u001b[39m(t)):\n\u001b[0;32m---> 49\u001b[0m     intg_2 \u001b[38;5;241m+\u001b[39m\u001b[38;5;241m=\u001b[39m [\u001b[38;5;28;43mself\u001b[39;49m\u001b[38;5;241;43m.\u001b[39;49m\u001b[43mphi_abs2\u001b[49m\u001b[43m(\u001b[49m\u001b[43mt\u001b[49m\u001b[43m[\u001b[49m\u001b[43mi\u001b[49m\u001b[43m]\u001b[49m\u001b[43m)\u001b[49m]\n\u001b[1;32m     50\u001b[0m k \u001b[38;5;241m=\u001b[39m \u001b[38;5;241m1\u001b[39m\u001b[38;5;241m/\u001b[39m(\u001b[38;5;241m2\u001b[39m\u001b[38;5;241m*\u001b[39mmath\u001b[38;5;241m.\u001b[39mpi)\u001b[38;5;241m*\u001b[39mintegrate\u001b[38;5;241m.\u001b[39mtrapz(intg_2, t)\n\u001b[1;32m     51\u001b[0m \u001b[38;5;28;01mreturn\u001b[39;00m c,k\n",
      "Cell \u001b[0;32mIn [229], line 40\u001b[0m, in \u001b[0;36mrejection_method.phi_abs2\u001b[0;34m(self, t)\u001b[0m\n\u001b[1;32m     39\u001b[0m \u001b[38;5;28;01mdef\u001b[39;00m \u001b[38;5;21mphi_abs2\u001b[39m(\u001b[38;5;28mself\u001b[39m,t):\n\u001b[0;32m---> 40\u001b[0m     \u001b[38;5;28;01mreturn\u001b[39;00m \u001b[38;5;28;43mself\u001b[39;49m\u001b[38;5;241;43m.\u001b[39;49m\u001b[43mphi_prime_prime\u001b[49m\u001b[43m(\u001b[49m\u001b[43mt\u001b[49m\u001b[43m)\u001b[49m[\u001b[38;5;241m2\u001b[39m]\n",
      "Cell \u001b[0;32mIn [229], line 35\u001b[0m, in \u001b[0;36mrejection_method.phi_prime_prime\u001b[0;34m(self, t, delt)\u001b[0m\n\u001b[1;32m     34\u001b[0m \u001b[38;5;28;01mdef\u001b[39;00m \u001b[38;5;21mphi_prime_prime\u001b[39m(\u001b[38;5;28mself\u001b[39m,t,delt \u001b[38;5;241m=\u001b[39m \u001b[38;5;241m0.01\u001b[39m):\n\u001b[0;32m---> 35\u001b[0m     d_1 \u001b[38;5;241m=\u001b[39m (\u001b[38;5;28;43mself\u001b[39;49m\u001b[38;5;241;43m.\u001b[39;49m\u001b[43mphi_prime\u001b[49m\u001b[43m(\u001b[49m\u001b[43mt\u001b[49m\u001b[43m)\u001b[49m[\u001b[38;5;241m0\u001b[39m]\u001b[38;5;241m-\u001b[39m\u001b[38;5;28mself\u001b[39m\u001b[38;5;241m.\u001b[39mphi_prime(t\u001b[38;5;241m+\u001b[39mdelt)[\u001b[38;5;241m0\u001b[39m])\u001b[38;5;241m/\u001b[39mdelt\n\u001b[1;32m     36\u001b[0m     d_2 \u001b[38;5;241m=\u001b[39m (\u001b[38;5;28mself\u001b[39m\u001b[38;5;241m.\u001b[39mphi_prime(t)[\u001b[38;5;241m1\u001b[39m]\u001b[38;5;241m-\u001b[39m\u001b[38;5;28mself\u001b[39m\u001b[38;5;241m.\u001b[39mphi_prime(t\u001b[38;5;241m+\u001b[39mdelt)[\u001b[38;5;241m1\u001b[39m])\u001b[38;5;241m/\u001b[39mdelt\n\u001b[1;32m     37\u001b[0m     d_abs \u001b[38;5;241m=\u001b[39m math\u001b[38;5;241m.\u001b[39msqrt(d_1\u001b[38;5;241m*\u001b[39m\u001b[38;5;241m*\u001b[39m\u001b[38;5;241m2\u001b[39m\u001b[38;5;241m+\u001b[39md_2\u001b[38;5;241m*\u001b[39m\u001b[38;5;241m*\u001b[39m\u001b[38;5;241m2\u001b[39m)\n",
      "Cell \u001b[0;32mIn [229], line 31\u001b[0m, in \u001b[0;36mrejection_method.phi_prime\u001b[0;34m(self, t, delt)\u001b[0m\n\u001b[1;32m     29\u001b[0m \u001b[38;5;28;01mdef\u001b[39;00m \u001b[38;5;21mphi_prime\u001b[39m(\u001b[38;5;28mself\u001b[39m,t,delt \u001b[38;5;241m=\u001b[39m \u001b[38;5;241m0.01\u001b[39m):\n\u001b[1;32m     30\u001b[0m     d_1 \u001b[38;5;241m=\u001b[39m (\u001b[38;5;28mself\u001b[39m\u001b[38;5;241m.\u001b[39mphi_h(t)[\u001b[38;5;241m0\u001b[39m]\u001b[38;5;241m-\u001b[39m\u001b[38;5;28mself\u001b[39m\u001b[38;5;241m.\u001b[39mphi_h(t\u001b[38;5;241m+\u001b[39mdelt)[\u001b[38;5;241m0\u001b[39m])\u001b[38;5;241m/\u001b[39mdelt\n\u001b[0;32m---> 31\u001b[0m     d_2 \u001b[38;5;241m=\u001b[39m (\u001b[38;5;28;43mself\u001b[39;49m\u001b[38;5;241;43m.\u001b[39;49m\u001b[43mphi_h\u001b[49m\u001b[43m(\u001b[49m\u001b[43mt\u001b[49m\u001b[43m)\u001b[49m[\u001b[38;5;241m1\u001b[39m]\u001b[38;5;241m-\u001b[39m\u001b[38;5;28mself\u001b[39m\u001b[38;5;241m.\u001b[39mphi_h(t\u001b[38;5;241m+\u001b[39mdelt)[\u001b[38;5;241m1\u001b[39m])\u001b[38;5;241m/\u001b[39mdelt\n\u001b[1;32m     32\u001b[0m     d_abs \u001b[38;5;241m=\u001b[39m math\u001b[38;5;241m.\u001b[39msqrt(d_1\u001b[38;5;241m*\u001b[39m\u001b[38;5;241m*\u001b[39m\u001b[38;5;241m2\u001b[39m\u001b[38;5;241m+\u001b[39md_2\u001b[38;5;241m*\u001b[39m\u001b[38;5;241m*\u001b[39m\u001b[38;5;241m2\u001b[39m)\n\u001b[1;32m     33\u001b[0m     \u001b[38;5;28;01mreturn\u001b[39;00m d_1,d_2\n",
      "Cell \u001b[0;32mIn [229], line 9\u001b[0m, in \u001b[0;36mrejection_method.phi_h\u001b[0;34m(self, t)\u001b[0m\n\u001b[1;32m      8\u001b[0m \u001b[38;5;28;01mdef\u001b[39;00m \u001b[38;5;21mphi_h\u001b[39m(\u001b[38;5;28mself\u001b[39m,t):\n\u001b[0;32m----> 9\u001b[0m     phi_real \u001b[38;5;241m=\u001b[39m \u001b[43mmath\u001b[49m\u001b[38;5;241;43m.\u001b[39;49m\u001b[43mcos\u001b[49m\u001b[43m(\u001b[49m\u001b[43mt\u001b[49m\u001b[38;5;241;43m*\u001b[39;49m\u001b[38;5;28;43mself\u001b[39;49m\u001b[38;5;241;43m.\u001b[39;49m\u001b[43mmu\u001b[49m\u001b[43m)\u001b[49m\u001b[38;5;241m*\u001b[39m((math\u001b[38;5;241m.\u001b[39msqrt(\u001b[38;5;28mself\u001b[39m\u001b[38;5;241m.\u001b[39mv)\u001b[38;5;241m*\u001b[39m\u001b[38;5;28mself\u001b[39m\u001b[38;5;241m.\u001b[39msigma\u001b[38;5;241m*\u001b[39m\u001b[38;5;28mabs\u001b[39m(t))\u001b[38;5;241m*\u001b[39m\u001b[38;5;241m*\u001b[39m(\u001b[38;5;28mself\u001b[39m\u001b[38;5;241m.\u001b[39mv\u001b[38;5;241m/\u001b[39m\u001b[38;5;241m2\u001b[39m))\u001b[38;5;241m/\u001b[39m(\u001b[38;5;241m2\u001b[39m\u001b[38;5;241m*\u001b[39m\u001b[38;5;241m*\u001b[39m(\u001b[38;5;28mself\u001b[39m\u001b[38;5;241m.\u001b[39mv\u001b[38;5;241m/\u001b[39m\u001b[38;5;241m2\u001b[39m\u001b[38;5;241m-\u001b[39m\u001b[38;5;241m1\u001b[39m)\u001b[38;5;241m*\u001b[39mmath\u001b[38;5;241m.\u001b[39mgamma(\u001b[38;5;28mself\u001b[39m\u001b[38;5;241m.\u001b[39mv\u001b[38;5;241m/\u001b[39m\u001b[38;5;241m2\u001b[39m))\u001b[38;5;241m*\u001b[39mkv(\u001b[38;5;28mself\u001b[39m\u001b[38;5;241m.\u001b[39mv\u001b[38;5;241m/\u001b[39m\u001b[38;5;241m2\u001b[39m,math\u001b[38;5;241m.\u001b[39msqrt(\u001b[38;5;28mself\u001b[39m\u001b[38;5;241m.\u001b[39mv)\u001b[38;5;241m*\u001b[39m\u001b[38;5;28mself\u001b[39m\u001b[38;5;241m.\u001b[39msigma\u001b[38;5;241m*\u001b[39m\u001b[38;5;28mabs\u001b[39m(t))\n\u001b[1;32m     10\u001b[0m     phi_imag \u001b[38;5;241m=\u001b[39m math\u001b[38;5;241m.\u001b[39msin(t\u001b[38;5;241m*\u001b[39m\u001b[38;5;28mself\u001b[39m\u001b[38;5;241m.\u001b[39mmu)\u001b[38;5;241m*\u001b[39m((math\u001b[38;5;241m.\u001b[39msqrt(\u001b[38;5;28mself\u001b[39m\u001b[38;5;241m.\u001b[39mv)\u001b[38;5;241m*\u001b[39m\u001b[38;5;28mself\u001b[39m\u001b[38;5;241m.\u001b[39msigma\u001b[38;5;241m*\u001b[39m\u001b[38;5;28mabs\u001b[39m(t))\u001b[38;5;241m*\u001b[39m\u001b[38;5;241m*\u001b[39m(\u001b[38;5;28mself\u001b[39m\u001b[38;5;241m.\u001b[39mv\u001b[38;5;241m/\u001b[39m\u001b[38;5;241m2\u001b[39m))\u001b[38;5;241m/\u001b[39m(\u001b[38;5;241m2\u001b[39m\u001b[38;5;241m*\u001b[39m\u001b[38;5;241m*\u001b[39m(\u001b[38;5;28mself\u001b[39m\u001b[38;5;241m.\u001b[39mv\u001b[38;5;241m/\u001b[39m\u001b[38;5;241m2\u001b[39m\u001b[38;5;241m-\u001b[39m\u001b[38;5;241m1\u001b[39m)\u001b[38;5;241m*\u001b[39mmath\u001b[38;5;241m.\u001b[39mgamma(\u001b[38;5;28mself\u001b[39m\u001b[38;5;241m.\u001b[39mv\u001b[38;5;241m/\u001b[39m\u001b[38;5;241m2\u001b[39m))\u001b[38;5;241m*\u001b[39mkv(\u001b[38;5;28mself\u001b[39m\u001b[38;5;241m.\u001b[39mv\u001b[38;5;241m/\u001b[39m\u001b[38;5;241m2\u001b[39m,math\u001b[38;5;241m.\u001b[39msqrt(\u001b[38;5;28mself\u001b[39m\u001b[38;5;241m.\u001b[39mv)\u001b[38;5;241m*\u001b[39m\u001b[38;5;28mself\u001b[39m\u001b[38;5;241m.\u001b[39msigma\u001b[38;5;241m*\u001b[39m\u001b[38;5;28mabs\u001b[39m(t))\n\u001b[1;32m     11\u001b[0m     r \u001b[38;5;241m=\u001b[39m (math\u001b[38;5;241m.\u001b[39msqrt(phi_real\u001b[38;5;241m*\u001b[39m\u001b[38;5;241m*\u001b[39m\u001b[38;5;241m2\u001b[39m\u001b[38;5;241m+\u001b[39mphi_imag\u001b[38;5;241m*\u001b[39m\u001b[38;5;241m*\u001b[39m\u001b[38;5;241m2\u001b[39m))\u001b[38;5;241m*\u001b[39m\u001b[38;5;241m*\u001b[39m\u001b[38;5;28mself\u001b[39m\u001b[38;5;241m.\u001b[39mh\n",
      "\u001b[0;31mKeyboardInterrupt\u001b[0m: "
     ]
    }
   ],
   "source": [
    "x = rm.genertator()\n"
   ]
  },
  {
   "cell_type": "code",
   "execution_count": 246,
   "id": "1ccff370",
   "metadata": {},
   "outputs": [
    {
     "data": {
      "text/plain": [
       "994"
      ]
     },
     "execution_count": 246,
     "metadata": {},
     "output_type": "execute_result"
    }
   ],
   "source": [
    "X = torch.tensor(x)\n",
    "x_show = []\n",
    "for i in range(len(x)):\n",
    "    if abs(x[i])<1:\n",
    "        x_show+=[x[i]]\n",
    "len(x_show)"
   ]
  },
  {
   "cell_type": "code",
   "execution_count": 245,
   "id": "ee6bcb66",
   "metadata": {},
   "outputs": [
    {
     "data": {
      "image/png": "[encoded data removed]",
      "text/plain": [
       "<Figure size 500x500 with 1 Axes>"
      ]
     },
     "metadata": {},
     "output_type": "display_data"
    }
   ],
   "source": [
    "fig = sns.displot(data = x_show,kind = 'hist',kde = \"TRUE\")\n"
   ]
  },
  {
   "cell_type": "code",
   "execution_count": null,
   "id": "6054ddb3",
   "metadata": {},
   "outputs": [],
   "source": []
  },
  {
   "cell_type": "code",
   "execution_count": 228,
   "id": "a0fc01a5",
   "metadata": {},
   "outputs": [
    {
     "data": {
      "text/plain": [
       "0"
      ]
     },
     "execution_count": 228,
     "metadata": {},
     "output_type": "execute_result"
    }
   ],
   "source": [
    "len([])"
   ]
  },
  {
   "cell_type": "code",
   "execution_count": null,
   "id": "46642b76",
   "metadata": {},
   "outputs": [],
   "source": []
  }
 ],
 "metadata": {
  "kernelspec": {
   "display_name": "Python 3 (ipykernel)",
   "language": "python",
   "name": "python3"
  },
  "language_info": {
   "codemirror_mode": {
    "name": "ipython",
    "version": 3
   },
   "file_extension": ".py",
   "mimetype": "text/x-python",
   "name": "python",
   "nbconvert_exporter": "python",
   "pygments_lexer": "ipython3",
   "version": "3.9.12"
  }
 },
 "nbformat": 4,
 "nbformat_minor": 5
}
