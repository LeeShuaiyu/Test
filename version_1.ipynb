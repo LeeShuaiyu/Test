{
 "cells": [
  {
   "cell_type": "code",
   "execution_count": 179,
   "id": "c01ee1a9",
   "metadata": {
    "pycharm": {
     "is_executing": true
    }
   },
   "outputs": [],
   "source": [
    "import numpy as np\n",
    "import torch\n",
    "import math\n",
    "import pandas as pd\n",
    "import matplotlib.pyplot as plt\n",
    "import matplotlib.image as mping \n",
    "import cmath\n",
    "from torch import nn\n",
    "import random\n",
    "from torch.utils import data"
   ]
  },
  {
   "cell_type": "code",
   "execution_count": 180,
   "id": "b00d248c",
   "metadata": {},
   "outputs": [],
   "source": [
    "class generator_t:\n",
    "    def __init__(self,df,mu = 0, sigma = 1,samplesize = 1000, h = 0.01):\n",
    "        self.df = df\n",
    "        self.mu = mu\n",
    "        self.sigma = sigma\n",
    "        self.samplesize = samplesize\n",
    "        self.frequency = h\n",
    "    @staticmethod\n",
    "    def cumulate(delta):\n",
    "        data = torch.zeros(np.shape(delta))\n",
    "        n = np.shape(delta)[0]\n",
    "        for i in range(n-1):\n",
    "            data[i+1] = data[i]+delta[i]\n",
    "        return np.array(data)\n",
    "    \n",
    "    def generate_standard_t(self):\n",
    "        d0 = np.random.standard_t(self.df, (self.samplesize,1))\n",
    "        d1 = self.cumulate(d0)\n",
    "        delta = torch.tensor(d0)\n",
    "        data = torch.tensor(d1)\n",
    "        delta.requires_grad_(True)  # 等价于x=torch.arange(4.0,requires_grad=True)\n",
    "        return delta,data"
   ]
  },
  {
   "cell_type": "markdown",
   "id": "bf436379",
   "metadata": {},
   "source": [
    "### Characteristic Function"
   ]
  },
  {
   "cell_type": "code",
   "execution_count": 55,
   "id": "96b3715f",
   "metadata": {},
   "outputs": [],
   "source": [
    "class Characteristic_function:\n",
    "    def __init__(self,data):\n",
    "        self.data = data   \n",
    "    def ecf(self,t):\n",
    "        n = len(self.data)\n",
    "        if type(t)== int:\n",
    "            C = torch.zeros((n,1))\n",
    "            S = torch.zeros((n,1))\n",
    "            for i in range(n):\n",
    "                C[i] = math.cos(t*self.data[i])\n",
    "                S[i] = math.sin(t*self.data[i])\n",
    "            s = torch.mean(S)\n",
    "            c = torch.mean(C)\n",
    "            return c,s                \n",
    "        else:    \n",
    "            m = len(t)\n",
    "            C = torch.zeros((n,1))\n",
    "            S = torch.zeros((n,1))\n",
    "            R = torch.zeros((m,2))\n",
    "            for j in range(m):\n",
    "                for i in range(n):\n",
    "                    C[i] = math.cos(t[j]*self.data[i])\n",
    "                    S[i] = math.sin(t[j]*self.data[i])\n",
    "                s = float(torch.mean(S))\n",
    "                c = float(torch.mean(C))\n",
    "                R[j,0] = c\n",
    "                R[j,1] = s\n",
    "        return R\n",
    "    def ecf_h(self,t,h):\n",
    "        n = len(self.data)\n",
    "        if type(t)== int:\n",
    "            C = torch.zeros((n,1))\n",
    "            S = torch.zeros((n,1))\n",
    "            for i in range(n):\n",
    "                C[i] = math.cos(t*self.data[i])\n",
    "                S[i] = math.sin(t*self.data[i])\n",
    "            s = torch.mean(S)\n",
    "            c = torch.mean(C)\n",
    "            f = complex(c,s)\n",
    "            q,w = cmath.polar(f)\n",
    "            q = q**h\n",
    "            w = w*h\n",
    "            c = math.cos(w)*q\n",
    "            s = math.sin(w)*q\n",
    "            return c,s                \n",
    "        else:    \n",
    "            m = len(t)\n",
    "            C = torch.zeros((n,1))\n",
    "            S = torch.zeros((n,1))\n",
    "            R = torch.zeros((m,2))\n",
    "            for j in range(m):\n",
    "                for i in range(n):\n",
    "                    C[i] = math.cos(t[j]*self.data[i])\n",
    "                    S[i] = math.sin(t[j]*self.data[i])\n",
    "                s = torch.mean(S)\n",
    "                c = torch.mean(C)\n",
    "                f = complex(c,s)\n",
    "                q,w = cmath.polar(f)\n",
    "                q = q**h\n",
    "                w = w*h\n",
    "                c = math.cos(w)*q\n",
    "                s = math.sin(w)*q\n",
    "                R[j,0] = c\n",
    "                R[j,1] = s\n",
    "        return R\n"
   ]
  },
  {
   "cell_type": "code",
   "execution_count": 186,
   "id": "20ff731b",
   "metadata": {},
   "outputs": [],
   "source": [
    "class Characteristic_function:\n",
    "    def __init__(self,data):\n",
    "        self.data = data   \n",
    "    def ecf(self,t):\n",
    "        n = len(self.data)\n",
    "        if type(t)== int:\n",
    "            C = torch.zeros((n,1))\n",
    "            S = torch.zeros((n,1))\n",
    "            for i in range(n):\n",
    "                C[i] = math.cos(t*self.data[i])\n",
    "                S[i] = math.sin(t*self.data[i])\n",
    "            s = torch.mean(S)\n",
    "            c = torch.mean(C)\n",
    "            return c,s                \n",
    "        else:    \n",
    "            m = len(t)\n",
    "            R = []\n",
    "            for j in range(m):\n",
    "                S = []\n",
    "                C = []\n",
    "                for i in range(n):\n",
    "                    C.append(math.cos(t[j]*self.data[i]))\n",
    "                    S.append(math.sin(t[j]*self.data[i]))\n",
    "                S = torch.tensor(S,dtype = torch.float64)\n",
    "                C = torch.tensor(C,dtype = torch.float64)\n",
    "                s = float(torch.mean(S))\n",
    "                c = float(torch.mean(C))\n",
    "                R.append(c)\n",
    "                R.append(s)\n",
    "            R = torch.tensor(R,dtype = torch.float64)\n",
    "        return R\n",
    "    def ecf_h(self,t,h):\n",
    "        n = len(self.data)\n",
    "        if type(t)== int:\n",
    "            C = torch.zeros((n,1))\n",
    "            S = torch.zeros((n,1))\n",
    "            for i in range(n):\n",
    "                C[i] = math.cos(t*self.data[i])\n",
    "                S[i] = math.sin(t*self.data[i])\n",
    "            s = torch.mean(S)\n",
    "            c = torch.mean(C)\n",
    "            f = complex(c,s)\n",
    "            q,w = cmath.polar(f)\n",
    "            q = q**h\n",
    "            w = w*h\n",
    "            c = math.cos(w)*q\n",
    "            s = math.sin(w)*q\n",
    "            return c,s                \n",
    "        else:    \n",
    "            m = len(t)\n",
    "            C = torch.zeros((n,1))\n",
    "            S = torch.zeros((n,1))\n",
    "            R = torch.zeros((m,2))\n",
    "            for j in range(m):\n",
    "                for i in range(n):\n",
    "                    C[i] = math.cos(t[j]*self.data[i])\n",
    "                    S[i] = math.sin(t[j]*self.data[i])\n",
    "                s = torch.mean(S)\n",
    "                c = torch.mean(C)\n",
    "                f = complex(c,s)\n",
    "                q,w = cmath.polar(f)\n",
    "                q = q**h\n",
    "                w = w*h\n",
    "                c = math.cos(w)*q\n",
    "                s = math.sin(w)*q\n",
    "                R[j,0] = c\n",
    "                R[j,1] = s\n",
    "        return R\n"
   ]
  },
  {
   "cell_type": "code",
   "execution_count": 219,
   "id": "fd382f2c",
   "metadata": {},
   "outputs": [],
   "source": [
    "num_feature = 20\n",
    "range_feature = 10\n",
    "num_t = 10\n",
    "range_t = 5\n",
    "num_labels = num_t\n",
    "num_sample = 15\n",
    "total = num_sample*num_feature\n",
    "t = torch.linspace(-range_t,range_t,num_t,dtype = torch.float64)\n",
    "#t = t.reshape((-1,len(t)))\n",
    "x = torch.linspace(-range_feature,range_feature,num_feature,dtype = torch.float64)"
   ]
  },
  {
   "cell_type": "code",
   "execution_count": 220,
   "id": "e8cbce9d",
   "metadata": {},
   "outputs": [],
   "source": [
    "#实例化(V =3)\n",
    "Gen3 = generator_t(3,samplesize =total)\n",
    "\n",
    "delta,path = Gen3.generate_standard_t()\n",
    "Chf = Characteristic_function(delta)"
   ]
  },
  {
   "cell_type": "code",
   "execution_count": 221,
   "id": "89beae93",
   "metadata": {},
   "outputs": [],
   "source": [
    "a = []\n",
    "for i in range(num_sample):\n",
    "    delta,path = Gen3.generate_standard_t()\n",
    "    Chf = Characteristic_function(delta)\n",
    "    labels = Chf.ecf(t).reshape((1,-1))\n",
    "    a.append([x.reshape((-1,len(x))),labels])\n"
   ]
  },
  {
   "cell_type": "code",
   "execution_count": 222,
   "id": "e3889d3f",
   "metadata": {},
   "outputs": [
    {
     "data": {
      "text/plain": [
       "[[tensor([[-10.0000,  -8.9474,  -7.8947,  -6.8421,  -5.7895,  -4.7368,  -3.6842,\n",
       "            -2.6316,  -1.5789,  -0.5263,   0.5263,   1.5789,   2.6316,   3.6842,\n",
       "             4.7368,   5.7895,   6.8421,   7.8947,   8.9474,  10.0000]],\n",
       "         dtype=torch.float64),\n",
       "  tensor([[ 3.5664e-04, -2.7642e-02,  4.7218e-02, -5.2075e-02,  7.1624e-02,\n",
       "           -2.8895e-02,  2.5133e-01, -1.9294e-02,  7.6562e-01, -1.3361e-02,\n",
       "            7.6562e-01,  1.3361e-02,  2.5133e-01,  1.9294e-02,  7.1624e-02,\n",
       "            2.8895e-02,  4.7218e-02,  5.2075e-02,  3.5664e-04,  2.7642e-02]],\n",
       "         dtype=torch.float64)],\n",
       " [tensor([[-10.0000,  -8.9474,  -7.8947,  -6.8421,  -5.7895,  -4.7368,  -3.6842,\n",
       "            -2.6316,  -1.5789,  -0.5263,   0.5263,   1.5789,   2.6316,   3.6842,\n",
       "             4.7368,   5.7895,   6.8421,   7.8947,   8.9474,  10.0000]],\n",
       "         dtype=torch.float64),\n",
       "  tensor([[-0.0076, -0.0619, -0.0296,  0.0053,  0.0457,  0.0250,  0.2360,  0.0590,\n",
       "            0.7330,  0.0394,  0.7330, -0.0394,  0.2360, -0.0590,  0.0457, -0.0250,\n",
       "           -0.0296, -0.0053, -0.0076,  0.0619]], dtype=torch.float64)],\n",
       " [tensor([[-10.0000,  -8.9474,  -7.8947,  -6.8421,  -5.7895,  -4.7368,  -3.6842,\n",
       "            -2.6316,  -1.5789,  -0.5263,   0.5263,   1.5789,   2.6316,   3.6842,\n",
       "             4.7368,   5.7895,   6.8421,   7.8947,   8.9474,  10.0000]],\n",
       "         dtype=torch.float64),\n",
       "  tensor([[-0.0292,  0.0959, -0.0065,  0.0861,  0.0347,  0.0341,  0.2325,  0.0424,\n",
       "            0.7540,  0.0180,  0.7540, -0.0180,  0.2325, -0.0424,  0.0347, -0.0341,\n",
       "           -0.0065, -0.0861, -0.0292, -0.0959]], dtype=torch.float64)],\n",
       " [tensor([[-10.0000,  -8.9474,  -7.8947,  -6.8421,  -5.7895,  -4.7368,  -3.6842,\n",
       "            -2.6316,  -1.5789,  -0.5263,   0.5263,   1.5789,   2.6316,   3.6842,\n",
       "             4.7368,   5.7895,   6.8421,   7.8947,   8.9474,  10.0000]],\n",
       "         dtype=torch.float64),\n",
       "  tensor([[-0.0623,  0.0175, -0.0547,  0.0243, -0.0225,  0.0065,  0.1725, -0.0206,\n",
       "            0.7438,  0.0231,  0.7438, -0.0231,  0.1725,  0.0206, -0.0225, -0.0065,\n",
       "           -0.0547, -0.0243, -0.0623, -0.0175]], dtype=torch.float64)],\n",
       " [tensor([[-10.0000,  -8.9474,  -7.8947,  -6.8421,  -5.7895,  -4.7368,  -3.6842,\n",
       "            -2.6316,  -1.5789,  -0.5263,   0.5263,   1.5789,   2.6316,   3.6842,\n",
       "             4.7368,   5.7895,   6.8421,   7.8947,   8.9474,  10.0000]],\n",
       "         dtype=torch.float64),\n",
       "  tensor([[ 0.0853,  0.0707,  0.0090, -0.0368,  0.0411, -0.0344,  0.2061,  0.0150,\n",
       "            0.7760, -0.0258,  0.7760,  0.0258,  0.2061, -0.0150,  0.0411,  0.0344,\n",
       "            0.0090,  0.0368,  0.0853, -0.0707]], dtype=torch.float64)],\n",
       " [tensor([[-10.0000,  -8.9474,  -7.8947,  -6.8421,  -5.7895,  -4.7368,  -3.6842,\n",
       "            -2.6316,  -1.5789,  -0.5263,   0.5263,   1.5789,   2.6316,   3.6842,\n",
       "             4.7368,   5.7895,   6.8421,   7.8947,   8.9474,  10.0000]],\n",
       "         dtype=torch.float64),\n",
       "  tensor([[-0.0258,  0.0281, -0.0319, -0.0331,  0.0745, -0.0347,  0.2153, -0.0501,\n",
       "            0.7446,  0.0125,  0.7446, -0.0125,  0.2153,  0.0501,  0.0745,  0.0347,\n",
       "           -0.0319,  0.0331, -0.0258, -0.0281]], dtype=torch.float64)],\n",
       " [tensor([[-10.0000,  -8.9474,  -7.8947,  -6.8421,  -5.7895,  -4.7368,  -3.6842,\n",
       "            -2.6316,  -1.5789,  -0.5263,   0.5263,   1.5789,   2.6316,   3.6842,\n",
       "             4.7368,   5.7895,   6.8421,   7.8947,   8.9474,  10.0000]],\n",
       "         dtype=torch.float64),\n",
       "  tensor([[ 0.0913,  0.0297,  0.1082, -0.0078,  0.0605, -0.0280,  0.2178, -0.0216,\n",
       "            0.7681, -0.0198,  0.7681,  0.0198,  0.2178,  0.0216,  0.0605,  0.0280,\n",
       "            0.1082,  0.0078,  0.0913, -0.0297]], dtype=torch.float64)],\n",
       " [tensor([[-10.0000,  -8.9474,  -7.8947,  -6.8421,  -5.7895,  -4.7368,  -3.6842,\n",
       "            -2.6316,  -1.5789,  -0.5263,   0.5263,   1.5789,   2.6316,   3.6842,\n",
       "             4.7368,   5.7895,   6.8421,   7.8947,   8.9474,  10.0000]],\n",
       "         dtype=torch.float64),\n",
       "  tensor([[-0.0263, -0.0458, -0.0063, -0.0145,  0.0166, -0.0785,  0.2086, -0.0512,\n",
       "            0.7503, -0.0102,  0.7503,  0.0102,  0.2086,  0.0512,  0.0166,  0.0785,\n",
       "           -0.0063,  0.0145, -0.0263,  0.0458]], dtype=torch.float64)],\n",
       " [tensor([[-10.0000,  -8.9474,  -7.8947,  -6.8421,  -5.7895,  -4.7368,  -3.6842,\n",
       "            -2.6316,  -1.5789,  -0.5263,   0.5263,   1.5789,   2.6316,   3.6842,\n",
       "             4.7368,   5.7895,   6.8421,   7.8947,   8.9474,  10.0000]],\n",
       "         dtype=torch.float64),\n",
       "  tensor([[ 0.0442,  0.0548,  0.0582,  0.0541,  0.1314, -0.0243,  0.3170,  0.0585,\n",
       "            0.7622,  0.0066,  0.7622, -0.0066,  0.3170, -0.0585,  0.1314,  0.0243,\n",
       "            0.0582, -0.0541,  0.0442, -0.0548]], dtype=torch.float64)],\n",
       " [tensor([[-10.0000,  -8.9474,  -7.8947,  -6.8421,  -5.7895,  -4.7368,  -3.6842,\n",
       "            -2.6316,  -1.5789,  -0.5263,   0.5263,   1.5789,   2.6316,   3.6842,\n",
       "             4.7368,   5.7895,   6.8421,   7.8947,   8.9474,  10.0000]],\n",
       "         dtype=torch.float64),\n",
       "  tensor([[ 0.0286, -0.0363,  0.0323, -0.0288,  0.0835, -0.0196,  0.2233,  0.1025,\n",
       "            0.7536,  0.0144,  0.7536, -0.0144,  0.2233, -0.1025,  0.0835,  0.0196,\n",
       "            0.0323,  0.0288,  0.0286,  0.0363]], dtype=torch.float64)],\n",
       " [tensor([[-10.0000,  -8.9474,  -7.8947,  -6.8421,  -5.7895,  -4.7368,  -3.6842,\n",
       "            -2.6316,  -1.5789,  -0.5263,   0.5263,   1.5789,   2.6316,   3.6842,\n",
       "             4.7368,   5.7895,   6.8421,   7.8947,   8.9474,  10.0000]],\n",
       "         dtype=torch.float64),\n",
       "  tensor([[ 0.0394,  0.0163,  0.0309,  0.0196,  0.0085,  0.0330,  0.1586,  0.0340,\n",
       "            0.7499, -0.0064,  0.7499,  0.0064,  0.1586, -0.0340,  0.0085, -0.0330,\n",
       "            0.0309, -0.0196,  0.0394, -0.0163]], dtype=torch.float64)],\n",
       " [tensor([[-10.0000,  -8.9474,  -7.8947,  -6.8421,  -5.7895,  -4.7368,  -3.6842,\n",
       "            -2.6316,  -1.5789,  -0.5263,   0.5263,   1.5789,   2.6316,   3.6842,\n",
       "             4.7368,   5.7895,   6.8421,   7.8947,   8.9474,  10.0000]],\n",
       "         dtype=torch.float64),\n",
       "  tensor([[ 0.0209,  0.0165,  0.0120,  0.0605,  0.0235,  0.0236,  0.2472, -0.0042,\n",
       "            0.7667,  0.0220,  0.7667, -0.0220,  0.2472,  0.0042,  0.0235, -0.0236,\n",
       "            0.0120, -0.0605,  0.0209, -0.0165]], dtype=torch.float64)],\n",
       " [tensor([[-10.0000,  -8.9474,  -7.8947,  -6.8421,  -5.7895,  -4.7368,  -3.6842,\n",
       "            -2.6316,  -1.5789,  -0.5263,   0.5263,   1.5789,   2.6316,   3.6842,\n",
       "             4.7368,   5.7895,   6.8421,   7.8947,   8.9474,  10.0000]],\n",
       "         dtype=torch.float64),\n",
       "  tensor([[ 4.0057e-02, -1.7352e-02,  2.0996e-03, -1.5698e-02, -4.4717e-02,\n",
       "           -3.5519e-02,  1.5496e-01, -6.1250e-02,  7.5992e-01,  2.8403e-04,\n",
       "            7.5992e-01, -2.8403e-04,  1.5496e-01,  6.1250e-02, -4.4717e-02,\n",
       "            3.5519e-02,  2.0996e-03,  1.5698e-02,  4.0057e-02,  1.7352e-02]],\n",
       "         dtype=torch.float64)],\n",
       " [tensor([[-10.0000,  -8.9474,  -7.8947,  -6.8421,  -5.7895,  -4.7368,  -3.6842,\n",
       "            -2.6316,  -1.5789,  -0.5263,   0.5263,   1.5789,   2.6316,   3.6842,\n",
       "             4.7368,   5.7895,   6.8421,   7.8947,   8.9474,  10.0000]],\n",
       "         dtype=torch.float64),\n",
       "  tensor([[-0.0933, -0.0191, -0.0445,  0.0422, -0.0368,  0.0016,  0.1981,  0.0225,\n",
       "            0.7437,  0.0011,  0.7437, -0.0011,  0.1981, -0.0225, -0.0368, -0.0016,\n",
       "           -0.0445, -0.0422, -0.0933,  0.0191]], dtype=torch.float64)],\n",
       " [tensor([[-10.0000,  -8.9474,  -7.8947,  -6.8421,  -5.7895,  -4.7368,  -3.6842,\n",
       "            -2.6316,  -1.5789,  -0.5263,   0.5263,   1.5789,   2.6316,   3.6842,\n",
       "             4.7368,   5.7895,   6.8421,   7.8947,   8.9474,  10.0000]],\n",
       "         dtype=torch.float64),\n",
       "  tensor([[ 0.0349, -0.0085, -0.0079, -0.0066,  0.0575, -0.0289,  0.1916, -0.0102,\n",
       "            0.7352, -0.0067,  0.7352,  0.0067,  0.1916,  0.0102,  0.0575,  0.0289,\n",
       "           -0.0079,  0.0066,  0.0349,  0.0085]], dtype=torch.float64)]]"
      ]
     },
     "execution_count": 222,
     "metadata": {},
     "output_type": "execute_result"
    }
   ],
   "source": [
    "a"
   ]
  },
  {
   "cell_type": "code",
   "execution_count": 223,
   "id": "5024595f",
   "metadata": {},
   "outputs": [
    {
     "data": {
      "text/plain": [
       "tensor([ 3.5664e-04, -2.7642e-02,  4.7218e-02, -5.2075e-02,  7.1624e-02,\n",
       "        -2.8895e-02,  2.5133e-01, -1.9294e-02,  7.6562e-01, -1.3361e-02,\n",
       "         7.6562e-01,  1.3361e-02,  2.5133e-01,  1.9294e-02,  7.1624e-02,\n",
       "         2.8895e-02,  4.7218e-02,  5.2075e-02,  3.5664e-04,  2.7642e-02],\n",
       "       dtype=torch.float64)"
      ]
     },
     "execution_count": 223,
     "metadata": {},
     "output_type": "execute_result"
    }
   ],
   "source": [
    "df = pd.DataFrame(a)\n",
    "features = df[0]\n",
    "labels = df[1]\n",
    "df[1][0][0]"
   ]
  },
  {
   "cell_type": "code",
   "execution_count": 224,
   "id": "c2e4b5a3",
   "metadata": {},
   "outputs": [],
   "source": [
    "def load_array(data_arrays, batch_size, is_train=True):  #@save\n",
    "    \"\"\"构造一个PyTorch数据迭代器\"\"\"\n",
    "    dataset = data.TensorDataset(*data_arrays)\n",
    "    return data.DataLoader(dataset, batch_size, shuffle=is_train)\n"
   ]
  },
  {
   "cell_type": "code",
   "execution_count": 225,
   "id": "c50d3ed4",
   "metadata": {},
   "outputs": [],
   "source": [
    "D_loader = data.DataLoader(a, 2, shuffle=False)"
   ]
  },
  {
   "cell_type": "code",
   "execution_count": 226,
   "id": "501b3fff",
   "metadata": {},
   "outputs": [
    {
     "data": {
      "text/plain": [
       "[tensor([[[-10.0000,  -8.9474,  -7.8947,  -6.8421,  -5.7895,  -4.7368,  -3.6842,\n",
       "            -2.6316,  -1.5789,  -0.5263,   0.5263,   1.5789,   2.6316,   3.6842,\n",
       "             4.7368,   5.7895,   6.8421,   7.8947,   8.9474,  10.0000]],\n",
       " \n",
       "         [[-10.0000,  -8.9474,  -7.8947,  -6.8421,  -5.7895,  -4.7368,  -3.6842,\n",
       "            -2.6316,  -1.5789,  -0.5263,   0.5263,   1.5789,   2.6316,   3.6842,\n",
       "             4.7368,   5.7895,   6.8421,   7.8947,   8.9474,  10.0000]]],\n",
       "        dtype=torch.float64),\n",
       " tensor([[[ 3.5664e-04, -2.7642e-02,  4.7218e-02, -5.2075e-02,  7.1624e-02,\n",
       "           -2.8895e-02,  2.5133e-01, -1.9294e-02,  7.6562e-01, -1.3361e-02,\n",
       "            7.6562e-01,  1.3361e-02,  2.5133e-01,  1.9294e-02,  7.1624e-02,\n",
       "            2.8895e-02,  4.7218e-02,  5.2075e-02,  3.5664e-04,  2.7642e-02]],\n",
       " \n",
       "         [[-7.6357e-03, -6.1904e-02, -2.9579e-02,  5.2716e-03,  4.5654e-02,\n",
       "            2.5023e-02,  2.3600e-01,  5.9027e-02,  7.3298e-01,  3.9399e-02,\n",
       "            7.3298e-01, -3.9399e-02,  2.3600e-01, -5.9027e-02,  4.5654e-02,\n",
       "           -2.5023e-02, -2.9579e-02, -5.2716e-03, -7.6357e-03,  6.1904e-02]]],\n",
       "        dtype=torch.float64)]"
      ]
     },
     "execution_count": 226,
     "metadata": {},
     "output_type": "execute_result"
    }
   ],
   "source": [
    "next(iter(D_loader)) "
   ]
  },
  {
   "cell_type": "code",
   "execution_count": 227,
   "id": "e79a1684",
   "metadata": {},
   "outputs": [],
   "source": [
    "# 初始化参数定义\n",
    "\n",
    "\n",
    "hidden_2, hidden_3 = 256, 256\n",
    "\n",
    "W1 = nn.Parameter(torch.randn(\n",
    "    num_feature, hidden_2, requires_grad=True,dtype = torch.float64) * 0.01)\n",
    "b1 = nn.Parameter(torch.zeros(hidden_2, requires_grad=True,dtype = torch.float64))\n",
    "\n",
    "W2 = nn.Parameter(torch.randn(\n",
    "    hidden_2, hidden_3, requires_grad=True,dtype = torch.float64) * 0.01)\n",
    "b2 = nn.Parameter(torch.zeros(hidden_3, requires_grad=True,dtype = torch.float64))\n",
    "\n",
    "W3 = nn.Parameter(torch.randn(\n",
    "    hidden_3, num_feature, requires_grad=True,dtype = torch.float64) * 0.01)\n",
    "b3 = nn.Parameter(torch.zeros(num_feature, requires_grad=True,dtype = torch.float64))\n",
    "\n",
    "\n",
    "params = [W1, b1, W2, b2, W3, b3]"
   ]
  },
  {
   "cell_type": "code",
   "execution_count": 228,
   "id": "e66615a1",
   "metadata": {},
   "outputs": [],
   "source": [
    "#激活函数\n",
    "def relu(X):\n",
    "    a = torch.zeros_like(X)\n",
    "    b = torch.max(X, a)\n",
    "    return torch.tensor(b,dtype = torch.float64)"
   ]
  },
  {
   "cell_type": "markdown",
   "id": "431bfd58",
   "metadata": {},
   "source": [
    "## $\\phi(t) = \\exp\\{\\frac{1}{20}\\sum_{j=1}^{40}(e^{itx_j}-1-itx\\mathbb{1}_{|x_j|\\leq 1})\\mathbf{\\nu}_\\theta(x_j)\\}$\n",
    "## $\\phi(t) = \\exp\\{\\frac{1}{20}\\mathbf{Y(X,T)}^T\\mathbf{\\nu}_\\theta(X)\\}$"
   ]
  },
  {
   "cell_type": "code",
   "execution_count": 229,
   "id": "0bde7355",
   "metadata": {},
   "outputs": [],
   "source": [
    "def net_1(X):\n",
    "    X_clone = X.clone()\n",
    "    X = X.reshape((-1, num_feature))\n",
    "    H1 = relu(X@W1 + b1)  # 这里“@”代表矩阵乘法\n",
    "    H2 = relu(H1@W2 + b2)\n",
    "    V = (H2@W3 + b3)\n",
    "    return V\n"
   ]
  },
  {
   "cell_type": "code",
   "execution_count": 279,
   "id": "964ffb5b",
   "metadata": {},
   "outputs": [],
   "source": [
    "def expcostx(x):\n",
    "    a = t.reshape((-1,1))@x.reshape((1,-1))\n",
    "    b = (torch.cos(a)-1)@net_1(x).reshape((-1,1))\n",
    "    c = torch.exp((range_feature*2/num_feature)*b)\n",
    "    return c\n",
    "def I(x):\n",
    "    I = torch.ones(x.shape,dtype=torch.float64)\n",
    "    y = torch.flatten(x)\n",
    "    for i in range(len(y)):\n",
    "        if x[i]>1:\n",
    "            I[i] = 0\n",
    "    return I\n",
    "    \n",
    "def sintx(x):\n",
    "    a1 = torch.sin(t.reshape((-1,1))@x.reshape((1,-1))) \n",
    "    return a1"
   ]
  },
  {
   "cell_type": "code",
   "execution_count": 282,
   "id": "c97285da",
   "metadata": {},
   "outputs": [
    {
     "data": {
      "text/plain": [
       "tensor([-10.0000,  -8.9474,  -7.8947,  -6.8421,  -5.7895,  -4.7368,  -3.6842,\n",
       "         -2.6316,  -1.5789,  -0.5263,   0.5263,   1.5789,   2.6316,   3.6842,\n",
       "          4.7368,   5.7895,   6.8421,   7.8947,   8.9474,  10.0000],\n",
       "       dtype=torch.float64)"
      ]
     },
     "execution_count": 282,
     "metadata": {},
     "output_type": "execute_result"
    }
   ],
   "source": [
    "torch.flatten(a[0][0])"
   ]
  },
  {
   "cell_type": "code",
   "execution_count": 286,
   "id": "f0526317",
   "metadata": {},
   "outputs": [
    {
     "data": {
      "text/plain": [
       "tensor([ 1, 10, 10, -1, 10, 10])"
      ]
     },
     "execution_count": 286,
     "metadata": {},
     "output_type": "execute_result"
    }
   ],
   "source": [
    "z = torch.tensor([1,2,3,-1,-2,-3])\n",
    "z[abs(z)>1]=10\n",
    "z"
   ]
  },
  {
   "cell_type": "code",
   "execution_count": 254,
   "id": "d081c2ac",
   "metadata": {},
   "outputs": [
    {
     "name": "stderr",
     "output_type": "stream",
     "text": [
      "/var/folders/ym/35040q6j5x912qskn704_hy80000gn/T/ipykernel_44486/2169779723.py:5: UserWarning: To copy construct from a tensor, it is recommended to use sourceTensor.clone().detach() or sourceTensor.clone().detach().requires_grad_(True), rather than torch.tensor(sourceTensor).\n",
      "  return torch.tensor(b,dtype = torch.float64)\n"
     ]
    },
    {
     "data": {
      "text/plain": [
       "tensor([[ 0.7638],\n",
       "        [ 0.6014],\n",
       "        [ 0.4390],\n",
       "        [ 0.2766],\n",
       "        [ 0.1143],\n",
       "        [-0.0481],\n",
       "        [-0.2105],\n",
       "        [-0.3729],\n",
       "        [-0.5353],\n",
       "        [-0.6977]], dtype=torch.float64, grad_fn=<MmBackward0>)"
      ]
     },
     "execution_count": 254,
     "metadata": {},
     "output_type": "execute_result"
    }
   ],
   "source": [
    "(costx(a[0][0])-1)@net_1(a[0][0]).reshape((-1,1))"
   ]
  },
  {
   "cell_type": "code",
   "execution_count": 177,
   "id": "4870ee3c",
   "metadata": {},
   "outputs": [],
   "source": [
    "# Levy-Khintchine representation\n",
    "def I(x):\n",
    "    I = torch.ones(x.shape,dtype=torch.float64)\n",
    "    x = abs(x)\n",
    "    for i in range(len(x)):\n",
    "        if x[i]>1:\n",
    "            I[i] = 0\n",
    "    return I\n",
    "# indicator function\n",
    "def z(x):\n",
    "    if abs(x)>1:\n",
    "        return 0 \n",
    "    else:\n",
    "        return 1\n",
    "def Euler_exp(x,t):\n",
    "    n = len(x)\n",
    "    m = len(t)\n",
    "    y = torch.zeros((m,n),dtype = torch.float64)\n",
    "    for i in range(m):\n",
    "        for j in range(n):\n",
    "            y[i][j]=torch.exp(x[j]*t[i]*1j)-1-1j*t[i]*x[j]*z(x[j])\n",
    "            \n",
    "#    s = torch.exp(1j*t.reshape((len(t),-1))@x.reshape((-1,len(x))))-1-1j*(t.reshape((len(t),-1))@x.reshape((-1,len(x))))@I(x).reshape((len(I(x)),-1))\n",
    "    return y "
   ]
  },
  {
   "cell_type": "code",
   "execution_count": 178,
   "id": "6d9d2247",
   "metadata": {},
   "outputs": [],
   "source": [
    "#网络定义\n",
    "\n",
    "def net(X):\n",
    "    X_clone = X.clone()\n",
    "    X = X.reshape((-1, num_feature))\n",
    "    H1 = relu(X@W1 + b1)  # 这里“@”代表矩阵乘法\n",
    "    H2 = relu(H1@W2 + b2)\n",
    "    V = (H2@W3 + b3)\n",
    "#    return V\n",
    "    Chf = Euler_exp(X_clone,t)@V.t()\n",
    "    re = Chf.real\n",
    "    im = Chf.imag\n",
    "    r = torch.zeros(labels.shape)\n",
    "    for i in range(len(Chf)):\n",
    "        r[i][0] = re[i]\n",
    "        r[i][1] = im[i]\n",
    "    return r\n"
   ]
  },
  {
   "cell_type": "code",
   "execution_count": 174,
   "id": "04875fac",
   "metadata": {},
   "outputs": [
    {
     "ename": "RuntimeError",
     "evalue": "expected scalar type Float but found ComplexFloat",
     "output_type": "error",
     "traceback": [
      "\u001b[0;31m---------------------------------------------------------------------------\u001b[0m",
      "\u001b[0;31mRuntimeError\u001b[0m                              Traceback (most recent call last)",
      "Cell \u001b[0;32mIn [174], line 1\u001b[0m\n\u001b[0;32m----> 1\u001b[0m \u001b[43mnet\u001b[49m\u001b[43m(\u001b[49m\u001b[43mx\u001b[49m\u001b[43m)\u001b[49m\n",
      "Cell \u001b[0;32mIn [172], line 6\u001b[0m, in \u001b[0;36mnet\u001b[0;34m(X)\u001b[0m\n\u001b[1;32m      4\u001b[0m X_clone \u001b[38;5;241m=\u001b[39m X\u001b[38;5;241m.\u001b[39mclone()\n\u001b[1;32m      5\u001b[0m X \u001b[38;5;241m=\u001b[39m X\u001b[38;5;241m.\u001b[39mreshape((\u001b[38;5;241m-\u001b[39m\u001b[38;5;241m1\u001b[39m, num_feature))\n\u001b[0;32m----> 6\u001b[0m H1 \u001b[38;5;241m=\u001b[39m relu(\u001b[43mX\u001b[49m\u001b[38;5;129;43m@W1\u001b[39;49m \u001b[38;5;241m+\u001b[39m b1)  \u001b[38;5;66;03m# 这里“@”代表矩阵乘法\u001b[39;00m\n\u001b[1;32m      7\u001b[0m H2 \u001b[38;5;241m=\u001b[39m relu(H1\u001b[38;5;129m@W2\u001b[39m \u001b[38;5;241m+\u001b[39m b2)\n\u001b[1;32m      8\u001b[0m V \u001b[38;5;241m=\u001b[39m (H2\u001b[38;5;129m@W3\u001b[39m \u001b[38;5;241m+\u001b[39m b3)\n",
      "\u001b[0;31mRuntimeError\u001b[0m: expected scalar type Float but found ComplexFloat"
     ]
    }
   ],
   "source": [
    "net(x)"
   ]
  },
  {
   "cell_type": "code",
   "execution_count": null,
   "id": "14d0d3cf",
   "metadata": {},
   "outputs": [],
   "source": []
  }
 ],
 "metadata": {
  "kernelspec": {
   "display_name": "Python 3 (ipykernel)",
   "language": "python",
   "name": "python3"
  },
  "language_info": {
   "codemirror_mode": {
    "name": "ipython",
    "version": 3
   },
   "file_extension": ".py",
   "mimetype": "text/x-python",
   "name": "python",
   "nbconvert_exporter": "python",
   "pygments_lexer": "ipython3",
   "version": "3.9.12"
  }
 },
 "nbformat": 4,
 "nbformat_minor": 5
}
