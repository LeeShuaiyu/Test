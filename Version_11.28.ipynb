{
 "cells": [
  {
   "cell_type": "code",
   "execution_count": 375,
   "id": "f22303fe",
   "metadata": {},
   "outputs": [],
   "source": [
    "#载入所需package\n",
    "import numpy as np\n",
    "import torch\n",
    "import math\n",
    "import pandas as pd\n",
    "import matplotlib.pyplot as plt\n",
    "import matplotlib.image as mping \n",
    "import cmath\n",
    "from torch import nn\n",
    "import random\n",
    "from torch.utils import data\n",
    "import copy\n",
    "from scipy.special import kv\n",
    "from scipy import integrate\n",
    "import seaborn as sns\n",
    "import matplotlib as mpl"
   ]
  },
  {
   "cell_type": "markdown",
   "id": "0ab16bc9",
   "metadata": {},
   "source": [
    "## Original Generator(para to specific-frequency)"
   ]
  },
  {
   "cell_type": "code",
   "execution_count": 376,
   "id": "474cef82",
   "metadata": {},
   "outputs": [],
   "source": [
    "#标准 generator\n",
    "class generator_t:\n",
    "    def __init__(self,df,mu = 0, sigma = 1,samplesize = 1000, h = 0.01):\n",
    "        self.df = df\n",
    "        self.mu = mu\n",
    "        self.sigma = sigma\n",
    "        self.samplesize = samplesize\n",
    "        self.frequency = h\n",
    "    @staticmethod\n",
    "    def cumulate(delta):\n",
    "        data = torch.zeros(np.shape(delta))\n",
    "        n = np.shape(delta)[0]\n",
    "        for i in range(n-1):\n",
    "            data[i+1] = data[i]+delta[i]\n",
    "        return np.array(data)\n",
    "    \n",
    "    def generate_standard_t(self):\n",
    "        d0 = np.random.standard_t(self.df, (self.samplesize,1))\n",
    "        d1 = self.cumulate(d0)\n",
    "        delta = torch.tensor(d0)\n",
    "        data = torch.tensor(d1)\n",
    "        delta.requires_grad_(True)  # 等价于x=torch.arange(4.0,requires_grad=True)\n",
    "        return delta,data"
   ]
  },
  {
   "cell_type": "code",
   "execution_count": 377,
   "id": "47f6df06",
   "metadata": {},
   "outputs": [],
   "source": [
    "class Characteristic_function:\n",
    "    def __init__(self,data):\n",
    "        self.data = data   \n",
    "    def ecf(self,t):\n",
    "        n = len(self.data)\n",
    "        if type(t)== int:\n",
    "            C = torch.zeros((n,1))\n",
    "            S = torch.zeros((n,1))\n",
    "            for i in range(n):\n",
    "                C[i] = math.cos(t*self.data[i])\n",
    "                S[i] = math.sin(t*self.data[i])\n",
    "            s = torch.mean(S)\n",
    "            c = torch.mean(C)\n",
    "            return c,s                \n",
    "        else:    \n",
    "            m = len(t)\n",
    "            R = []\n",
    "            for j in range(m):\n",
    "                S = []\n",
    "                C = []\n",
    "                for i in range(n):\n",
    "                    C = C+[math.cos(t[j]*self.data[i])]\n",
    "                    S = S+[math.sin(t[j]*self.data[i])]\n",
    "                #S = torch.tensor(S,dtype = torch.float64)\n",
    "                #C = torch.tensor(C,dtype = torch.float64)\n",
    "                s = sum(S)/len(S)\n",
    "                c = sum(C)/len(C)\n",
    "                R = R+[c]\n",
    "                R = R+[s]\n",
    "            #R = torch.tensor(R,dtype = torch.float64)\n",
    "        return R\n",
    "    def ecf_h(self,t):\n",
    "        n = len(self.data)\n",
    "        if type(t)== int:\n",
    "            C = torch.zeros((n,1))\n",
    "            S = torch.zeros((n,1))\n",
    "            for i in range(n):\n",
    "                C[i] = math.cos(t*self.data[i])\n",
    "                S[i] = math.sin(t*self.data[i])\n",
    "            s = torch.mean(S)\n",
    "            c = torch.mean(C)\n",
    "            return c,s                \n",
    "        else:    \n",
    "            m = len(t)\n",
    "            R = []\n",
    "            for j in range(m):\n",
    "                S = []\n",
    "                C = []\n",
    "                for i in range(n):\n",
    "                    C = C+[math.cos(t[j]*self.data[i])]\n",
    "                    S = S+[math.sin(t[j]*self.data[i])]\n",
    "                #S = torch.tensor(S,dtype = torch.float64)\n",
    "                #C = torch.tensor(C,dtype = torch.float64)\n",
    "                s = sum(S)/len(S)\n",
    "                c = sum(C)/len(C)\n",
    "                r = (math.sqrt(s**2+c**2))**h\n",
    "                theta = math.atan(s/c)*h\n",
    "                c_h = r*math.cos(theta)\n",
    "                s_h = r*math.sin(theta)\n",
    "                R = R+[c_h]\n",
    "                R = R+[s_h]\n",
    "            #R = torch.tensor(R,dtype = torch.float64)\n",
    "        return R\n",
    "    "
   ]
  },
  {
   "cell_type": "code",
   "execution_count": 378,
   "id": "b2bdf7a2",
   "metadata": {},
   "outputs": [],
   "source": [
    "class rejection_method:    \n",
    "    def __init__(self,h,n,v,mu = 0,sigma = 1):        \n",
    "        self.h = h\n",
    "        self.v = v\n",
    "        self.mu = mu\n",
    "        self.sigma = sigma\n",
    "        self.n = n\n",
    "    def phi_h(self,t):\n",
    "        phi_real = math.cos(t*self.mu)*((math.sqrt(self.v)*self.sigma*abs(t))**(self.v/2))/(2**(self.v/2-1)*math.gamma(self.v/2))*kv(self.v/2,math.sqrt(self.v)*self.sigma*abs(t))\n",
    "        phi_imag = math.sin(t*self.mu)*((math.sqrt(self.v)*self.sigma*abs(t))**(self.v/2))/(2**(self.v/2-1)*math.gamma(self.v/2))*kv(self.v/2,math.sqrt(self.v)*self.sigma*abs(t))\n",
    "        r = (math.sqrt(phi_real**2+phi_imag**2))**self.h\n",
    "        theta = math.atan(phi_imag/phi_real)*self.h\n",
    "        phi_real = r*math.cos(theta)\n",
    "        phi_imag = r*math.sin(theta)\n",
    "        phi_abs = math.sqrt(phi_real**2+phi_imag**2)\n",
    "        return phi_real, phi_imag, phi_abs\n",
    "    def f(self,x,t_lim=200,t_num=2000):\n",
    "        t = torch.linspace(-int(t_lim),int(t_lim),t_num)\n",
    "        intg = []\n",
    "        #因为密度是real的\n",
    "        for i in range(t_num):\n",
    "            r = self.phi_h(t[i])[0]\n",
    "            im = self.phi_h(t[i])[1]\n",
    "            intg += [math.cos(t[i]*x)*r+math.sin(t[i]*x)*im]\n",
    "        y = 1/(2*math.pi)*integrate.trapz(intg, t)\n",
    "        return y\n",
    "    def phi_abs0(self,t):\n",
    "        return self.phi_h(t)[2]\n",
    "    def phi_prime(self,t,delt = 0.01):\n",
    "        d_1 = (self.phi_h(t)[0]-self.phi_h(t+delt)[0])/delt\n",
    "        d_2 = (self.phi_h(t)[1]-self.phi_h(t+delt)[1])/delt\n",
    "        d_abs = math.sqrt(d_1**2+d_2**2)\n",
    "        return d_1,d_2\n",
    "    def phi_prime_prime(self,t,delt = 0.01):\n",
    "        d_1 = (self.phi_prime(t)[0]-self.phi_prime(t+delt)[0])/delt\n",
    "        d_2 = (self.phi_prime(t)[1]-self.phi_prime(t+delt)[1])/delt\n",
    "        d_abs = math.sqrt(d_1**2+d_2**2)\n",
    "        return d_1,d_2,d_abs  \n",
    "    def phi_abs2(self,t):\n",
    "        return self.phi_prime_prime(t)[2]\n",
    "    def integ(self,domain = 100,ndots = 500):\n",
    "        t = torch.linspace(-int(domain),int(domain),ndots)\n",
    "        intg_0 = []\n",
    "        intg_2 = []\n",
    "        for i in range(len(t)):\n",
    "            intg_0 += [self.phi_abs0(t[i])]\n",
    "        c = 1/(2*math.pi)*integrate.trapz(intg_0, t)\n",
    "        for i in range(len(t)):\n",
    "            intg_2 += [self.phi_abs2(t[i])]\n",
    "        k = 1/(2*math.pi)*integrate.trapz(intg_2, t)\n",
    "        return c,k\n",
    "    def hat_function(self,x):        \n",
    "        c,k = self.integ()\n",
    "        g = min(c,k/(x**2))\n",
    "        return g\n",
    "\n",
    "    def genertator(self):\n",
    "        total = 25*self.n\n",
    "        V_1 = np.random.uniform(-1,1,total)\n",
    "        V_2 = np.random.uniform(-1,1,total)\n",
    "        c,k = self.integ()\n",
    "        X = []\n",
    "        for i in range(total):\n",
    "            y = math.sqrt(k/c)*(V_1[i]/V_2[i])\n",
    "            U = np.random.uniform(-1,1)            \n",
    "            if len(X) >=self.n:\n",
    "                break\n",
    "                \n",
    "            elif U<= (self.f(y)/self.hat_function(y)):\n",
    "                X+=[y]\n",
    "            else:\n",
    "                continue\n",
    "        return X\n",
    "        \n",
    "    @staticmethod\n",
    "    def cumulate(delta):\n",
    "        data = torch.zeros(np.shape(delta))\n",
    "        n = np.shape(delta)[0]\n",
    "        for i in range(n-1):\n",
    "            data[i+1] = data[i]+delta[i]\n",
    "        return np.array(data)    "
   ]
  },
  {
   "cell_type": "code",
   "execution_count": 379,
   "id": "5043021e",
   "metadata": {},
   "outputs": [
    {
     "data": {
      "text/plain": [
       "[<matplotlib.lines.Line2D at 0x7fd9007e5b50>]"
      ]
     },
     "execution_count": 379,
     "metadata": {},
     "output_type": "execute_result"
    },
    {
     "data": {
      "image/png": "[encoded data removed]",
      "text/plain": [
       "<Figure size 640x480 with 1 Axes>"
      ]
     },
     "metadata": {},
     "output_type": "display_data"
    }
   ],
   "source": [
    "rm = rejection_method(h = 2,n = 1000,v =3)\n",
    "num_t = 200\n",
    "range_t = 100\n",
    "t = torch.linspace(-range_t,range_t,num_t,dtype = torch.float64)\n",
    "intg_0 = []\n",
    "for i in range(len(t)):\n",
    "    intg_0 += [rm.phi_abs0(t[i])]\n",
    "plt.plot(t,intg_0)"
   ]
  },
  {
   "cell_type": "code",
   "execution_count": 380,
   "id": "0856b41a",
   "metadata": {},
   "outputs": [],
   "source": [
    "x = rm.genertator()\n"
   ]
  },
  {
   "cell_type": "code",
   "execution_count": 381,
   "id": "799e90de",
   "metadata": {},
   "outputs": [
    {
     "data": {
      "text/plain": [
       "939"
      ]
     },
     "execution_count": 381,
     "metadata": {},
     "output_type": "execute_result"
    }
   ],
   "source": [
    "X = torch.tensor(x)\n",
    "x_show = []\n",
    "for i in range(len(x)):\n",
    "    if abs(x[i])<7:\n",
    "        x_show+=[x[i]]\n",
    "len(x_show)"
   ]
  },
  {
   "cell_type": "code",
   "execution_count": 382,
   "id": "6e552ec2",
   "metadata": {
    "scrolled": true
   },
   "outputs": [
    {
     "data": {
      "image/png": "[encoded data removed]",
      "text/plain": [
       "<Figure size 500x500 with 1 Axes>"
      ]
     },
     "metadata": {},
     "output_type": "display_data"
    }
   ],
   "source": [
    "fig = sns.displot(data = x_show,kind = 'hist',kde = \"TRUE\")\n"
   ]
  },
  {
   "cell_type": "code",
   "execution_count": 293,
   "id": "d46f8d96",
   "metadata": {},
   "outputs": [
    {
     "data": {
      "text/plain": [
       "[<matplotlib.lines.Line2D at 0x7fd8e8742ee0>]"
      ]
     },
     "execution_count": 293,
     "metadata": {},
     "output_type": "execute_result"
    },
    {
     "data": {
      "image/png": "[encoded data removed]",
      "text/plain": [
       "<Figure size 640x480 with 1 Axes>"
      ]
     },
     "metadata": {},
     "output_type": "display_data"
    }
   ],
   "source": [
    "path = rm.cumulate(x)\n",
    "plt.plot(path)"
   ]
  },
  {
   "cell_type": "markdown",
   "id": "7cb881a0",
   "metadata": {},
   "source": [
    "## frequency changing "
   ]
  },
  {
   "cell_type": "code",
   "execution_count": 294,
   "id": "d7a9abe0",
   "metadata": {},
   "outputs": [],
   "source": [
    "class Characteristic_function:\n",
    "    def __init__(self,data):\n",
    "        self.data = data   \n",
    "    def ecf(self,t):\n",
    "        n = len(self.data)\n",
    "        if type(t)== int:\n",
    "            C = torch.zeros((n,1))\n",
    "            S = torch.zeros((n,1))\n",
    "            for i in range(n):\n",
    "                C[i] = math.cos(t*self.data[i])\n",
    "                S[i] = math.sin(t*self.data[i])\n",
    "            s = torch.mean(S)\n",
    "            c = torch.mean(C)\n",
    "            return c,s                \n",
    "        else:    \n",
    "            m = len(t)\n",
    "            R = []\n",
    "            for j in range(m):\n",
    "                S = []\n",
    "                C = []\n",
    "                for i in range(n):\n",
    "                    C = C+[math.cos(t[j]*self.data[i])]\n",
    "                    S = S+[math.sin(t[j]*self.data[i])]\n",
    "                #S = torch.tensor(S,dtype = torch.float64)\n",
    "                #C = torch.tensor(C,dtype = torch.float64)\n",
    "                s = sum(S)/len(S)\n",
    "                c = sum(C)/len(C)\n",
    "                R = R+[c]\n",
    "                R = R+[s]\n",
    "            #R = torch.tensor(R,dtype = torch.float64)\n",
    "        return R\n",
    "    def ecf_h(self,t,h):\n",
    "        n = len(self.data)\n",
    "        if type(t)== int:\n",
    "            C = torch.zeros((n,1))\n",
    "            S = torch.zeros((n,1))\n",
    "            for i in range(n):\n",
    "                C[i] = math.cos(t*self.data[i])\n",
    "                S[i] = math.sin(t*self.data[i])\n",
    "            s = torch.mean(S)\n",
    "            c = torch.mean(C)\n",
    "            r = math.sqrt(s**2+c**2)**h\n",
    "            theta = math.atan(s/c)*h\n",
    "            s = math.sin(theta)*r\n",
    "            c = math.cos(theta)*r\n",
    "            return c,s                \n",
    "        else:    \n",
    "            m = len(t)\n",
    "            R = []\n",
    "            for j in range(m):\n",
    "                S = []\n",
    "                C = []\n",
    "                for i in range(n):\n",
    "                    C = C+[math.cos(t[j]*self.data[i])]\n",
    "                    S = S+[math.sin(t[j]*self.data[i])]\n",
    "                #S = torch.tensor(S,dtype = torch.float64)\n",
    "                #C = torch.tensor(C,dtype = torch.float64)\n",
    "                s = sum(S)/len(S)\n",
    "                c = sum(C)/len(C)\n",
    "                r = math.sqrt(s**2+c**2)**h\n",
    "                theta = math.atan(s/c)*h\n",
    "                s = math.sin(theta)*r\n",
    "                c = math.cos(theta)*r\n",
    "                R = R+[c]\n",
    "                R = R+[s]\n",
    "            #R = torch.tensor(R,dtype = torch.float64)\n",
    "        return R\n"
   ]
  },
  {
   "cell_type": "code",
   "execution_count": 372,
   "id": "c85f3116",
   "metadata": {},
   "outputs": [],
   "source": [
    "num_feature = 100\n",
    "range_feature = 20\n",
    "num_sample = 100\n",
    "num_labels = num_t\n",
    "total = num_sample*num_feature\n",
    "#t = t.reshape((-1,len(t)))\n",
    "feat = torch.linspace(-range_feature,range_feature,num_feature,dtype = torch.float64)"
   ]
  },
  {
   "cell_type": "code",
   "execution_count": 373,
   "id": "46c9abc8",
   "metadata": {},
   "outputs": [
    {
     "name": "stdout",
     "output_type": "stream",
     "text": [
      "100 20 100 200 10000 200 100\n"
     ]
    }
   ],
   "source": [
    "print(num_feature,range_feature,num_sample,num_labels,total,num_t,range_t)"
   ]
  },
  {
   "cell_type": "code",
   "execution_count": 374,
   "id": "04cccba1",
   "metadata": {},
   "outputs": [
    {
     "ename": "ValueError",
     "evalue": "only one element tensors can be converted to Python scalars",
     "output_type": "error",
     "traceback": [
      "\u001b[0;31m---------------------------------------------------------------------------\u001b[0m",
      "\u001b[0;31mValueError\u001b[0m                                Traceback (most recent call last)",
      "Cell \u001b[0;32mIn [374], line 3\u001b[0m\n\u001b[1;32m      1\u001b[0m \u001b[38;5;66;03m#实例化(V =3)\u001b[39;00m\n\u001b[1;32m      2\u001b[0m CF \u001b[38;5;241m=\u001b[39m Characteristic_function(x)\n\u001b[0;32m----> 3\u001b[0m labels \u001b[38;5;241m=\u001b[39m \u001b[43mCF\u001b[49m\u001b[38;5;241;43m.\u001b[39;49m\u001b[43mecf_h\u001b[49m\u001b[43m(\u001b[49m\u001b[43mt\u001b[49m\u001b[43m,\u001b[49m\u001b[38;5;241;43m0.01\u001b[39;49m\u001b[43m)\u001b[49m\n",
      "Cell \u001b[0;32mIn [294], line 54\u001b[0m, in \u001b[0;36mCharacteristic_function.ecf_h\u001b[0;34m(self, t, h)\u001b[0m\n\u001b[1;32m     52\u001b[0m C \u001b[38;5;241m=\u001b[39m []\n\u001b[1;32m     53\u001b[0m \u001b[38;5;28;01mfor\u001b[39;00m i \u001b[38;5;129;01min\u001b[39;00m \u001b[38;5;28mrange\u001b[39m(n):\n\u001b[0;32m---> 54\u001b[0m     C \u001b[38;5;241m=\u001b[39m C\u001b[38;5;241m+\u001b[39m[\u001b[43mmath\u001b[49m\u001b[38;5;241;43m.\u001b[39;49m\u001b[43mcos\u001b[49m\u001b[43m(\u001b[49m\u001b[43mt\u001b[49m\u001b[43m[\u001b[49m\u001b[43mj\u001b[49m\u001b[43m]\u001b[49m\u001b[38;5;241;43m*\u001b[39;49m\u001b[38;5;28;43mself\u001b[39;49m\u001b[38;5;241;43m.\u001b[39;49m\u001b[43mdata\u001b[49m\u001b[43m[\u001b[49m\u001b[43mi\u001b[49m\u001b[43m]\u001b[49m\u001b[43m)\u001b[49m]\n\u001b[1;32m     55\u001b[0m     S \u001b[38;5;241m=\u001b[39m S\u001b[38;5;241m+\u001b[39m[math\u001b[38;5;241m.\u001b[39msin(t[j]\u001b[38;5;241m*\u001b[39m\u001b[38;5;28mself\u001b[39m\u001b[38;5;241m.\u001b[39mdata[i])]\n\u001b[1;32m     56\u001b[0m \u001b[38;5;66;03m#S = torch.tensor(S,dtype = torch.float64)\u001b[39;00m\n\u001b[1;32m     57\u001b[0m \u001b[38;5;66;03m#C = torch.tensor(C,dtype = torch.float64)\u001b[39;00m\n",
      "\u001b[0;31mValueError\u001b[0m: only one element tensors can be converted to Python scalars"
     ]
    }
   ],
   "source": [
    "#实例化(V =3)\n",
    "CF = Characteristic_function(x)\n",
    "labels = CF.ecf_h(t,0.01)"
   ]
  },
  {
   "cell_type": "code",
   "execution_count": 307,
   "id": "83484c48",
   "metadata": {},
   "outputs": [],
   "source": [
    "a = []\n",
    "features = []\n",
    "label = []\n",
    "for i in range(num_sample):\n",
    "    label+=labels\n",
    "    features+=feat\n"
   ]
  },
  {
   "cell_type": "code",
   "execution_count": 312,
   "id": "3b21428e",
   "metadata": {
    "scrolled": true
   },
   "outputs": [
    {
     "name": "stderr",
     "output_type": "stream",
     "text": [
      "/var/folders/ym/35040q6j5x912qskn704_hy80000gn/T/ipykernel_26788/2715700207.py:2: UserWarning: To copy construct from a tensor, it is recommended to use sourceTensor.clone().detach() or sourceTensor.clone().detach().requires_grad_(True), rather than torch.tensor(sourceTensor).\n",
      "  features = torch.tensor(features,dtype = torch.float64).reshape((-1,num_feature))\n"
     ]
    }
   ],
   "source": [
    "labels =labels.reshape((-1,2*num_labels))\n",
    "features = torch.tensor(features,dtype = torch.float64).reshape((-1,num_feature))"
   ]
  },
  {
   "cell_type": "code",
   "execution_count": 342,
   "id": "6778fde7",
   "metadata": {},
   "outputs": [
    {
     "data": {
      "text/plain": [
       "torch.Size([10, 400])"
      ]
     },
     "execution_count": 342,
     "metadata": {},
     "output_type": "execute_result"
    }
   ],
   "source": [
    "labels.shape"
   ]
  },
  {
   "cell_type": "code",
   "execution_count": 313,
   "id": "fef8ae0b",
   "metadata": {},
   "outputs": [],
   "source": [
    "def load_array(data_arrays, batch_size, is_train=True):  #@save\n",
    "    \"\"\"构造一个PyTorch数据迭代器\"\"\"\n",
    "    dataset = data.TensorDataset(*data_arrays)\n",
    "    return data.DataLoader(dataset, batch_size, shuffle=is_train)\n",
    "batch_size = 1\n",
    "D_loader = load_array((features,labels), batch_size)"
   ]
  },
  {
   "cell_type": "code",
   "execution_count": null,
   "id": "93c52539",
   "metadata": {},
   "outputs": [],
   "source": []
  },
  {
   "cell_type": "code",
   "execution_count": 348,
   "id": "c22c5cf1",
   "metadata": {},
   "outputs": [
    {
     "data": {
      "text/plain": [
       "torch.Size([1, 400])"
      ]
     },
     "execution_count": 348,
     "metadata": {},
     "output_type": "execute_result"
    }
   ],
   "source": [
    "next(iter(D_loader))[1].shape"
   ]
  },
  {
   "cell_type": "code",
   "execution_count": 315,
   "id": "ca1350e4",
   "metadata": {},
   "outputs": [],
   "source": [
    "# 初始化参数定义\n",
    "\n",
    "\n",
    "hidden_2, hidden_3 = 256, 256\n",
    "\n",
    "W1 = nn.Parameter(torch.randn(\n",
    "    num_feature, hidden_2, requires_grad=True,dtype = torch.float64) * 0.01)\n",
    "b1 = nn.Parameter(torch.zeros(hidden_2, requires_grad=True,dtype = torch.float64))\n",
    "\n",
    "W2 = nn.Parameter(torch.randn(\n",
    "    hidden_2, hidden_3, requires_grad=True,dtype = torch.float64) * 0.01)\n",
    "b2 = nn.Parameter(torch.zeros(hidden_3, requires_grad=True,dtype = torch.float64))\n",
    "\n",
    "W3 = nn.Parameter(torch.randn(\n",
    "    hidden_3, num_feature, requires_grad=True,dtype = torch.float64) * 0.01)\n",
    "b3 = nn.Parameter(torch.zeros(num_feature, requires_grad=True,dtype = torch.float64))\n",
    "\n",
    "\n",
    "params = [W1, b1, W2, b2, W3, b3]"
   ]
  },
  {
   "cell_type": "code",
   "execution_count": 316,
   "id": "c7ae6b1d",
   "metadata": {},
   "outputs": [],
   "source": [
    "#激活函数\n",
    "def relu(X):\n",
    "    a = torch.zeros_like(X)\n",
    "    b = torch.max(X, a)\n",
    "    return torch.tensor(b,dtype = torch.float64)"
   ]
  },
  {
   "cell_type": "code",
   "execution_count": 363,
   "id": "384ee69a",
   "metadata": {},
   "outputs": [],
   "source": [
    "def expcostx(x,V):\n",
    "    a = t.reshape((-1,1))@x.reshape((1,-1))\n",
    "    b = (torch.cos(a)-1)@V.reshape((-1,1))\n",
    "    c = torch.exp((range_feature*2/num_feature)*b)\n",
    "    return c\n",
    "def I(x):\n",
    "    y = copy.deepcopy(x)\n",
    "    y[abs(x)>1]=0\n",
    "    return y\n",
    "    \n",
    "def realtx(x,V):\n",
    "    #x = torch.tensor(x,dtype = torch.float64)\n",
    "    a1 = torch.sin(t.reshape((-1,1))@x.reshape((1,-1))) \n",
    "    a2 = t.reshape((-1,1))@I(x).reshape((1,-1))\n",
    "    a3 = a1+a2\n",
    "    a4 = a3@V.reshape((-1,1))\n",
    "    a5 = (range_feature*2/num_feature)*a4\n",
    "    a6 = torch.cos(a5)\n",
    "    return a6\n",
    "def imagetx(x,V):\n",
    "    #x = torch.tensor(x,dtype = torch.float64)\n",
    "    a1 = torch.sin(t.reshape((-1,1))@x.reshape((1,-1))) \n",
    "    a2 = t.reshape((-1,1))@I(x).reshape((1,-1))\n",
    "    a3 = a1+a2\n",
    "    a4 = a3@V.reshape((-1,1))\n",
    "    a5 = (range_feature*2/num_feature)*a4\n",
    "    a6 = torch.sin(a5)\n",
    "    return a6"
   ]
  },
  {
   "cell_type": "code",
   "execution_count": 364,
   "id": "d5ec39fe",
   "metadata": {},
   "outputs": [
    {
     "name": "stderr",
     "output_type": "stream",
     "text": [
      "/var/folders/ym/35040q6j5x912qskn704_hy80000gn/T/ipykernel_26788/2169779723.py:5: UserWarning: To copy construct from a tensor, it is recommended to use sourceTensor.clone().detach() or sourceTensor.clone().detach().requires_grad_(True), rather than torch.tensor(sourceTensor).\n",
      "  return torch.tensor(b,dtype = torch.float64)\n"
     ]
    },
    {
     "data": {
      "text/plain": [
       "tensor([[ 0.1296,  0.1737,  0.1312,  0.1649,  0.1097,  0.1483,  0.0790,  0.1255,\n",
       "          0.0173,  0.1155, -0.0424,  0.0830, -0.0853,  0.0088, -0.0518, -0.0772,\n",
       "          0.0265, -0.1102,  0.0969, -0.0932,  0.1506, -0.0694,  0.1956, -0.0638,\n",
       "          0.2358, -0.0614,  0.2666, -0.0607,  0.2371, -0.0612,  0.2300, -0.0247,\n",
       "          0.2226,  0.0425,  0.1111,  0.1171,  0.0124,  0.1322, -0.0688,  0.0854,\n",
       "         -0.0924,  0.0430, -0.1017,  0.0070, -0.0678, -0.0010, -0.0999, -0.0145,\n",
       "         -0.0957, -0.0400, -0.0884, -0.0888, -0.0569, -0.1430,  0.0487, -0.1797,\n",
       "          0.1178, -0.1556,  0.1597, -0.0701,  0.1503, -0.0349,  0.1637, -0.0347,\n",
       "          0.1575, -0.0280,  0.1405, -0.0032,  0.1229,  0.0166,  0.0939,  0.0626,\n",
       "          0.0367,  0.1011, -0.0492,  0.0823, -0.1409,  0.0314, -0.1165, -0.0498,\n",
       "         -0.0874, -0.1030, -0.0686, -0.1489, -0.0524, -0.1690, -0.0362, -0.1723,\n",
       "         -0.0399, -0.1862, -0.0089, -0.1722,  0.0561, -0.1420,  0.1156, -0.0974,\n",
       "          0.1218,  0.0083,  0.0912,  0.0829,  0.0267,  0.1284, -0.0218,  0.1417,\n",
       "         -0.0546,  0.1257, -0.0131,  0.0305, -0.0585,  0.1212, -0.0781,  0.1152,\n",
       "         -0.1205,  0.1055, -0.1456,  0.0646, -0.1424, -0.0233, -0.1025, -0.0735,\n",
       "         -0.0308, -0.1060,  0.0255, -0.0982,  0.0540, -0.0891,  0.0631, -0.0792,\n",
       "          0.0843, -0.0625,  0.1060, -0.0515,  0.1284, -0.0074,  0.1308,  0.0654,\n",
       "          0.0644,  0.1240,  0.0033,  0.1998, -0.0645,  0.1469, -0.1040,  0.1041,\n",
       "         -0.1291,  0.0781, -0.1181,  0.0501, -0.1041,  0.0230, -0.1073,  0.0164,\n",
       "         -0.0995, -0.0267, -0.0494, -0.0783,  0.0150, -0.0945,  0.0789, -0.0573,\n",
       "          0.1258,  0.0004,  0.1494,  0.0697,  0.1491,  0.1172,  0.1272,  0.1256,\n",
       "          0.0169,  0.0136,  0.1464,  0.0999,  0.1469,  0.1148,  0.1208,  0.1357,\n",
       "          0.0592,  0.1302, -0.0163,  0.1039, -0.0634,  0.0616, -0.0802, -0.0012,\n",
       "         -0.0559, -0.0595, -0.0221, -0.0798, -0.0105, -0.0819,  0.0139, -0.0995,\n",
       "          0.0394, -0.1242,  0.0830, -0.1211,  0.1473, -0.0955,  0.1933, -0.0296,\n",
       "          0.1933,  0.0296,  0.1473,  0.0955,  0.0830,  0.1211,  0.0394,  0.1242,\n",
       "          0.0139,  0.0995, -0.0105,  0.0819, -0.0221,  0.0798, -0.0559,  0.0595,\n",
       "         -0.0802,  0.0012, -0.0634, -0.0616, -0.0163, -0.1039,  0.0592, -0.1302,\n",
       "          0.1208, -0.1357,  0.1469, -0.1148,  0.1464, -0.0999,  0.0169, -0.0136,\n",
       "          0.1272, -0.1256,  0.1491, -0.1172,  0.1494, -0.0697,  0.1258, -0.0004,\n",
       "          0.0789,  0.0573,  0.0150,  0.0945, -0.0494,  0.0783, -0.0995,  0.0267,\n",
       "         -0.1073, -0.0164, -0.1041, -0.0230, -0.1181, -0.0501, -0.1291, -0.0781,\n",
       "         -0.1040, -0.1041, -0.0645, -0.1469,  0.0033, -0.1998,  0.0644, -0.1240,\n",
       "          0.1308, -0.0654,  0.1284,  0.0074,  0.1060,  0.0515,  0.0843,  0.0625,\n",
       "          0.0631,  0.0792,  0.0540,  0.0891,  0.0255,  0.0982, -0.0308,  0.1060,\n",
       "         -0.1025,  0.0735, -0.1424,  0.0233, -0.1456, -0.0646, -0.1205, -0.1055,\n",
       "         -0.0781, -0.1152, -0.0585, -0.1212, -0.0131, -0.0305, -0.0546, -0.1257,\n",
       "         -0.0218, -0.1417,  0.0267, -0.1284,  0.0912, -0.0829,  0.1218, -0.0083,\n",
       "          0.1156,  0.0974,  0.0561,  0.1420, -0.0089,  0.1722, -0.0399,  0.1862,\n",
       "         -0.0362,  0.1723, -0.0524,  0.1690, -0.0686,  0.1489, -0.0874,  0.1030,\n",
       "         -0.1165,  0.0498, -0.1409, -0.0314, -0.0492, -0.0823,  0.0367, -0.1011,\n",
       "          0.0939, -0.0626,  0.1229, -0.0166,  0.1405,  0.0032,  0.1575,  0.0280,\n",
       "          0.1637,  0.0347,  0.1503,  0.0349,  0.1597,  0.0701,  0.1178,  0.1556,\n",
       "          0.0487,  0.1797, -0.0569,  0.1430, -0.0884,  0.0888, -0.0957,  0.0400,\n",
       "         -0.0999,  0.0145, -0.0678,  0.0010, -0.1017, -0.0070, -0.0924, -0.0430,\n",
       "         -0.0688, -0.0854,  0.0124, -0.1322,  0.1111, -0.1171,  0.2226, -0.0425,\n",
       "          0.2300,  0.0247,  0.2371,  0.0612,  0.2666,  0.0607,  0.2358,  0.0614,\n",
       "          0.1956,  0.0638,  0.1506,  0.0694,  0.0969,  0.0932,  0.0265,  0.1102,\n",
       "         -0.0518,  0.0772, -0.0853, -0.0088, -0.0424, -0.0830,  0.0173, -0.1155,\n",
       "          0.0790, -0.1255,  0.1097, -0.1483,  0.1312, -0.1649,  0.1296, -0.1737]],\n",
       "       dtype=torch.float64, grad_fn=<ReshapeAliasBackward0>)"
      ]
     },
     "execution_count": 364,
     "metadata": {},
     "output_type": "execute_result"
    }
   ],
   "source": [
    "net_1(features[0])"
   ]
  },
  {
   "cell_type": "code",
   "execution_count": 365,
   "id": "7ec54496",
   "metadata": {},
   "outputs": [
    {
     "data": {
      "text/plain": [
       "torch.Size([100])"
      ]
     },
     "execution_count": 365,
     "metadata": {},
     "output_type": "execute_result"
    }
   ],
   "source": [
    "features[0].shape"
   ]
  },
  {
   "cell_type": "code",
   "execution_count": 366,
   "id": "b12a4cbc",
   "metadata": {},
   "outputs": [],
   "source": [
    "def net_1(X):\n",
    "    X_clone = X.clone()\n",
    "    X = X.reshape((-1, num_feature))\n",
    "    H1 = relu(X@W1 + b1)  # 这里“@”代表矩阵乘法\n",
    "    H2 = relu(H1@W2 + b2)\n",
    "    V = (H2@W3 + b3)\n",
    "    R_1 = expcostx(X,V)*realtx(x,V)\n",
    "    R_2 = expcostx(X,V)*imagetx(x,V)\n",
    "    R = torch.cat((R_1,R_2),1).reshape((1,-1))\n",
    "    return R\n"
   ]
  },
  {
   "cell_type": "code",
   "execution_count": 367,
   "id": "a70085e6",
   "metadata": {},
   "outputs": [
    {
     "name": "stderr",
     "output_type": "stream",
     "text": [
      "/var/folders/ym/35040q6j5x912qskn704_hy80000gn/T/ipykernel_26788/2169779723.py:5: UserWarning: To copy construct from a tensor, it is recommended to use sourceTensor.clone().detach() or sourceTensor.clone().detach().requires_grad_(True), rather than torch.tensor(sourceTensor).\n",
      "  return torch.tensor(b,dtype = torch.float64)\n"
     ]
    }
   ],
   "source": [
    "H0 =  features[0].reshape((-1, num_feature))\n",
    "H1 = relu(H0@W1 + b1)\n",
    "H2 = relu(H1@W2 + b2)\n",
    "V = (H2@W3 + b3)\n",
    "a = t.reshape((-1,1))@features[0].reshape((-1,num_feature))"
   ]
  },
  {
   "cell_type": "code",
   "execution_count": 368,
   "id": "de7f792b",
   "metadata": {},
   "outputs": [],
   "source": [
    "loss = nn.MSELoss()"
   ]
  },
  {
   "cell_type": "code",
   "execution_count": 369,
   "id": "b9122a4f",
   "metadata": {},
   "outputs": [],
   "source": [
    "def sgd(params, lr, batch_size):  #@save\n",
    "    \"\"\"小批量随机梯度下降\"\"\"\n",
    "    with torch.no_grad():\n",
    "        for param in params:\n",
    "            param -= lr * param.grad / batch_size\n",
    "            param.grad.zero_()"
   ]
  },
  {
   "cell_type": "code",
   "execution_count": 370,
   "id": "fa233f8d",
   "metadata": {},
   "outputs": [],
   "source": [
    "lr = 0.02\n",
    "num_epochs = int(num_sample/batch_size)\n",
    "net = net_1\n",
    "loss = nn.MSELoss()\n",
    "\n",
    "trainer = torch.optim.SGD(params, lr=0.03)"
   ]
  },
  {
   "cell_type": "code",
   "execution_count": 371,
   "id": "f8975fbd",
   "metadata": {},
   "outputs": [
    {
     "name": "stdout",
     "output_type": "stream",
     "text": [
      "epoch 1, loss 0.443206\n",
      "epoch 2, loss 0.438450\n",
      "epoch 3, loss 0.432510\n",
      "epoch 4, loss 0.505179\n",
      "epoch 5, loss 0.478185\n",
      "epoch 6, loss 0.448303\n",
      "epoch 7, loss 0.448179\n",
      "epoch 8, loss 0.445767\n",
      "epoch 9, loss 0.442444\n",
      "epoch 10, loss 0.438674\n"
     ]
    },
    {
     "name": "stderr",
     "output_type": "stream",
     "text": [
      "/var/folders/ym/35040q6j5x912qskn704_hy80000gn/T/ipykernel_26788/2169779723.py:5: UserWarning: To copy construct from a tensor, it is recommended to use sourceTensor.clone().detach() or sourceTensor.clone().detach().requires_grad_(True), rather than torch.tensor(sourceTensor).\n",
      "  return torch.tensor(b,dtype = torch.float64)\n"
     ]
    }
   ],
   "source": [
    "for epoch in range(num_epochs):\n",
    "    for X, y in D_loader:\n",
    "        l = loss(net_1(X) ,y)\n",
    "        trainer.zero_grad()\n",
    "        l.backward()\n",
    "        trainer.step()\n",
    "    l = loss(net(X), y)\n",
    "    print(f'epoch {epoch + 1}, loss {l:f}')"
   ]
  },
  {
   "cell_type": "markdown",
   "id": "9422ae73",
   "metadata": {},
   "source": [
    "## visualized characteristic function(real)"
   ]
  },
  {
   "cell_type": "code",
   "execution_count": 362,
   "id": "3453f2d6",
   "metadata": {},
   "outputs": [
    {
     "ename": "ValueError",
     "evalue": "x and y must have same first dimension, but have shapes torch.Size([200]) and torch.Size([50])",
     "output_type": "error",
     "traceback": [
      "\u001b[0;31m---------------------------------------------------------------------------\u001b[0m",
      "\u001b[0;31mValueError\u001b[0m                                Traceback (most recent call last)",
      "Cell \u001b[0;32mIn [362], line 9\u001b[0m\n\u001b[1;32m      7\u001b[0m         image[\u001b[38;5;28mint\u001b[39m((i\u001b[38;5;241m+\u001b[39m\u001b[38;5;241m1\u001b[39m)\u001b[38;5;241m/\u001b[39m\u001b[38;5;241m2\u001b[39m)] \u001b[38;5;241m=\u001b[39m labels[\u001b[38;5;241m0\u001b[39m][i]\n\u001b[1;32m      8\u001b[0m real \u001b[38;5;241m=\u001b[39m real[\u001b[38;5;241m0\u001b[39m:\u001b[38;5;241m50\u001b[39m]\n\u001b[0;32m----> 9\u001b[0m \u001b[43mplt\u001b[49m\u001b[38;5;241;43m.\u001b[39;49m\u001b[43mplot\u001b[49m\u001b[43m(\u001b[49m\u001b[43mt\u001b[49m\u001b[43m,\u001b[49m\u001b[43mreal\u001b[49m\u001b[43m)\u001b[49m\n",
      "File \u001b[0;32m~/opt/anaconda3/lib/python3.9/site-packages/matplotlib/pyplot.py:2757\u001b[0m, in \u001b[0;36mplot\u001b[0;34m(scalex, scaley, data, *args, **kwargs)\u001b[0m\n\u001b[1;32m   2755\u001b[0m \u001b[38;5;129m@_copy_docstring_and_deprecators\u001b[39m(Axes\u001b[38;5;241m.\u001b[39mplot)\n\u001b[1;32m   2756\u001b[0m \u001b[38;5;28;01mdef\u001b[39;00m \u001b[38;5;21mplot\u001b[39m(\u001b[38;5;241m*\u001b[39margs, scalex\u001b[38;5;241m=\u001b[39m\u001b[38;5;28;01mTrue\u001b[39;00m, scaley\u001b[38;5;241m=\u001b[39m\u001b[38;5;28;01mTrue\u001b[39;00m, data\u001b[38;5;241m=\u001b[39m\u001b[38;5;28;01mNone\u001b[39;00m, \u001b[38;5;241m*\u001b[39m\u001b[38;5;241m*\u001b[39mkwargs):\n\u001b[0;32m-> 2757\u001b[0m     \u001b[38;5;28;01mreturn\u001b[39;00m \u001b[43mgca\u001b[49m\u001b[43m(\u001b[49m\u001b[43m)\u001b[49m\u001b[38;5;241;43m.\u001b[39;49m\u001b[43mplot\u001b[49m\u001b[43m(\u001b[49m\n\u001b[1;32m   2758\u001b[0m \u001b[43m        \u001b[49m\u001b[38;5;241;43m*\u001b[39;49m\u001b[43margs\u001b[49m\u001b[43m,\u001b[49m\u001b[43m \u001b[49m\u001b[43mscalex\u001b[49m\u001b[38;5;241;43m=\u001b[39;49m\u001b[43mscalex\u001b[49m\u001b[43m,\u001b[49m\u001b[43m \u001b[49m\u001b[43mscaley\u001b[49m\u001b[38;5;241;43m=\u001b[39;49m\u001b[43mscaley\u001b[49m\u001b[43m,\u001b[49m\n\u001b[1;32m   2759\u001b[0m \u001b[43m        \u001b[49m\u001b[38;5;241;43m*\u001b[39;49m\u001b[38;5;241;43m*\u001b[39;49m\u001b[43m(\u001b[49m\u001b[43m{\u001b[49m\u001b[38;5;124;43m\"\u001b[39;49m\u001b[38;5;124;43mdata\u001b[39;49m\u001b[38;5;124;43m\"\u001b[39;49m\u001b[43m:\u001b[49m\u001b[43m \u001b[49m\u001b[43mdata\u001b[49m\u001b[43m}\u001b[49m\u001b[43m \u001b[49m\u001b[38;5;28;43;01mif\u001b[39;49;00m\u001b[43m \u001b[49m\u001b[43mdata\u001b[49m\u001b[43m \u001b[49m\u001b[38;5;129;43;01mis\u001b[39;49;00m\u001b[43m \u001b[49m\u001b[38;5;129;43;01mnot\u001b[39;49;00m\u001b[43m \u001b[49m\u001b[38;5;28;43;01mNone\u001b[39;49;00m\u001b[43m \u001b[49m\u001b[38;5;28;43;01melse\u001b[39;49;00m\u001b[43m \u001b[49m\u001b[43m{\u001b[49m\u001b[43m}\u001b[49m\u001b[43m)\u001b[49m\u001b[43m,\u001b[49m\u001b[43m \u001b[49m\u001b[38;5;241;43m*\u001b[39;49m\u001b[38;5;241;43m*\u001b[39;49m\u001b[43mkwargs\u001b[49m\u001b[43m)\u001b[49m\n",
      "File \u001b[0;32m~/opt/anaconda3/lib/python3.9/site-packages/matplotlib/axes/_axes.py:1632\u001b[0m, in \u001b[0;36mAxes.plot\u001b[0;34m(self, scalex, scaley, data, *args, **kwargs)\u001b[0m\n\u001b[1;32m   1390\u001b[0m \u001b[38;5;124;03m\"\"\"\u001b[39;00m\n\u001b[1;32m   1391\u001b[0m \u001b[38;5;124;03mPlot y versus x as lines and/or markers.\u001b[39;00m\n\u001b[1;32m   1392\u001b[0m \n\u001b[0;32m   (...)\u001b[0m\n\u001b[1;32m   1629\u001b[0m \u001b[38;5;124;03m(``'green'``) or hex strings (``'#008000'``).\u001b[39;00m\n\u001b[1;32m   1630\u001b[0m \u001b[38;5;124;03m\"\"\"\u001b[39;00m\n\u001b[1;32m   1631\u001b[0m kwargs \u001b[38;5;241m=\u001b[39m cbook\u001b[38;5;241m.\u001b[39mnormalize_kwargs(kwargs, mlines\u001b[38;5;241m.\u001b[39mLine2D)\n\u001b[0;32m-> 1632\u001b[0m lines \u001b[38;5;241m=\u001b[39m [\u001b[38;5;241m*\u001b[39m\u001b[38;5;28mself\u001b[39m\u001b[38;5;241m.\u001b[39m_get_lines(\u001b[38;5;241m*\u001b[39margs, data\u001b[38;5;241m=\u001b[39mdata, \u001b[38;5;241m*\u001b[39m\u001b[38;5;241m*\u001b[39mkwargs)]\n\u001b[1;32m   1633\u001b[0m \u001b[38;5;28;01mfor\u001b[39;00m line \u001b[38;5;129;01min\u001b[39;00m lines:\n\u001b[1;32m   1634\u001b[0m     \u001b[38;5;28mself\u001b[39m\u001b[38;5;241m.\u001b[39madd_line(line)\n",
      "File \u001b[0;32m~/opt/anaconda3/lib/python3.9/site-packages/matplotlib/axes/_base.py:312\u001b[0m, in \u001b[0;36m_process_plot_var_args.__call__\u001b[0;34m(self, data, *args, **kwargs)\u001b[0m\n\u001b[1;32m    310\u001b[0m     this \u001b[38;5;241m+\u001b[39m\u001b[38;5;241m=\u001b[39m args[\u001b[38;5;241m0\u001b[39m],\n\u001b[1;32m    311\u001b[0m     args \u001b[38;5;241m=\u001b[39m args[\u001b[38;5;241m1\u001b[39m:]\n\u001b[0;32m--> 312\u001b[0m \u001b[38;5;28;01myield from\u001b[39;00m \u001b[38;5;28;43mself\u001b[39;49m\u001b[38;5;241;43m.\u001b[39;49m\u001b[43m_plot_args\u001b[49m\u001b[43m(\u001b[49m\u001b[43mthis\u001b[49m\u001b[43m,\u001b[49m\u001b[43m \u001b[49m\u001b[43mkwargs\u001b[49m\u001b[43m)\u001b[49m\n",
      "File \u001b[0;32m~/opt/anaconda3/lib/python3.9/site-packages/matplotlib/axes/_base.py:498\u001b[0m, in \u001b[0;36m_process_plot_var_args._plot_args\u001b[0;34m(self, tup, kwargs, return_kwargs)\u001b[0m\n\u001b[1;32m    495\u001b[0m     \u001b[38;5;28mself\u001b[39m\u001b[38;5;241m.\u001b[39maxes\u001b[38;5;241m.\u001b[39myaxis\u001b[38;5;241m.\u001b[39mupdate_units(y)\n\u001b[1;32m    497\u001b[0m \u001b[38;5;28;01mif\u001b[39;00m x\u001b[38;5;241m.\u001b[39mshape[\u001b[38;5;241m0\u001b[39m] \u001b[38;5;241m!=\u001b[39m y\u001b[38;5;241m.\u001b[39mshape[\u001b[38;5;241m0\u001b[39m]:\n\u001b[0;32m--> 498\u001b[0m     \u001b[38;5;28;01mraise\u001b[39;00m \u001b[38;5;167;01mValueError\u001b[39;00m(\u001b[38;5;124mf\u001b[39m\u001b[38;5;124m\"\u001b[39m\u001b[38;5;124mx and y must have same first dimension, but \u001b[39m\u001b[38;5;124m\"\u001b[39m\n\u001b[1;32m    499\u001b[0m                      \u001b[38;5;124mf\u001b[39m\u001b[38;5;124m\"\u001b[39m\u001b[38;5;124mhave shapes \u001b[39m\u001b[38;5;132;01m{\u001b[39;00mx\u001b[38;5;241m.\u001b[39mshape\u001b[38;5;132;01m}\u001b[39;00m\u001b[38;5;124m and \u001b[39m\u001b[38;5;132;01m{\u001b[39;00my\u001b[38;5;241m.\u001b[39mshape\u001b[38;5;132;01m}\u001b[39;00m\u001b[38;5;124m\"\u001b[39m)\n\u001b[1;32m    500\u001b[0m \u001b[38;5;28;01mif\u001b[39;00m x\u001b[38;5;241m.\u001b[39mndim \u001b[38;5;241m>\u001b[39m \u001b[38;5;241m2\u001b[39m \u001b[38;5;129;01mor\u001b[39;00m y\u001b[38;5;241m.\u001b[39mndim \u001b[38;5;241m>\u001b[39m \u001b[38;5;241m2\u001b[39m:\n\u001b[1;32m    501\u001b[0m     \u001b[38;5;28;01mraise\u001b[39;00m \u001b[38;5;167;01mValueError\u001b[39;00m(\u001b[38;5;124mf\u001b[39m\u001b[38;5;124m\"\u001b[39m\u001b[38;5;124mx and y can be no greater than 2D, but have \u001b[39m\u001b[38;5;124m\"\u001b[39m\n\u001b[1;32m    502\u001b[0m                      \u001b[38;5;124mf\u001b[39m\u001b[38;5;124m\"\u001b[39m\u001b[38;5;124mshapes \u001b[39m\u001b[38;5;132;01m{\u001b[39;00mx\u001b[38;5;241m.\u001b[39mshape\u001b[38;5;132;01m}\u001b[39;00m\u001b[38;5;124m and \u001b[39m\u001b[38;5;132;01m{\u001b[39;00my\u001b[38;5;241m.\u001b[39mshape\u001b[38;5;132;01m}\u001b[39;00m\u001b[38;5;124m\"\u001b[39m)\n",
      "\u001b[0;31mValueError\u001b[0m: x and y must have same first dimension, but have shapes torch.Size([200]) and torch.Size([50])"
     ]
    },
    {
     "data": {
      "image/png": "[encoded data removed]",
      "text/plain": [
       "<Figure size 640x480 with 1 Axes>"
      ]
     },
     "metadata": {},
     "output_type": "display_data"
    }
   ],
   "source": [
    "real = torch.zeros(int(len(labels[0])/2)+1)\n",
    "image = torch.zeros(int(len(labels[0])/2)+1)\n",
    "for i in range(len(labels[0])):\n",
    "    if i%2 ==0:\n",
    "        real[int(i/2)] = labels[0][i]\n",
    "    else:\n",
    "        image[int((i+1)/2)] = labels[0][i]\n",
    "real = real[0:50]\n",
    "plt.plot(t,real)"
   ]
  },
  {
   "cell_type": "code",
   "execution_count": null,
   "id": "11c145dd",
   "metadata": {},
   "outputs": [],
   "source": []
  }
 ],
 "metadata": {
  "kernelspec": {
   "display_name": "Python 3 (ipykernel)",
   "language": "python",
   "name": "python3"
  },
  "language_info": {
   "codemirror_mode": {
    "name": "ipython",
    "version": 3
   },
   "file_extension": ".py",
   "mimetype": "text/x-python",
   "name": "python",
   "nbconvert_exporter": "python",
   "pygments_lexer": "ipython3",
   "version": "3.9.12"
  }
 },
 "nbformat": 4,
 "nbformat_minor": 5
}
